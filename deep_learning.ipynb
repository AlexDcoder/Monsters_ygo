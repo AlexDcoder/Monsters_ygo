{
 "cells": [
  {
   "cell_type": "code",
   "execution_count": 21,
   "id": "73cdb515",
   "metadata": {},
   "outputs": [],
   "source": [
    "import torch\n",
    "import numpy as np\n",
    "import pandas as pd\n",
    "import torch.nn as nn\n",
    "import torch.optim as optim\n",
    "import matplotlib.pyplot as plt\n",
    "import plotly.graph_objects as go\n",
    "import plotly.figure_factory as ff\n",
    "from time import sleep\n",
    "from plotly.subplots import make_subplots\n",
    "from torch.utils.data import DataLoader\n",
    "from torchvision import transforms, models\n",
    "from sklearn.preprocessing import LabelEncoder\n",
    "from sklearn.model_selection import train_test_split\n",
    "from utils.training import validate_epoch, train_epoch\n",
    "from utils.dataset_generator import YuGiOhDatasetDataFrame\n",
    "from sklearn.metrics import classification_report, confusion_matrix"
   ]
  },
  {
   "cell_type": "code",
   "execution_count": 22,
   "id": "4e53c43f",
   "metadata": {},
   "outputs": [
    {
     "name": "stdout",
     "output_type": "stream",
     "text": [
      "Usando dispositivo: cpu\n"
     ]
    }
   ],
   "source": [
    "device = torch.device('cuda' if torch.cuda.is_available() else 'cpu')\n",
    "print(f'Usando dispositivo: {device}')"
   ]
  },
  {
   "cell_type": "code",
   "execution_count": 23,
   "id": "471ad38e",
   "metadata": {},
   "outputs": [
    {
     "data": {
      "application/vnd.microsoft.datawrangler.viewer.v0+json": {
       "columns": [
        {
         "name": "index",
         "rawType": "int64",
         "type": "integer"
        },
        {
         "name": "id",
         "rawType": "int64",
         "type": "integer"
        },
        {
         "name": "nome",
         "rawType": "object",
         "type": "string"
        },
        {
         "name": "raca",
         "rawType": "object",
         "type": "string"
        },
        {
         "name": "caminho_imagem",
         "rawType": "object",
         "type": "string"
        }
       ],
       "ref": "8159472c-b604-4d5c-a9cb-92acdfd9f64e",
       "rows": [
        [
         "0",
         "11714098",
         "30,000-Year White Turtle",
         "Aqua",
         "imagens\\Aqua\\11714098.jpg"
        ],
        [
         "1",
         "18318842",
         "Abyss Soldier",
         "Aqua",
         "imagens\\Aqua\\18318842.jpg"
        ],
        [
         "2",
         "88409165",
         "Abyss Warrior",
         "Aqua",
         "imagens\\Aqua\\88409165.jpg"
        ],
        [
         "3",
         "17080584",
         "Abyssrhine, the Atlantean Spirit",
         "Aqua",
         "imagens\\Aqua\\17080584.jpg"
        ],
        [
         "4",
         "46358784",
         "Advanced Crystal Beast Emerald Tortoise",
         "Aqua",
         "imagens\\Aqua\\46358784.jpg"
        ],
        [
         "5",
         "36904469",
         "Akihiron",
         "Aqua",
         "imagens\\Aqua\\36904469.jpg"
        ],
        [
         "6",
         "95174353",
         "Ameba",
         "Aqua",
         "imagens\\Aqua\\95174353.jpg"
        ],
        [
         "7",
         "40173854",
         "Amphibious Bugroth",
         "Aqua",
         "imagens\\Aqua\\40173854.jpg"
        ],
        [
         "8",
         "12436646",
         "Aqua Snake",
         "Aqua",
         "imagens\\Aqua\\12436646.jpg"
        ],
        [
         "9",
         "40916023",
         "Aqua Spirit",
         "Aqua",
         "imagens\\Aqua\\40916023.jpg"
        ],
        [
         "10",
         "92053608",
         "Aquaactress Arowana",
         "Aqua",
         "imagens\\Aqua\\92053608.jpg"
        ],
        [
         "11",
         "66668900",
         "Aquaactress Guppy",
         "Aqua",
         "imagens\\Aqua\\66668900.jpg"
        ],
        [
         "12",
         "39260991",
         "Aquaactress Tetra",
         "Aqua",
         "imagens\\Aqua\\39260991.jpg"
        ],
        [
         "13",
         "22377815",
         "Aquarian Alessa",
         "Aqua",
         "imagens\\Aqua\\22377815.jpg"
        ],
        [
         "14",
         "36151751",
         "Arma Knight",
         "Aqua",
         "imagens\\Aqua\\36151751.jpg"
        ],
        [
         "15",
         "17535588",
         "Armored Starfish",
         "Aqua",
         "imagens\\Aqua\\17535588.jpg"
        ],
        [
         "16",
         "7913375",
         "Artillery Catapult Turtle",
         "Aqua",
         "imagens\\Aqua\\7913375.jpg"
        ],
        [
         "17",
         "10963799",
         "Barrier Statue of the Torrent",
         "Aqua",
         "imagens\\Aqua\\10963799.jpg"
        ],
        [
         "18",
         "99426834",
         "Beastking of the Swamps",
         "Aqua",
         "imagens\\Aqua\\99426834.jpg"
        ],
        [
         "19",
         "49522489",
         "Beelze Frog",
         "Aqua",
         "imagens\\Aqua\\49522489.jpg"
        ],
        [
         "20",
         "94022093",
         "Behegon",
         "Aqua",
         "imagens\\Aqua\\94022093.jpg"
        ],
        [
         "21",
         "60161788",
         "Blizzed, Defender of the Ice Barrier",
         "Aqua",
         "imagens\\Aqua\\60161788.jpg"
        ],
        [
         "22",
         "98456117",
         "Boneheimer",
         "Aqua",
         "imagens\\Aqua\\98456117.jpg"
        ],
        [
         "23",
         "9540040",
         "Boulder Tortoise",
         "Aqua",
         "imagens\\Aqua\\9540040.jpg"
        ],
        [
         "24",
         "95614612",
         "Cannonball Spear Shellfish",
         "Aqua",
         "imagens\\Aqua\\95614612.jpg"
        ],
        [
         "25",
         "95727991",
         "Catapult Turtle",
         "Aqua",
         "imagens\\Aqua\\95727991.jpg"
        ],
        [
         "26",
         "47346782",
         "Centerfrog",
         "Aqua",
         "imagens\\Aqua\\47346782.jpg"
        ],
        [
         "27",
         "18914778",
         "Change Slime",
         "Aqua",
         "imagens\\Aqua\\18914778.jpg"
        ],
        [
         "28",
         "81599449",
         "Chemicritter Carbo Crab",
         "Aqua",
         "imagens\\Aqua\\81599449.jpg"
        ],
        [
         "29",
         "57610714",
         "Cloudian - Eye of the Typhoon",
         "Aqua",
         "imagens\\Aqua\\57610714.jpg"
        ],
        [
         "30",
         "24661486",
         "Cold Enchanter",
         "Aqua",
         "imagens\\Aqua\\24661486.jpg"
        ],
        [
         "31",
         "91782219",
         "Crab Turtle",
         "Aqua",
         "imagens\\Aqua\\91782219.jpg"
        ],
        [
         "32",
         "23950192",
         "Cryomancer of the Ice Barrier",
         "Aqua",
         "imagens\\Aqua\\23950192.jpg"
        ],
        [
         "33",
         "68215963",
         "Crystal Beast Emerald Tortoise",
         "Aqua",
         "imagens\\Aqua\\68215963.jpg"
        ],
        [
         "34",
         "86999951",
         "Crystal God Tistina",
         "Aqua",
         "imagens\\Aqua\\86999951.jpg"
        ],
        [
         "35",
         "61374414",
         "CXyz N.As.Ch. Knight",
         "Aqua",
         "imagens\\Aqua\\61374414.jpg"
        ],
        [
         "36",
         "9910360",
         "D.3.S. Frog",
         "Aqua",
         "imagens\\Aqua\\9910360.jpg"
        ],
        [
         "37",
         "70711847",
         "Danger! Nessie!",
         "Aqua",
         "imagens\\Aqua\\70711847.jpg"
        ],
        [
         "38",
         "17559367",
         "Deep Diver",
         "Aqua",
         "imagens\\Aqua\\17559367.jpg"
        ],
        [
         "39",
         "82498947",
         "Defender of the Ice Barrier",
         "Aqua",
         "imagens\\Aqua\\82498947.jpg"
        ],
        [
         "40",
         "59504256",
         "Demigod of the Tistina",
         "Aqua",
         "imagens\\Aqua\\59504256.jpg"
        ],
        [
         "41",
         "84451804",
         "Des Frog",
         "Aqua",
         "imagens\\Aqua\\84451804.jpg"
        ],
        [
         "42",
         "90311614",
         "Dewdark of the Ice Barrier",
         "Aqua",
         "imagens\\Aqua\\90311614.jpg"
        ],
        [
         "43",
         "69436288",
         "Doom Kraken",
         "Aqua",
         "imagens\\Aqua\\69436288.jpg"
        ],
        [
         "44",
         "24194033",
         "Dorover",
         "Aqua",
         "imagens\\Aqua\\24194033.jpg"
        ],
        [
         "45",
         "24137081",
         "Drill Barnacle",
         "Aqua",
         "imagens\\Aqua\\24137081.jpg"
        ],
        [
         "46",
         "46239604",
         "Dupe Frog",
         "Aqua",
         "imagens\\Aqua\\46239604.jpg"
        ],
        [
         "47",
         "42166000",
         "Egyptian God Slime",
         "Aqua",
         "imagens\\Aqua\\42166000.jpg"
        ],
        [
         "48",
         "95824983",
         "Electric Jellyfish",
         "Aqua",
         "imagens\\Aqua\\95824983.jpg"
        ],
        [
         "49",
         "24326617",
         "Escher the Frost Vassal",
         "Aqua",
         "imagens\\Aqua\\24326617.jpg"
        ]
       ],
       "shape": {
        "columns": 4,
        "rows": 8524
       }
      },
      "text/html": [
       "<div>\n",
       "<style scoped>\n",
       "    .dataframe tbody tr th:only-of-type {\n",
       "        vertical-align: middle;\n",
       "    }\n",
       "\n",
       "    .dataframe tbody tr th {\n",
       "        vertical-align: top;\n",
       "    }\n",
       "\n",
       "    .dataframe thead th {\n",
       "        text-align: right;\n",
       "    }\n",
       "</style>\n",
       "<table border=\"1\" class=\"dataframe\">\n",
       "  <thead>\n",
       "    <tr style=\"text-align: right;\">\n",
       "      <th></th>\n",
       "      <th>id</th>\n",
       "      <th>nome</th>\n",
       "      <th>raca</th>\n",
       "      <th>caminho_imagem</th>\n",
       "    </tr>\n",
       "  </thead>\n",
       "  <tbody>\n",
       "    <tr>\n",
       "      <th>0</th>\n",
       "      <td>11714098</td>\n",
       "      <td>30,000-Year White Turtle</td>\n",
       "      <td>Aqua</td>\n",
       "      <td>imagens\\Aqua\\11714098.jpg</td>\n",
       "    </tr>\n",
       "    <tr>\n",
       "      <th>1</th>\n",
       "      <td>18318842</td>\n",
       "      <td>Abyss Soldier</td>\n",
       "      <td>Aqua</td>\n",
       "      <td>imagens\\Aqua\\18318842.jpg</td>\n",
       "    </tr>\n",
       "    <tr>\n",
       "      <th>2</th>\n",
       "      <td>88409165</td>\n",
       "      <td>Abyss Warrior</td>\n",
       "      <td>Aqua</td>\n",
       "      <td>imagens\\Aqua\\88409165.jpg</td>\n",
       "    </tr>\n",
       "    <tr>\n",
       "      <th>3</th>\n",
       "      <td>17080584</td>\n",
       "      <td>Abyssrhine, the Atlantean Spirit</td>\n",
       "      <td>Aqua</td>\n",
       "      <td>imagens\\Aqua\\17080584.jpg</td>\n",
       "    </tr>\n",
       "    <tr>\n",
       "      <th>4</th>\n",
       "      <td>46358784</td>\n",
       "      <td>Advanced Crystal Beast Emerald Tortoise</td>\n",
       "      <td>Aqua</td>\n",
       "      <td>imagens\\Aqua\\46358784.jpg</td>\n",
       "    </tr>\n",
       "    <tr>\n",
       "      <th>...</th>\n",
       "      <td>...</td>\n",
       "      <td>...</td>\n",
       "      <td>...</td>\n",
       "      <td>...</td>\n",
       "    </tr>\n",
       "    <tr>\n",
       "      <th>8519</th>\n",
       "      <td>85065943</td>\n",
       "      <td>Saint Azamina</td>\n",
       "      <td>Illusion</td>\n",
       "      <td>imagens\\Illusion\\85065943.jpg</td>\n",
       "    </tr>\n",
       "    <tr>\n",
       "      <th>8520</th>\n",
       "      <td>1528054</td>\n",
       "      <td>Silhouhatte Rabbit</td>\n",
       "      <td>Illusion</td>\n",
       "      <td>imagens\\Illusion\\1528054.jpg</td>\n",
       "    </tr>\n",
       "    <tr>\n",
       "      <th>8521</th>\n",
       "      <td>74150658</td>\n",
       "      <td>Talons of Shurilane</td>\n",
       "      <td>Illusion</td>\n",
       "      <td>imagens\\Illusion\\74150658.jpg</td>\n",
       "    </tr>\n",
       "    <tr>\n",
       "      <th>8522</th>\n",
       "      <td>9275482</td>\n",
       "      <td>UFOLight</td>\n",
       "      <td>Illusion</td>\n",
       "      <td>imagens\\Illusion\\9275482.jpg</td>\n",
       "    </tr>\n",
       "    <tr>\n",
       "      <th>8523</th>\n",
       "      <td>36974120</td>\n",
       "      <td>Vouiburial, the Dragon Undertaker</td>\n",
       "      <td>Illusion</td>\n",
       "      <td>imagens\\Illusion\\36974120.jpg</td>\n",
       "    </tr>\n",
       "  </tbody>\n",
       "</table>\n",
       "<p>8524 rows × 4 columns</p>\n",
       "</div>"
      ],
      "text/plain": [
       "            id                                     nome      raca  \\\n",
       "0     11714098                 30,000-Year White Turtle      Aqua   \n",
       "1     18318842                            Abyss Soldier      Aqua   \n",
       "2     88409165                            Abyss Warrior      Aqua   \n",
       "3     17080584         Abyssrhine, the Atlantean Spirit      Aqua   \n",
       "4     46358784  Advanced Crystal Beast Emerald Tortoise      Aqua   \n",
       "...        ...                                      ...       ...   \n",
       "8519  85065943                            Saint Azamina  Illusion   \n",
       "8520   1528054                       Silhouhatte Rabbit  Illusion   \n",
       "8521  74150658                      Talons of Shurilane  Illusion   \n",
       "8522   9275482                                 UFOLight  Illusion   \n",
       "8523  36974120        Vouiburial, the Dragon Undertaker  Illusion   \n",
       "\n",
       "                     caminho_imagem  \n",
       "0         imagens\\Aqua\\11714098.jpg  \n",
       "1         imagens\\Aqua\\18318842.jpg  \n",
       "2         imagens\\Aqua\\88409165.jpg  \n",
       "3         imagens\\Aqua\\17080584.jpg  \n",
       "4         imagens\\Aqua\\46358784.jpg  \n",
       "...                             ...  \n",
       "8519  imagens\\Illusion\\85065943.jpg  \n",
       "8520   imagens\\Illusion\\1528054.jpg  \n",
       "8521  imagens\\Illusion\\74150658.jpg  \n",
       "8522   imagens\\Illusion\\9275482.jpg  \n",
       "8523  imagens\\Illusion\\36974120.jpg  \n",
       "\n",
       "[8524 rows x 4 columns]"
      ]
     },
     "execution_count": 23,
     "metadata": {},
     "output_type": "execute_result"
    }
   ],
   "source": [
    "df = pd.read_csv('db\\\\dados_cartas_yugioh.csv', encoding='utf-8')\n",
    "df"
   ]
  },
  {
   "cell_type": "code",
   "execution_count": 24,
   "id": "2418d695",
   "metadata": {},
   "outputs": [
    {
     "name": "stdout",
     "output_type": "stream",
     "text": [
      "Número de classes: 24\n"
     ]
    }
   ],
   "source": [
    "label_encoder = LabelEncoder()\n",
    "df['label'] = label_encoder.fit_transform(df['raca'])\n",
    "num_classes = len(label_encoder.classes_)\n",
    "print(f'Número de classes: {num_classes}')"
   ]
  },
  {
   "cell_type": "code",
   "execution_count": 25,
   "id": "c635d53e",
   "metadata": {},
   "outputs": [],
   "source": [
    "train_transform = transforms.Compose([\n",
    "    transforms.Resize((224, 224)),\n",
    "    transforms.RandomHorizontalFlip(p=0.5),\n",
    "    transforms.RandomRotation(10),\n",
    "    transforms.ColorJitter(brightness=0.2, contrast=0.2, saturation=0.2, hue=0.1),\n",
    "    transforms.ToTensor(),\n",
    "    transforms.Normalize(mean=[0.485, 0.456, 0.406], std=[0.229, 0.224, 0.225])\n",
    "])\n",
    "\n",
    "val_transform = transforms.Compose([\n",
    "    transforms.Resize((224, 224)),\n",
    "    transforms.ToTensor(),\n",
    "    transforms.Normalize(mean=[0.485, 0.456, 0.406], std=[0.229, 0.224, 0.225])\n",
    "])"
   ]
  },
  {
   "cell_type": "code",
   "execution_count": 26,
   "id": "52c289ec",
   "metadata": {},
   "outputs": [
    {
     "name": "stdout",
     "output_type": "stream",
     "text": [
      "Treinamento: 6819 imagens\n",
      "Validação: 1705 imagens\n"
     ]
    }
   ],
   "source": [
    "train_df, val_df = train_test_split(df, test_size=0.2, stratify=df['raca'], random_state=42)\n",
    "print(f'Treinamento: {len(train_df)} imagens')\n",
    "print(f'Validação: {len(val_df)} imagens')"
   ]
  },
  {
   "cell_type": "code",
   "execution_count": 27,
   "id": "b3638abb",
   "metadata": {},
   "outputs": [],
   "source": [
    "train_dataset = YuGiOhDatasetDataFrame(train_df, transform=train_transform)\n",
    "val_dataset = YuGiOhDatasetDataFrame(val_df, transform=val_transform)\n",
    "\n",
    "batch_size = 32\n",
    "train_loader = DataLoader(train_dataset, batch_size=batch_size, shuffle=True, num_workers=4)\n",
    "val_loader = DataLoader(val_dataset, batch_size=batch_size, shuffle=False, num_workers=4)"
   ]
  },
  {
   "cell_type": "code",
   "execution_count": 28,
   "id": "f1d6e13c",
   "metadata": {},
   "outputs": [
    {
     "name": "stderr",
     "output_type": "stream",
     "text": [
      "c:\\Users\\User\\Codes\\Data Science\\ygo_data\\venv\\Lib\\site-packages\\torchvision\\models\\_utils.py:208: UserWarning: The parameter 'pretrained' is deprecated since 0.13 and may be removed in the future, please use 'weights' instead.\n",
      "  warnings.warn(\n",
      "c:\\Users\\User\\Codes\\Data Science\\ygo_data\\venv\\Lib\\site-packages\\torchvision\\models\\_utils.py:223: UserWarning: Arguments other than a weight enum or `None` for 'weights' are deprecated since 0.13 and may be removed in the future. The current behavior is equivalent to passing `weights=ResNet18_Weights.IMAGENET1K_V1`. You can also use `weights=ResNet18_Weights.DEFAULT` to get the most up-to-date weights.\n",
      "  warnings.warn(msg)\n"
     ]
    }
   ],
   "source": [
    "model = models.resnet18(pretrained=True)\n",
    "model.fc = nn.Linear(model.fc.in_features, num_classes)\n",
    "model = model.to(device)\n",
    "\n",
    "# Função de perda e otimizador\n",
    "criterion = nn.CrossEntropyLoss()\n",
    "# Otimizador Adam com learning rate 0.001\n",
    "optimizer = optim.Adam(model.parameters(), lr=0.001, weight_decay=1e-4)\n",
    "# Scheduler para diminuir learning rate ao longo do tempo\n",
    "scheduler = optim.lr_scheduler.StepLR(optimizer, step_size=10, gamma=0.1)"
   ]
  },
  {
   "cell_type": "code",
   "execution_count": 29,
   "id": "0fba6a8c",
   "metadata": {},
   "outputs": [
    {
     "name": "stdout",
     "output_type": "stream",
     "text": [
      "Iniciando treinamento...\n",
      "Epoch [1/25]\n",
      "Train Loss: 2.7988, Train Acc: 17.01%\n",
      "Val Loss: 2.9675, Val Acc: 19.82%\n",
      "--------------------------------------------------\n",
      "Epoch [2/25]\n",
      "Train Loss: 2.6241, Train Acc: 22.19%\n",
      "Val Loss: 2.9077, Val Acc: 17.30%\n",
      "--------------------------------------------------\n",
      "Epoch [3/25]\n",
      "Train Loss: 2.5100, Train Acc: 24.81%\n",
      "Val Loss: 2.6565, Val Acc: 23.34%\n",
      "--------------------------------------------------\n",
      "Epoch [4/25]\n",
      "Train Loss: 2.4298, Train Acc: 27.56%\n",
      "Val Loss: 2.8498, Val Acc: 19.77%\n",
      "--------------------------------------------------\n",
      "Epoch [5/25]\n",
      "Train Loss: 2.3689, Train Acc: 28.52%\n",
      "Val Loss: 2.5075, Val Acc: 25.87%\n",
      "--------------------------------------------------\n",
      "Epoch [6/25]\n",
      "Train Loss: 2.3127, Train Acc: 30.90%\n",
      "Val Loss: 3.1645, Val Acc: 19.53%\n",
      "--------------------------------------------------\n",
      "Epoch [7/25]\n",
      "Train Loss: 2.2253, Train Acc: 33.01%\n",
      "Val Loss: 2.5071, Val Acc: 27.39%\n",
      "--------------------------------------------------\n",
      "Epoch [8/25]\n",
      "Train Loss: 2.1762, Train Acc: 34.52%\n",
      "Val Loss: 2.4442, Val Acc: 26.04%\n",
      "--------------------------------------------------\n",
      "Epoch [9/25]\n",
      "Train Loss: 2.1021, Train Acc: 37.35%\n",
      "Val Loss: 2.7164, Val Acc: 26.92%\n",
      "--------------------------------------------------\n",
      "Epoch [10/25]\n",
      "Train Loss: 2.0404, Train Acc: 38.33%\n",
      "Val Loss: 2.9852, Val Acc: 24.75%\n",
      "--------------------------------------------------\n",
      "Epoch [11/25]\n",
      "Train Loss: 1.7080, Train Acc: 47.85%\n",
      "Val Loss: 2.3766, Val Acc: 32.61%\n",
      "--------------------------------------------------\n",
      "Epoch [12/25]\n",
      "Train Loss: 1.4766, Train Acc: 53.92%\n",
      "Val Loss: 2.4997, Val Acc: 34.43%\n",
      "--------------------------------------------------\n",
      "Epoch [13/25]\n",
      "Train Loss: 1.3487, Train Acc: 58.31%\n",
      "Val Loss: 2.5556, Val Acc: 33.61%\n",
      "--------------------------------------------------\n",
      "Epoch [14/25]\n",
      "Train Loss: 1.2442, Train Acc: 61.48%\n",
      "Val Loss: 2.6335, Val Acc: 32.38%\n",
      "--------------------------------------------------\n",
      "Epoch [15/25]\n",
      "Train Loss: 1.1360, Train Acc: 64.60%\n",
      "Val Loss: 2.6716, Val Acc: 32.08%\n",
      "--------------------------------------------------\n",
      "Epoch [16/25]\n",
      "Train Loss: 1.0305, Train Acc: 68.35%\n",
      "Val Loss: 2.7517, Val Acc: 33.37%\n",
      "--------------------------------------------------\n",
      "Epoch [17/25]\n",
      "Train Loss: 0.9449, Train Acc: 70.66%\n",
      "Val Loss: 2.8799, Val Acc: 32.08%\n",
      "--------------------------------------------------\n",
      "Epoch [18/25]\n",
      "Train Loss: 0.8370, Train Acc: 75.30%\n",
      "Val Loss: 2.8910, Val Acc: 31.67%\n",
      "--------------------------------------------------\n",
      "Epoch [19/25]\n",
      "Train Loss: 0.7405, Train Acc: 78.25%\n",
      "Val Loss: 2.9975, Val Acc: 29.85%\n",
      "--------------------------------------------------\n",
      "Epoch [20/25]\n",
      "Train Loss: 0.6474, Train Acc: 81.11%\n",
      "Val Loss: 3.0554, Val Acc: 30.56%\n",
      "--------------------------------------------------\n",
      "Epoch [21/25]\n",
      "Train Loss: 0.5288, Train Acc: 85.44%\n",
      "Val Loss: 3.0363, Val Acc: 30.85%\n",
      "--------------------------------------------------\n",
      "Epoch [22/25]\n",
      "Train Loss: 0.5005, Train Acc: 86.41%\n",
      "Val Loss: 3.0065, Val Acc: 31.14%\n",
      "--------------------------------------------------\n",
      "Epoch [23/25]\n",
      "Train Loss: 0.4773, Train Acc: 86.86%\n",
      "Val Loss: 3.0769, Val Acc: 30.91%\n",
      "--------------------------------------------------\n",
      "Epoch [24/25]\n",
      "Train Loss: 0.4593, Train Acc: 88.17%\n",
      "Val Loss: 3.0175, Val Acc: 30.67%\n",
      "--------------------------------------------------\n",
      "Epoch [25/25]\n",
      "Train Loss: 0.4526, Train Acc: 88.06%\n",
      "Val Loss: 3.0264, Val Acc: 30.67%\n",
      "--------------------------------------------------\n",
      "Treinamento concluído.\n"
     ]
    }
   ],
   "source": [
    "num_epochs = 25\n",
    "train_losses = []\n",
    "train_accuracies = []\n",
    "val_losses = []\n",
    "val_accuracies = []\n",
    "\n",
    "print(\"Iniciando treinamento...\")\n",
    "for epoch in range(num_epochs):\n",
    "    train_loss, train_acc = train_epoch(model, train_loader, criterion, optimizer, device)\n",
    "    val_loss, val_acc = validate_epoch(model, val_loader, criterion, device)\n",
    "    \n",
    "    scheduler.step()\n",
    "    \n",
    "    train_losses.append(train_loss)\n",
    "    train_accuracies.append(train_acc)\n",
    "    val_losses.append(val_loss)\n",
    "    val_accuracies.append(val_acc)\n",
    "    \n",
    "    print(f'Epoch [{epoch+1}/{num_epochs}]')\n",
    "    print(f'Train Loss: {train_loss:.4f}, Train Acc: {train_acc:.2f}%')\n",
    "    print(f'Val Loss: {val_loss:.4f}, Val Acc: {val_acc:.2f}%')\n",
    "    print('-' * 50)\n",
    "    sleep(20)\n",
    "\n",
    "print(\"Treinamento concluído.\")"
   ]
  },
  {
   "cell_type": "code",
   "execution_count": 32,
   "id": "02366b4c",
   "metadata": {},
   "outputs": [
    {
     "data": {
      "application/vnd.plotly.v1+json": {
       "config": {
        "plotlyServerURL": "https://plot.ly"
       },
       "data": [
        {
         "line": {
          "color": "#FF6B6B",
          "width": 3
         },
         "marker": {
          "size": 6
         },
         "mode": "lines+markers",
         "name": "Train Loss",
         "type": "scatter",
         "x": [
          1,
          2,
          3,
          4,
          5,
          6,
          7,
          8,
          9,
          10,
          11,
          12,
          13,
          14,
          15,
          16,
          17,
          18,
          19,
          20,
          21,
          22,
          23,
          24,
          25
         ],
         "xaxis": "x",
         "y": [
          2.798769867308786,
          2.6241307670824994,
          2.5099554474108685,
          2.4298223179077434,
          2.368924870669285,
          2.3126892107669437,
          2.225347271589475,
          2.1761569831972922,
          2.1021373695302232,
          2.0403674673811296,
          1.708042672025823,
          1.4765618304225887,
          1.3487158874484981,
          1.2441903269179513,
          1.1359596737077302,
          1.0305272340774536,
          0.9449183041247252,
          0.8370149164834869,
          0.7405019770158785,
          0.6474295581612631,
          0.5288206358379293,
          0.5005331042213975,
          0.47732928221192317,
          0.45933380813520647,
          0.45255383946628214
         ],
         "yaxis": "y"
        },
        {
         "line": {
          "color": "#4ECDC4",
          "width": 3
         },
         "marker": {
          "size": 6
         },
         "mode": "lines+markers",
         "name": "Validation Loss",
         "type": "scatter",
         "x": [
          1,
          2,
          3,
          4,
          5,
          6,
          7,
          8,
          9,
          10,
          11,
          12,
          13,
          14,
          15,
          16,
          17,
          18,
          19,
          20,
          21,
          22,
          23,
          24,
          25
         ],
         "xaxis": "x",
         "y": [
          2.9674593342675104,
          2.9076969314504555,
          2.656486376568123,
          2.8498111654210976,
          2.5075227596141674,
          3.1644579525347107,
          2.5071334419427096,
          2.444198336866167,
          2.7163919806480408,
          2.9852274832902133,
          2.376623222121486,
          2.4997089350665056,
          2.555610020955404,
          2.6335097507194236,
          2.6715865863694086,
          2.7517187065548367,
          2.8798972257861384,
          2.8909774820009866,
          2.9974642153139466,
          3.055427741121363,
          3.0362766009789928,
          3.006511917820683,
          3.076936130170469,
          3.017528666390313,
          3.0263827641805015
         ],
         "yaxis": "y"
        },
        {
         "line": {
          "color": "#45B7D1",
          "width": 3
         },
         "marker": {
          "size": 6
         },
         "mode": "lines+markers",
         "name": "Train Accuracy",
         "type": "scatter",
         "x": [
          1,
          2,
          3,
          4,
          5,
          6,
          7,
          8,
          9,
          10,
          11,
          12,
          13,
          14,
          15,
          16,
          17,
          18,
          19,
          20,
          21,
          22,
          23,
          24,
          25
         ],
         "xaxis": "x2",
         "y": [
          17.011291978295937,
          22.188004106173924,
          24.813022437307524,
          27.55536002346385,
          28.523243877401377,
          30.898958791611673,
          33.010705382020824,
          34.52119079043848,
          37.351517817861854,
          38.33406657867722,
          47.851591142396245,
          53.92286258982256,
          58.30766974629711,
          61.47528963191084,
          64.59891479689104,
          68.35313095761842,
          70.65552133743951,
          75.30429681771521,
          78.25194310016131,
          81.11159994134037,
          85.43774747030356,
          86.40563132424109,
          86.86024343745417,
          88.16542014958205,
          88.06276580143717
         ],
         "yaxis": "y2"
        },
        {
         "line": {
          "color": "#96CEB4",
          "width": 3
         },
         "marker": {
          "size": 6
         },
         "mode": "lines+markers",
         "name": "Validation Accuracy",
         "type": "scatter",
         "x": [
          1,
          2,
          3,
          4,
          5,
          6,
          7,
          8,
          9,
          10,
          11,
          12,
          13,
          14,
          15,
          16,
          17,
          18,
          19,
          20,
          21,
          22,
          23,
          24,
          25
         ],
         "xaxis": "x2",
         "y": [
          19.824046920821115,
          17.302052785923753,
          23.343108504398828,
          19.765395894428153,
          25.865102639296186,
          19.530791788856305,
          27.390029325513197,
          26.041055718475075,
          26.920821114369502,
          24.75073313782991,
          32.6099706744868,
          34.42815249266862,
          33.60703812316716,
          32.375366568914956,
          32.08211143695015,
          33.37243401759531,
          32.08211143695015,
          31.671554252199414,
          29.853372434017594,
          30.55718475073314,
          30.85043988269795,
          31.143695014662757,
          30.90909090909091,
          30.674486803519063,
          30.674486803519063
         ],
         "yaxis": "y2"
        }
       ],
       "layout": {
        "annotations": [
         {
          "font": {
           "size": 16
          },
          "showarrow": false,
          "text": "Perda durante o Treinamento",
          "x": 0.225,
          "xanchor": "center",
          "xref": "paper",
          "y": 1,
          "yanchor": "bottom",
          "yref": "paper"
         },
         {
          "font": {
           "size": 16
          },
          "showarrow": false,
          "text": "Acurácia durante o Treinamento",
          "x": 0.775,
          "xanchor": "center",
          "xref": "paper",
          "y": 1,
          "yanchor": "bottom",
          "yref": "paper"
         }
        ],
        "font": {
         "size": 12
        },
        "height": 500,
        "showlegend": true,
        "template": {
         "data": {
          "bar": [
           {
            "error_x": {
             "color": "#2a3f5f"
            },
            "error_y": {
             "color": "#2a3f5f"
            },
            "marker": {
             "line": {
              "color": "white",
              "width": 0.5
             },
             "pattern": {
              "fillmode": "overlay",
              "size": 10,
              "solidity": 0.2
             }
            },
            "type": "bar"
           }
          ],
          "barpolar": [
           {
            "marker": {
             "line": {
              "color": "white",
              "width": 0.5
             },
             "pattern": {
              "fillmode": "overlay",
              "size": 10,
              "solidity": 0.2
             }
            },
            "type": "barpolar"
           }
          ],
          "carpet": [
           {
            "aaxis": {
             "endlinecolor": "#2a3f5f",
             "gridcolor": "#C8D4E3",
             "linecolor": "#C8D4E3",
             "minorgridcolor": "#C8D4E3",
             "startlinecolor": "#2a3f5f"
            },
            "baxis": {
             "endlinecolor": "#2a3f5f",
             "gridcolor": "#C8D4E3",
             "linecolor": "#C8D4E3",
             "minorgridcolor": "#C8D4E3",
             "startlinecolor": "#2a3f5f"
            },
            "type": "carpet"
           }
          ],
          "choropleth": [
           {
            "colorbar": {
             "outlinewidth": 0,
             "ticks": ""
            },
            "type": "choropleth"
           }
          ],
          "contour": [
           {
            "colorbar": {
             "outlinewidth": 0,
             "ticks": ""
            },
            "colorscale": [
             [
              0,
              "#0d0887"
             ],
             [
              0.1111111111111111,
              "#46039f"
             ],
             [
              0.2222222222222222,
              "#7201a8"
             ],
             [
              0.3333333333333333,
              "#9c179e"
             ],
             [
              0.4444444444444444,
              "#bd3786"
             ],
             [
              0.5555555555555556,
              "#d8576b"
             ],
             [
              0.6666666666666666,
              "#ed7953"
             ],
             [
              0.7777777777777778,
              "#fb9f3a"
             ],
             [
              0.8888888888888888,
              "#fdca26"
             ],
             [
              1,
              "#f0f921"
             ]
            ],
            "type": "contour"
           }
          ],
          "contourcarpet": [
           {
            "colorbar": {
             "outlinewidth": 0,
             "ticks": ""
            },
            "type": "contourcarpet"
           }
          ],
          "heatmap": [
           {
            "colorbar": {
             "outlinewidth": 0,
             "ticks": ""
            },
            "colorscale": [
             [
              0,
              "#0d0887"
             ],
             [
              0.1111111111111111,
              "#46039f"
             ],
             [
              0.2222222222222222,
              "#7201a8"
             ],
             [
              0.3333333333333333,
              "#9c179e"
             ],
             [
              0.4444444444444444,
              "#bd3786"
             ],
             [
              0.5555555555555556,
              "#d8576b"
             ],
             [
              0.6666666666666666,
              "#ed7953"
             ],
             [
              0.7777777777777778,
              "#fb9f3a"
             ],
             [
              0.8888888888888888,
              "#fdca26"
             ],
             [
              1,
              "#f0f921"
             ]
            ],
            "type": "heatmap"
           }
          ],
          "histogram": [
           {
            "marker": {
             "pattern": {
              "fillmode": "overlay",
              "size": 10,
              "solidity": 0.2
             }
            },
            "type": "histogram"
           }
          ],
          "histogram2d": [
           {
            "colorbar": {
             "outlinewidth": 0,
             "ticks": ""
            },
            "colorscale": [
             [
              0,
              "#0d0887"
             ],
             [
              0.1111111111111111,
              "#46039f"
             ],
             [
              0.2222222222222222,
              "#7201a8"
             ],
             [
              0.3333333333333333,
              "#9c179e"
             ],
             [
              0.4444444444444444,
              "#bd3786"
             ],
             [
              0.5555555555555556,
              "#d8576b"
             ],
             [
              0.6666666666666666,
              "#ed7953"
             ],
             [
              0.7777777777777778,
              "#fb9f3a"
             ],
             [
              0.8888888888888888,
              "#fdca26"
             ],
             [
              1,
              "#f0f921"
             ]
            ],
            "type": "histogram2d"
           }
          ],
          "histogram2dcontour": [
           {
            "colorbar": {
             "outlinewidth": 0,
             "ticks": ""
            },
            "colorscale": [
             [
              0,
              "#0d0887"
             ],
             [
              0.1111111111111111,
              "#46039f"
             ],
             [
              0.2222222222222222,
              "#7201a8"
             ],
             [
              0.3333333333333333,
              "#9c179e"
             ],
             [
              0.4444444444444444,
              "#bd3786"
             ],
             [
              0.5555555555555556,
              "#d8576b"
             ],
             [
              0.6666666666666666,
              "#ed7953"
             ],
             [
              0.7777777777777778,
              "#fb9f3a"
             ],
             [
              0.8888888888888888,
              "#fdca26"
             ],
             [
              1,
              "#f0f921"
             ]
            ],
            "type": "histogram2dcontour"
           }
          ],
          "mesh3d": [
           {
            "colorbar": {
             "outlinewidth": 0,
             "ticks": ""
            },
            "type": "mesh3d"
           }
          ],
          "parcoords": [
           {
            "line": {
             "colorbar": {
              "outlinewidth": 0,
              "ticks": ""
             }
            },
            "type": "parcoords"
           }
          ],
          "pie": [
           {
            "automargin": true,
            "type": "pie"
           }
          ],
          "scatter": [
           {
            "fillpattern": {
             "fillmode": "overlay",
             "size": 10,
             "solidity": 0.2
            },
            "type": "scatter"
           }
          ],
          "scatter3d": [
           {
            "line": {
             "colorbar": {
              "outlinewidth": 0,
              "ticks": ""
             }
            },
            "marker": {
             "colorbar": {
              "outlinewidth": 0,
              "ticks": ""
             }
            },
            "type": "scatter3d"
           }
          ],
          "scattercarpet": [
           {
            "marker": {
             "colorbar": {
              "outlinewidth": 0,
              "ticks": ""
             }
            },
            "type": "scattercarpet"
           }
          ],
          "scattergeo": [
           {
            "marker": {
             "colorbar": {
              "outlinewidth": 0,
              "ticks": ""
             }
            },
            "type": "scattergeo"
           }
          ],
          "scattergl": [
           {
            "marker": {
             "colorbar": {
              "outlinewidth": 0,
              "ticks": ""
             }
            },
            "type": "scattergl"
           }
          ],
          "scattermap": [
           {
            "marker": {
             "colorbar": {
              "outlinewidth": 0,
              "ticks": ""
             }
            },
            "type": "scattermap"
           }
          ],
          "scattermapbox": [
           {
            "marker": {
             "colorbar": {
              "outlinewidth": 0,
              "ticks": ""
             }
            },
            "type": "scattermapbox"
           }
          ],
          "scatterpolar": [
           {
            "marker": {
             "colorbar": {
              "outlinewidth": 0,
              "ticks": ""
             }
            },
            "type": "scatterpolar"
           }
          ],
          "scatterpolargl": [
           {
            "marker": {
             "colorbar": {
              "outlinewidth": 0,
              "ticks": ""
             }
            },
            "type": "scatterpolargl"
           }
          ],
          "scatterternary": [
           {
            "marker": {
             "colorbar": {
              "outlinewidth": 0,
              "ticks": ""
             }
            },
            "type": "scatterternary"
           }
          ],
          "surface": [
           {
            "colorbar": {
             "outlinewidth": 0,
             "ticks": ""
            },
            "colorscale": [
             [
              0,
              "#0d0887"
             ],
             [
              0.1111111111111111,
              "#46039f"
             ],
             [
              0.2222222222222222,
              "#7201a8"
             ],
             [
              0.3333333333333333,
              "#9c179e"
             ],
             [
              0.4444444444444444,
              "#bd3786"
             ],
             [
              0.5555555555555556,
              "#d8576b"
             ],
             [
              0.6666666666666666,
              "#ed7953"
             ],
             [
              0.7777777777777778,
              "#fb9f3a"
             ],
             [
              0.8888888888888888,
              "#fdca26"
             ],
             [
              1,
              "#f0f921"
             ]
            ],
            "type": "surface"
           }
          ],
          "table": [
           {
            "cells": {
             "fill": {
              "color": "#EBF0F8"
             },
             "line": {
              "color": "white"
             }
            },
            "header": {
             "fill": {
              "color": "#C8D4E3"
             },
             "line": {
              "color": "white"
             }
            },
            "type": "table"
           }
          ]
         },
         "layout": {
          "annotationdefaults": {
           "arrowcolor": "#2a3f5f",
           "arrowhead": 0,
           "arrowwidth": 1
          },
          "autotypenumbers": "strict",
          "coloraxis": {
           "colorbar": {
            "outlinewidth": 0,
            "ticks": ""
           }
          },
          "colorscale": {
           "diverging": [
            [
             0,
             "#8e0152"
            ],
            [
             0.1,
             "#c51b7d"
            ],
            [
             0.2,
             "#de77ae"
            ],
            [
             0.3,
             "#f1b6da"
            ],
            [
             0.4,
             "#fde0ef"
            ],
            [
             0.5,
             "#f7f7f7"
            ],
            [
             0.6,
             "#e6f5d0"
            ],
            [
             0.7,
             "#b8e186"
            ],
            [
             0.8,
             "#7fbc41"
            ],
            [
             0.9,
             "#4d9221"
            ],
            [
             1,
             "#276419"
            ]
           ],
           "sequential": [
            [
             0,
             "#0d0887"
            ],
            [
             0.1111111111111111,
             "#46039f"
            ],
            [
             0.2222222222222222,
             "#7201a8"
            ],
            [
             0.3333333333333333,
             "#9c179e"
            ],
            [
             0.4444444444444444,
             "#bd3786"
            ],
            [
             0.5555555555555556,
             "#d8576b"
            ],
            [
             0.6666666666666666,
             "#ed7953"
            ],
            [
             0.7777777777777778,
             "#fb9f3a"
            ],
            [
             0.8888888888888888,
             "#fdca26"
            ],
            [
             1,
             "#f0f921"
            ]
           ],
           "sequentialminus": [
            [
             0,
             "#0d0887"
            ],
            [
             0.1111111111111111,
             "#46039f"
            ],
            [
             0.2222222222222222,
             "#7201a8"
            ],
            [
             0.3333333333333333,
             "#9c179e"
            ],
            [
             0.4444444444444444,
             "#bd3786"
            ],
            [
             0.5555555555555556,
             "#d8576b"
            ],
            [
             0.6666666666666666,
             "#ed7953"
            ],
            [
             0.7777777777777778,
             "#fb9f3a"
            ],
            [
             0.8888888888888888,
             "#fdca26"
            ],
            [
             1,
             "#f0f921"
            ]
           ]
          },
          "colorway": [
           "#636efa",
           "#EF553B",
           "#00cc96",
           "#ab63fa",
           "#FFA15A",
           "#19d3f3",
           "#FF6692",
           "#B6E880",
           "#FF97FF",
           "#FECB52"
          ],
          "font": {
           "color": "#2a3f5f"
          },
          "geo": {
           "bgcolor": "white",
           "lakecolor": "white",
           "landcolor": "white",
           "showlakes": true,
           "showland": true,
           "subunitcolor": "#C8D4E3"
          },
          "hoverlabel": {
           "align": "left"
          },
          "hovermode": "closest",
          "mapbox": {
           "style": "light"
          },
          "paper_bgcolor": "white",
          "plot_bgcolor": "white",
          "polar": {
           "angularaxis": {
            "gridcolor": "#EBF0F8",
            "linecolor": "#EBF0F8",
            "ticks": ""
           },
           "bgcolor": "white",
           "radialaxis": {
            "gridcolor": "#EBF0F8",
            "linecolor": "#EBF0F8",
            "ticks": ""
           }
          },
          "scene": {
           "xaxis": {
            "backgroundcolor": "white",
            "gridcolor": "#DFE8F3",
            "gridwidth": 2,
            "linecolor": "#EBF0F8",
            "showbackground": true,
            "ticks": "",
            "zerolinecolor": "#EBF0F8"
           },
           "yaxis": {
            "backgroundcolor": "white",
            "gridcolor": "#DFE8F3",
            "gridwidth": 2,
            "linecolor": "#EBF0F8",
            "showbackground": true,
            "ticks": "",
            "zerolinecolor": "#EBF0F8"
           },
           "zaxis": {
            "backgroundcolor": "white",
            "gridcolor": "#DFE8F3",
            "gridwidth": 2,
            "linecolor": "#EBF0F8",
            "showbackground": true,
            "ticks": "",
            "zerolinecolor": "#EBF0F8"
           }
          },
          "shapedefaults": {
           "line": {
            "color": "#2a3f5f"
           }
          },
          "ternary": {
           "aaxis": {
            "gridcolor": "#DFE8F3",
            "linecolor": "#A2B1C6",
            "ticks": ""
           },
           "baxis": {
            "gridcolor": "#DFE8F3",
            "linecolor": "#A2B1C6",
            "ticks": ""
           },
           "bgcolor": "white",
           "caxis": {
            "gridcolor": "#DFE8F3",
            "linecolor": "#A2B1C6",
            "ticks": ""
           }
          },
          "title": {
           "x": 0.05
          },
          "xaxis": {
           "automargin": true,
           "gridcolor": "#EBF0F8",
           "linecolor": "#EBF0F8",
           "ticks": "",
           "title": {
            "standoff": 15
           },
           "zerolinecolor": "#EBF0F8",
           "zerolinewidth": 2
          },
          "yaxis": {
           "automargin": true,
           "gridcolor": "#EBF0F8",
           "linecolor": "#EBF0F8",
           "ticks": "",
           "title": {
            "standoff": 15
           },
           "zerolinecolor": "#EBF0F8",
           "zerolinewidth": 2
          }
         }
        },
        "title": {
         "text": "Métricas de Treinamento do Modelo Yu-Gi-Oh",
         "x": 0.5
        },
        "xaxis": {
         "anchor": "y",
         "domain": [
          0,
          0.45
         ],
         "title": {
          "text": "Época"
         }
        },
        "xaxis2": {
         "anchor": "y2",
         "domain": [
          0.55,
          1
         ],
         "title": {
          "text": "Época"
         }
        },
        "yaxis": {
         "anchor": "x",
         "domain": [
          0,
          1
         ],
         "title": {
          "text": "Perda"
         }
        },
        "yaxis2": {
         "anchor": "x2",
         "domain": [
          0,
          1
         ],
         "title": {
          "text": "Acurácia (%)"
         }
        }
       }
      }
     },
     "metadata": {},
     "output_type": "display_data"
    }
   ],
   "source": [
    "fig = make_subplots(\n",
    "    rows=1, cols=2,\n",
    "    subplot_titles=('Perda durante o Treinamento', 'Acurácia durante o Treinamento'),\n",
    "    specs=[[{\"secondary_y\": False}, {\"secondary_y\": False}]]\n",
    ")\n",
    "\n",
    "# Gráfico de Loss\n",
    "fig.add_trace(\n",
    "    go.Scatter(\n",
    "        x=list(range(1, num_epochs+1)),\n",
    "        y=train_losses,\n",
    "        mode='lines+markers',\n",
    "        name='Train Loss',\n",
    "        line=dict(color='#FF6B6B', width=3),\n",
    "        marker=dict(size=6)\n",
    "    ),\n",
    "    row=1, col=1\n",
    ")\n",
    "\n",
    "fig.add_trace(\n",
    "    go.Scatter(\n",
    "        x=list(range(1, num_epochs+1)),\n",
    "        y=val_losses,\n",
    "        mode='lines+markers',\n",
    "        name='Validation Loss',\n",
    "        line=dict(color='#4ECDC4', width=3),\n",
    "        marker=dict(size=6)\n",
    "    ),\n",
    "    row=1, col=1\n",
    ")\n",
    "\n",
    "# Gráfico de Acurácia\n",
    "fig.add_trace(\n",
    "    go.Scatter(\n",
    "        x=list(range(1, num_epochs+1)),\n",
    "        y=train_accuracies,\n",
    "        mode='lines+markers',\n",
    "        name='Train Accuracy',\n",
    "        line=dict(color='#45B7D1', width=3),\n",
    "        marker=dict(size=6)\n",
    "    ),\n",
    "    row=1, col=2\n",
    ")\n",
    "\n",
    "fig.add_trace(\n",
    "    go.Scatter(\n",
    "        x=list(range(1, num_epochs+1)),\n",
    "        y=val_accuracies,\n",
    "        mode='lines+markers',\n",
    "        name='Validation Accuracy',\n",
    "        line=dict(color='#96CEB4', width=3),\n",
    "        marker=dict(size=6)\n",
    "    ),\n",
    "    row=1, col=2\n",
    ")\n",
    "\n",
    "# Configurações dos eixos\n",
    "fig.update_xaxes(title_text=\"Época\", row=1, col=1)\n",
    "fig.update_xaxes(title_text=\"Época\", row=1, col=2)\n",
    "fig.update_yaxes(title_text=\"Perda\", row=1, col=1)\n",
    "fig.update_yaxes(title_text=\"Acurácia (%)\", row=1, col=2)\n",
    "\n",
    "# Layout geral\n",
    "fig.update_layout(\n",
    "    title_text=\"Métricas de Treinamento do Modelo Yu-Gi-Oh\",\n",
    "    title_x=0.5,\n",
    "    height=500,\n",
    "    showlegend=True,\n",
    "    template='plotly_white',\n",
    "    font=dict(size=12)\n",
    ")\n",
    "\n",
    "fig.show()\n"
   ]
  },
  {
   "cell_type": "code",
   "execution_count": 33,
   "id": "d1495599",
   "metadata": {},
   "outputs": [
    {
     "name": "stdout",
     "output_type": "stream",
     "text": [
      "Relatório de Classificação:\n",
      "               precision    recall  f1-score   support\n",
      "\n",
      "         Aqua       0.21      0.23      0.22        56\n",
      "        Beast       0.26      0.33      0.29        83\n",
      "Beast-Warrior       0.18      0.16      0.17        51\n",
      "     Dinosaur       0.19      0.17      0.18        29\n",
      " Divine-Beast       0.00      0.00      0.00         1\n",
      "       Dragon       0.48      0.34      0.40       151\n",
      "        Fairy       0.30      0.34      0.32       111\n",
      "        Fiend       0.26      0.29      0.28       170\n",
      "         Fish       0.23      0.21      0.22        29\n",
      "     Illusion       0.00      0.00      0.00         7\n",
      "       Insect       0.16      0.13      0.14        53\n",
      "      Machine       0.42      0.50      0.46       199\n",
      "        Plant       0.21      0.14      0.17        49\n",
      "      Psychic       0.42      0.24      0.31        41\n",
      "         Pyro       0.21      0.26      0.23        31\n",
      "      Reptile       0.13      0.08      0.10        38\n",
      "         Rock       0.20      0.13      0.16        52\n",
      "  Sea Serpent       0.11      0.11      0.11        19\n",
      "  Spellcaster       0.28      0.33      0.30       150\n",
      "      Thunder       0.35      0.25      0.29        28\n",
      "      Warrior       0.38      0.46      0.41       221\n",
      " Winged Beast       0.36      0.29      0.32        66\n",
      "         Wyrm       0.00      0.00      0.00        19\n",
      "       Zombie       0.10      0.08      0.09        51\n",
      "\n",
      "     accuracy                           0.31      1705\n",
      "    macro avg       0.23      0.21      0.22      1705\n",
      " weighted avg       0.30      0.31      0.30      1705\n",
      "\n"
     ]
    },
    {
     "data": {
      "application/vnd.plotly.v1+json": {
       "config": {
        "plotlyServerURL": "https://plot.ly"
       },
       "data": [
        {
         "colorscale": [
          [
           0,
           "rgb(247,251,255)"
          ],
          [
           0.125,
           "rgb(222,235,247)"
          ],
          [
           0.25,
           "rgb(198,219,239)"
          ],
          [
           0.375,
           "rgb(158,202,225)"
          ],
          [
           0.5,
           "rgb(107,174,214)"
          ],
          [
           0.625,
           "rgb(66,146,198)"
          ],
          [
           0.75,
           "rgb(33,113,181)"
          ],
          [
           0.875,
           "rgb(8,81,156)"
          ],
          [
           1,
           "rgb(8,48,107)"
          ]
         ],
         "hovertemplate": "Verdadeiro: %{y}<br>Predito: %{x}<br>Contagem: %{text}<extra></extra>",
         "reversescale": false,
         "showscale": true,
         "type": "heatmap",
         "x": [
          "Aqua",
          "Beast",
          "Beast-Warrior",
          "Dinosaur",
          "Divine-Beast",
          "Dragon",
          "Fairy",
          "Fiend",
          "Fish",
          "Illusion",
          "Insect",
          "Machine",
          "Plant",
          "Psychic",
          "Pyro",
          "Reptile",
          "Rock",
          "Sea Serpent",
          "Spellcaster",
          "Thunder",
          "Warrior",
          "Winged Beast",
          "Wyrm",
          "Zombie"
         ],
         "y": [
          "Aqua",
          "Beast",
          "Beast-Warrior",
          "Dinosaur",
          "Divine-Beast",
          "Dragon",
          "Fairy",
          "Fiend",
          "Fish",
          "Illusion",
          "Insect",
          "Machine",
          "Plant",
          "Psychic",
          "Pyro",
          "Reptile",
          "Rock",
          "Sea Serpent",
          "Spellcaster",
          "Thunder",
          "Warrior",
          "Winged Beast",
          "Wyrm",
          "Zombie"
         ],
         "z": {
          "bdata": "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",
          "dtype": "f8",
          "shape": "24, 24"
         }
        }
       ],
       "layout": {
        "annotations": [
         {
          "font": {
           "color": "#000000"
          },
          "showarrow": false,
          "text": "13<br>(23.2%)",
          "x": "Aqua",
          "xref": "x",
          "y": "Aqua",
          "yref": "y"
         },
         {
          "font": {
           "color": "#000000"
          },
          "showarrow": false,
          "text": "6<br>(10.7%)",
          "x": "Beast",
          "xref": "x",
          "y": "Aqua",
          "yref": "y"
         },
         {
          "font": {
           "color": "#000000"
          },
          "showarrow": false,
          "text": "1<br>(1.8%)",
          "x": "Beast-Warrior",
          "xref": "x",
          "y": "Aqua",
          "yref": "y"
         },
         {
          "font": {
           "color": "#000000"
          },
          "showarrow": false,
          "text": "0<br>(0.0%)",
          "x": "Dinosaur",
          "xref": "x",
          "y": "Aqua",
          "yref": "y"
         },
         {
          "font": {
           "color": "#000000"
          },
          "showarrow": false,
          "text": "0<br>(0.0%)",
          "x": "Divine-Beast",
          "xref": "x",
          "y": "Aqua",
          "yref": "y"
         },
         {
          "font": {
           "color": "#000000"
          },
          "showarrow": false,
          "text": "1<br>(1.8%)",
          "x": "Dragon",
          "xref": "x",
          "y": "Aqua",
          "yref": "y"
         },
         {
          "font": {
           "color": "#000000"
          },
          "showarrow": false,
          "text": "0<br>(0.0%)",
          "x": "Fairy",
          "xref": "x",
          "y": "Aqua",
          "yref": "y"
         },
         {
          "font": {
           "color": "#000000"
          },
          "showarrow": false,
          "text": "5<br>(8.9%)",
          "x": "Fiend",
          "xref": "x",
          "y": "Aqua",
          "yref": "y"
         },
         {
          "font": {
           "color": "#000000"
          },
          "showarrow": false,
          "text": "4<br>(7.1%)",
          "x": "Fish",
          "xref": "x",
          "y": "Aqua",
          "yref": "y"
         },
         {
          "font": {
           "color": "#000000"
          },
          "showarrow": false,
          "text": "0<br>(0.0%)",
          "x": "Illusion",
          "xref": "x",
          "y": "Aqua",
          "yref": "y"
         },
         {
          "font": {
           "color": "#000000"
          },
          "showarrow": false,
          "text": "3<br>(5.4%)",
          "x": "Insect",
          "xref": "x",
          "y": "Aqua",
          "yref": "y"
         },
         {
          "font": {
           "color": "#000000"
          },
          "showarrow": false,
          "text": "5<br>(8.9%)",
          "x": "Machine",
          "xref": "x",
          "y": "Aqua",
          "yref": "y"
         },
         {
          "font": {
           "color": "#000000"
          },
          "showarrow": false,
          "text": "3<br>(5.4%)",
          "x": "Plant",
          "xref": "x",
          "y": "Aqua",
          "yref": "y"
         },
         {
          "font": {
           "color": "#000000"
          },
          "showarrow": false,
          "text": "0<br>(0.0%)",
          "x": "Psychic",
          "xref": "x",
          "y": "Aqua",
          "yref": "y"
         },
         {
          "font": {
           "color": "#000000"
          },
          "showarrow": false,
          "text": "0<br>(0.0%)",
          "x": "Pyro",
          "xref": "x",
          "y": "Aqua",
          "yref": "y"
         },
         {
          "font": {
           "color": "#000000"
          },
          "showarrow": false,
          "text": "3<br>(5.4%)",
          "x": "Reptile",
          "xref": "x",
          "y": "Aqua",
          "yref": "y"
         },
         {
          "font": {
           "color": "#000000"
          },
          "showarrow": false,
          "text": "2<br>(3.6%)",
          "x": "Rock",
          "xref": "x",
          "y": "Aqua",
          "yref": "y"
         },
         {
          "font": {
           "color": "#000000"
          },
          "showarrow": false,
          "text": "2<br>(3.6%)",
          "x": "Sea Serpent",
          "xref": "x",
          "y": "Aqua",
          "yref": "y"
         },
         {
          "font": {
           "color": "#000000"
          },
          "showarrow": false,
          "text": "4<br>(7.1%)",
          "x": "Spellcaster",
          "xref": "x",
          "y": "Aqua",
          "yref": "y"
         },
         {
          "font": {
           "color": "#000000"
          },
          "showarrow": false,
          "text": "1<br>(1.8%)",
          "x": "Thunder",
          "xref": "x",
          "y": "Aqua",
          "yref": "y"
         },
         {
          "font": {
           "color": "#000000"
          },
          "showarrow": false,
          "text": "1<br>(1.8%)",
          "x": "Warrior",
          "xref": "x",
          "y": "Aqua",
          "yref": "y"
         },
         {
          "font": {
           "color": "#000000"
          },
          "showarrow": false,
          "text": "1<br>(1.8%)",
          "x": "Winged Beast",
          "xref": "x",
          "y": "Aqua",
          "yref": "y"
         },
         {
          "font": {
           "color": "#000000"
          },
          "showarrow": false,
          "text": "0<br>(0.0%)",
          "x": "Wyrm",
          "xref": "x",
          "y": "Aqua",
          "yref": "y"
         },
         {
          "font": {
           "color": "#000000"
          },
          "showarrow": false,
          "text": "1<br>(1.8%)",
          "x": "Zombie",
          "xref": "x",
          "y": "Aqua",
          "yref": "y"
         },
         {
          "font": {
           "color": "#000000"
          },
          "showarrow": false,
          "text": "3<br>(3.6%)",
          "x": "Aqua",
          "xref": "x",
          "y": "Beast",
          "yref": "y"
         },
         {
          "font": {
           "color": "#000000"
          },
          "showarrow": false,
          "text": "27<br>(32.5%)",
          "x": "Beast",
          "xref": "x",
          "y": "Beast",
          "yref": "y"
         },
         {
          "font": {
           "color": "#000000"
          },
          "showarrow": false,
          "text": "7<br>(8.4%)",
          "x": "Beast-Warrior",
          "xref": "x",
          "y": "Beast",
          "yref": "y"
         },
         {
          "font": {
           "color": "#000000"
          },
          "showarrow": false,
          "text": "1<br>(1.2%)",
          "x": "Dinosaur",
          "xref": "x",
          "y": "Beast",
          "yref": "y"
         },
         {
          "font": {
           "color": "#000000"
          },
          "showarrow": false,
          "text": "0<br>(0.0%)",
          "x": "Divine-Beast",
          "xref": "x",
          "y": "Beast",
          "yref": "y"
         },
         {
          "font": {
           "color": "#000000"
          },
          "showarrow": false,
          "text": "0<br>(0.0%)",
          "x": "Dragon",
          "xref": "x",
          "y": "Beast",
          "yref": "y"
         },
         {
          "font": {
           "color": "#000000"
          },
          "showarrow": false,
          "text": "8<br>(9.6%)",
          "x": "Fairy",
          "xref": "x",
          "y": "Beast",
          "yref": "y"
         },
         {
          "font": {
           "color": "#000000"
          },
          "showarrow": false,
          "text": "7<br>(8.4%)",
          "x": "Fiend",
          "xref": "x",
          "y": "Beast",
          "yref": "y"
         },
         {
          "font": {
           "color": "#000000"
          },
          "showarrow": false,
          "text": "1<br>(1.2%)",
          "x": "Fish",
          "xref": "x",
          "y": "Beast",
          "yref": "y"
         },
         {
          "font": {
           "color": "#000000"
          },
          "showarrow": false,
          "text": "0<br>(0.0%)",
          "x": "Illusion",
          "xref": "x",
          "y": "Beast",
          "yref": "y"
         },
         {
          "font": {
           "color": "#000000"
          },
          "showarrow": false,
          "text": "0<br>(0.0%)",
          "x": "Insect",
          "xref": "x",
          "y": "Beast",
          "yref": "y"
         },
         {
          "font": {
           "color": "#000000"
          },
          "showarrow": false,
          "text": "4<br>(4.8%)",
          "x": "Machine",
          "xref": "x",
          "y": "Beast",
          "yref": "y"
         },
         {
          "font": {
           "color": "#000000"
          },
          "showarrow": false,
          "text": "1<br>(1.2%)",
          "x": "Plant",
          "xref": "x",
          "y": "Beast",
          "yref": "y"
         },
         {
          "font": {
           "color": "#000000"
          },
          "showarrow": false,
          "text": "0<br>(0.0%)",
          "x": "Psychic",
          "xref": "x",
          "y": "Beast",
          "yref": "y"
         },
         {
          "font": {
           "color": "#000000"
          },
          "showarrow": false,
          "text": "2<br>(2.4%)",
          "x": "Pyro",
          "xref": "x",
          "y": "Beast",
          "yref": "y"
         },
         {
          "font": {
           "color": "#000000"
          },
          "showarrow": false,
          "text": "2<br>(2.4%)",
          "x": "Reptile",
          "xref": "x",
          "y": "Beast",
          "yref": "y"
         },
         {
          "font": {
           "color": "#000000"
          },
          "showarrow": false,
          "text": "1<br>(1.2%)",
          "x": "Rock",
          "xref": "x",
          "y": "Beast",
          "yref": "y"
         },
         {
          "font": {
           "color": "#000000"
          },
          "showarrow": false,
          "text": "3<br>(3.6%)",
          "x": "Sea Serpent",
          "xref": "x",
          "y": "Beast",
          "yref": "y"
         },
         {
          "font": {
           "color": "#000000"
          },
          "showarrow": false,
          "text": "2<br>(2.4%)",
          "x": "Spellcaster",
          "xref": "x",
          "y": "Beast",
          "yref": "y"
         },
         {
          "font": {
           "color": "#000000"
          },
          "showarrow": false,
          "text": "0<br>(0.0%)",
          "x": "Thunder",
          "xref": "x",
          "y": "Beast",
          "yref": "y"
         },
         {
          "font": {
           "color": "#000000"
          },
          "showarrow": false,
          "text": "11<br>(13.3%)",
          "x": "Warrior",
          "xref": "x",
          "y": "Beast",
          "yref": "y"
         },
         {
          "font": {
           "color": "#000000"
          },
          "showarrow": false,
          "text": "1<br>(1.2%)",
          "x": "Winged Beast",
          "xref": "x",
          "y": "Beast",
          "yref": "y"
         },
         {
          "font": {
           "color": "#000000"
          },
          "showarrow": false,
          "text": "0<br>(0.0%)",
          "x": "Wyrm",
          "xref": "x",
          "y": "Beast",
          "yref": "y"
         },
         {
          "font": {
           "color": "#000000"
          },
          "showarrow": false,
          "text": "2<br>(2.4%)",
          "x": "Zombie",
          "xref": "x",
          "y": "Beast",
          "yref": "y"
         },
         {
          "font": {
           "color": "#000000"
          },
          "showarrow": false,
          "text": "0<br>(0.0%)",
          "x": "Aqua",
          "xref": "x",
          "y": "Beast-Warrior",
          "yref": "y"
         },
         {
          "font": {
           "color": "#000000"
          },
          "showarrow": false,
          "text": "3<br>(5.9%)",
          "x": "Beast",
          "xref": "x",
          "y": "Beast-Warrior",
          "yref": "y"
         },
         {
          "font": {
           "color": "#000000"
          },
          "showarrow": false,
          "text": "8<br>(15.7%)",
          "x": "Beast-Warrior",
          "xref": "x",
          "y": "Beast-Warrior",
          "yref": "y"
         },
         {
          "font": {
           "color": "#000000"
          },
          "showarrow": false,
          "text": "0<br>(0.0%)",
          "x": "Dinosaur",
          "xref": "x",
          "y": "Beast-Warrior",
          "yref": "y"
         },
         {
          "font": {
           "color": "#000000"
          },
          "showarrow": false,
          "text": "0<br>(0.0%)",
          "x": "Divine-Beast",
          "xref": "x",
          "y": "Beast-Warrior",
          "yref": "y"
         },
         {
          "font": {
           "color": "#000000"
          },
          "showarrow": false,
          "text": "1<br>(2.0%)",
          "x": "Dragon",
          "xref": "x",
          "y": "Beast-Warrior",
          "yref": "y"
         },
         {
          "font": {
           "color": "#000000"
          },
          "showarrow": false,
          "text": "6<br>(11.8%)",
          "x": "Fairy",
          "xref": "x",
          "y": "Beast-Warrior",
          "yref": "y"
         },
         {
          "font": {
           "color": "#000000"
          },
          "showarrow": false,
          "text": "3<br>(5.9%)",
          "x": "Fiend",
          "xref": "x",
          "y": "Beast-Warrior",
          "yref": "y"
         },
         {
          "font": {
           "color": "#000000"
          },
          "showarrow": false,
          "text": "0<br>(0.0%)",
          "x": "Fish",
          "xref": "x",
          "y": "Beast-Warrior",
          "yref": "y"
         },
         {
          "font": {
           "color": "#000000"
          },
          "showarrow": false,
          "text": "0<br>(0.0%)",
          "x": "Illusion",
          "xref": "x",
          "y": "Beast-Warrior",
          "yref": "y"
         },
         {
          "font": {
           "color": "#000000"
          },
          "showarrow": false,
          "text": "0<br>(0.0%)",
          "x": "Insect",
          "xref": "x",
          "y": "Beast-Warrior",
          "yref": "y"
         },
         {
          "font": {
           "color": "#000000"
          },
          "showarrow": false,
          "text": "5<br>(9.8%)",
          "x": "Machine",
          "xref": "x",
          "y": "Beast-Warrior",
          "yref": "y"
         },
         {
          "font": {
           "color": "#000000"
          },
          "showarrow": false,
          "text": "0<br>(0.0%)",
          "x": "Plant",
          "xref": "x",
          "y": "Beast-Warrior",
          "yref": "y"
         },
         {
          "font": {
           "color": "#000000"
          },
          "showarrow": false,
          "text": "0<br>(0.0%)",
          "x": "Psychic",
          "xref": "x",
          "y": "Beast-Warrior",
          "yref": "y"
         },
         {
          "font": {
           "color": "#000000"
          },
          "showarrow": false,
          "text": "1<br>(2.0%)",
          "x": "Pyro",
          "xref": "x",
          "y": "Beast-Warrior",
          "yref": "y"
         },
         {
          "font": {
           "color": "#000000"
          },
          "showarrow": false,
          "text": "2<br>(3.9%)",
          "x": "Reptile",
          "xref": "x",
          "y": "Beast-Warrior",
          "yref": "y"
         },
         {
          "font": {
           "color": "#000000"
          },
          "showarrow": false,
          "text": "0<br>(0.0%)",
          "x": "Rock",
          "xref": "x",
          "y": "Beast-Warrior",
          "yref": "y"
         },
         {
          "font": {
           "color": "#000000"
          },
          "showarrow": false,
          "text": "0<br>(0.0%)",
          "x": "Sea Serpent",
          "xref": "x",
          "y": "Beast-Warrior",
          "yref": "y"
         },
         {
          "font": {
           "color": "#000000"
          },
          "showarrow": false,
          "text": "5<br>(9.8%)",
          "x": "Spellcaster",
          "xref": "x",
          "y": "Beast-Warrior",
          "yref": "y"
         },
         {
          "font": {
           "color": "#000000"
          },
          "showarrow": false,
          "text": "0<br>(0.0%)",
          "x": "Thunder",
          "xref": "x",
          "y": "Beast-Warrior",
          "yref": "y"
         },
         {
          "font": {
           "color": "#000000"
          },
          "showarrow": false,
          "text": "15<br>(29.4%)",
          "x": "Warrior",
          "xref": "x",
          "y": "Beast-Warrior",
          "yref": "y"
         },
         {
          "font": {
           "color": "#000000"
          },
          "showarrow": false,
          "text": "1<br>(2.0%)",
          "x": "Winged Beast",
          "xref": "x",
          "y": "Beast-Warrior",
          "yref": "y"
         },
         {
          "font": {
           "color": "#000000"
          },
          "showarrow": false,
          "text": "0<br>(0.0%)",
          "x": "Wyrm",
          "xref": "x",
          "y": "Beast-Warrior",
          "yref": "y"
         },
         {
          "font": {
           "color": "#000000"
          },
          "showarrow": false,
          "text": "1<br>(2.0%)",
          "x": "Zombie",
          "xref": "x",
          "y": "Beast-Warrior",
          "yref": "y"
         },
         {
          "font": {
           "color": "#000000"
          },
          "showarrow": false,
          "text": "3<br>(10.3%)",
          "x": "Aqua",
          "xref": "x",
          "y": "Dinosaur",
          "yref": "y"
         },
         {
          "font": {
           "color": "#000000"
          },
          "showarrow": false,
          "text": "7<br>(24.1%)",
          "x": "Beast",
          "xref": "x",
          "y": "Dinosaur",
          "yref": "y"
         },
         {
          "font": {
           "color": "#000000"
          },
          "showarrow": false,
          "text": "1<br>(3.4%)",
          "x": "Beast-Warrior",
          "xref": "x",
          "y": "Dinosaur",
          "yref": "y"
         },
         {
          "font": {
           "color": "#000000"
          },
          "showarrow": false,
          "text": "5<br>(17.2%)",
          "x": "Dinosaur",
          "xref": "x",
          "y": "Dinosaur",
          "yref": "y"
         },
         {
          "font": {
           "color": "#000000"
          },
          "showarrow": false,
          "text": "0<br>(0.0%)",
          "x": "Divine-Beast",
          "xref": "x",
          "y": "Dinosaur",
          "yref": "y"
         },
         {
          "font": {
           "color": "#000000"
          },
          "showarrow": false,
          "text": "6<br>(20.7%)",
          "x": "Dragon",
          "xref": "x",
          "y": "Dinosaur",
          "yref": "y"
         },
         {
          "font": {
           "color": "#000000"
          },
          "showarrow": false,
          "text": "0<br>(0.0%)",
          "x": "Fairy",
          "xref": "x",
          "y": "Dinosaur",
          "yref": "y"
         },
         {
          "font": {
           "color": "#000000"
          },
          "showarrow": false,
          "text": "0<br>(0.0%)",
          "x": "Fiend",
          "xref": "x",
          "y": "Dinosaur",
          "yref": "y"
         },
         {
          "font": {
           "color": "#000000"
          },
          "showarrow": false,
          "text": "1<br>(3.4%)",
          "x": "Fish",
          "xref": "x",
          "y": "Dinosaur",
          "yref": "y"
         },
         {
          "font": {
           "color": "#000000"
          },
          "showarrow": false,
          "text": "1<br>(3.4%)",
          "x": "Illusion",
          "xref": "x",
          "y": "Dinosaur",
          "yref": "y"
         },
         {
          "font": {
           "color": "#000000"
          },
          "showarrow": false,
          "text": "0<br>(0.0%)",
          "x": "Insect",
          "xref": "x",
          "y": "Dinosaur",
          "yref": "y"
         },
         {
          "font": {
           "color": "#000000"
          },
          "showarrow": false,
          "text": "1<br>(3.4%)",
          "x": "Machine",
          "xref": "x",
          "y": "Dinosaur",
          "yref": "y"
         },
         {
          "font": {
           "color": "#000000"
          },
          "showarrow": false,
          "text": "0<br>(0.0%)",
          "x": "Plant",
          "xref": "x",
          "y": "Dinosaur",
          "yref": "y"
         },
         {
          "font": {
           "color": "#000000"
          },
          "showarrow": false,
          "text": "0<br>(0.0%)",
          "x": "Psychic",
          "xref": "x",
          "y": "Dinosaur",
          "yref": "y"
         },
         {
          "font": {
           "color": "#000000"
          },
          "showarrow": false,
          "text": "0<br>(0.0%)",
          "x": "Pyro",
          "xref": "x",
          "y": "Dinosaur",
          "yref": "y"
         },
         {
          "font": {
           "color": "#000000"
          },
          "showarrow": false,
          "text": "1<br>(3.4%)",
          "x": "Reptile",
          "xref": "x",
          "y": "Dinosaur",
          "yref": "y"
         },
         {
          "font": {
           "color": "#000000"
          },
          "showarrow": false,
          "text": "0<br>(0.0%)",
          "x": "Rock",
          "xref": "x",
          "y": "Dinosaur",
          "yref": "y"
         },
         {
          "font": {
           "color": "#000000"
          },
          "showarrow": false,
          "text": "0<br>(0.0%)",
          "x": "Sea Serpent",
          "xref": "x",
          "y": "Dinosaur",
          "yref": "y"
         },
         {
          "font": {
           "color": "#000000"
          },
          "showarrow": false,
          "text": "0<br>(0.0%)",
          "x": "Spellcaster",
          "xref": "x",
          "y": "Dinosaur",
          "yref": "y"
         },
         {
          "font": {
           "color": "#000000"
          },
          "showarrow": false,
          "text": "0<br>(0.0%)",
          "x": "Thunder",
          "xref": "x",
          "y": "Dinosaur",
          "yref": "y"
         },
         {
          "font": {
           "color": "#000000"
          },
          "showarrow": false,
          "text": "2<br>(6.9%)",
          "x": "Warrior",
          "xref": "x",
          "y": "Dinosaur",
          "yref": "y"
         },
         {
          "font": {
           "color": "#000000"
          },
          "showarrow": false,
          "text": "0<br>(0.0%)",
          "x": "Winged Beast",
          "xref": "x",
          "y": "Dinosaur",
          "yref": "y"
         },
         {
          "font": {
           "color": "#000000"
          },
          "showarrow": false,
          "text": "0<br>(0.0%)",
          "x": "Wyrm",
          "xref": "x",
          "y": "Dinosaur",
          "yref": "y"
         },
         {
          "font": {
           "color": "#000000"
          },
          "showarrow": false,
          "text": "1<br>(3.4%)",
          "x": "Zombie",
          "xref": "x",
          "y": "Dinosaur",
          "yref": "y"
         },
         {
          "font": {
           "color": "#000000"
          },
          "showarrow": false,
          "text": "0<br>(0.0%)",
          "x": "Aqua",
          "xref": "x",
          "y": "Divine-Beast",
          "yref": "y"
         },
         {
          "font": {
           "color": "#000000"
          },
          "showarrow": false,
          "text": "0<br>(0.0%)",
          "x": "Beast",
          "xref": "x",
          "y": "Divine-Beast",
          "yref": "y"
         },
         {
          "font": {
           "color": "#000000"
          },
          "showarrow": false,
          "text": "0<br>(0.0%)",
          "x": "Beast-Warrior",
          "xref": "x",
          "y": "Divine-Beast",
          "yref": "y"
         },
         {
          "font": {
           "color": "#000000"
          },
          "showarrow": false,
          "text": "0<br>(0.0%)",
          "x": "Dinosaur",
          "xref": "x",
          "y": "Divine-Beast",
          "yref": "y"
         },
         {
          "font": {
           "color": "#000000"
          },
          "showarrow": false,
          "text": "0<br>(0.0%)",
          "x": "Divine-Beast",
          "xref": "x",
          "y": "Divine-Beast",
          "yref": "y"
         },
         {
          "font": {
           "color": "#000000"
          },
          "showarrow": false,
          "text": "0<br>(0.0%)",
          "x": "Dragon",
          "xref": "x",
          "y": "Divine-Beast",
          "yref": "y"
         },
         {
          "font": {
           "color": "#000000"
          },
          "showarrow": false,
          "text": "0<br>(0.0%)",
          "x": "Fairy",
          "xref": "x",
          "y": "Divine-Beast",
          "yref": "y"
         },
         {
          "font": {
           "color": "#000000"
          },
          "showarrow": false,
          "text": "0<br>(0.0%)",
          "x": "Fiend",
          "xref": "x",
          "y": "Divine-Beast",
          "yref": "y"
         },
         {
          "font": {
           "color": "#000000"
          },
          "showarrow": false,
          "text": "0<br>(0.0%)",
          "x": "Fish",
          "xref": "x",
          "y": "Divine-Beast",
          "yref": "y"
         },
         {
          "font": {
           "color": "#000000"
          },
          "showarrow": false,
          "text": "0<br>(0.0%)",
          "x": "Illusion",
          "xref": "x",
          "y": "Divine-Beast",
          "yref": "y"
         },
         {
          "font": {
           "color": "#000000"
          },
          "showarrow": false,
          "text": "0<br>(0.0%)",
          "x": "Insect",
          "xref": "x",
          "y": "Divine-Beast",
          "yref": "y"
         },
         {
          "font": {
           "color": "#000000"
          },
          "showarrow": false,
          "text": "0<br>(0.0%)",
          "x": "Machine",
          "xref": "x",
          "y": "Divine-Beast",
          "yref": "y"
         },
         {
          "font": {
           "color": "#000000"
          },
          "showarrow": false,
          "text": "0<br>(0.0%)",
          "x": "Plant",
          "xref": "x",
          "y": "Divine-Beast",
          "yref": "y"
         },
         {
          "font": {
           "color": "#000000"
          },
          "showarrow": false,
          "text": "0<br>(0.0%)",
          "x": "Psychic",
          "xref": "x",
          "y": "Divine-Beast",
          "yref": "y"
         },
         {
          "font": {
           "color": "#000000"
          },
          "showarrow": false,
          "text": "0<br>(0.0%)",
          "x": "Pyro",
          "xref": "x",
          "y": "Divine-Beast",
          "yref": "y"
         },
         {
          "font": {
           "color": "#000000"
          },
          "showarrow": false,
          "text": "0<br>(0.0%)",
          "x": "Reptile",
          "xref": "x",
          "y": "Divine-Beast",
          "yref": "y"
         },
         {
          "font": {
           "color": "#FFFFFF"
          },
          "showarrow": false,
          "text": "1<br>(100.0%)",
          "x": "Rock",
          "xref": "x",
          "y": "Divine-Beast",
          "yref": "y"
         },
         {
          "font": {
           "color": "#000000"
          },
          "showarrow": false,
          "text": "0<br>(0.0%)",
          "x": "Sea Serpent",
          "xref": "x",
          "y": "Divine-Beast",
          "yref": "y"
         },
         {
          "font": {
           "color": "#000000"
          },
          "showarrow": false,
          "text": "0<br>(0.0%)",
          "x": "Spellcaster",
          "xref": "x",
          "y": "Divine-Beast",
          "yref": "y"
         },
         {
          "font": {
           "color": "#000000"
          },
          "showarrow": false,
          "text": "0<br>(0.0%)",
          "x": "Thunder",
          "xref": "x",
          "y": "Divine-Beast",
          "yref": "y"
         },
         {
          "font": {
           "color": "#000000"
          },
          "showarrow": false,
          "text": "0<br>(0.0%)",
          "x": "Warrior",
          "xref": "x",
          "y": "Divine-Beast",
          "yref": "y"
         },
         {
          "font": {
           "color": "#000000"
          },
          "showarrow": false,
          "text": "0<br>(0.0%)",
          "x": "Winged Beast",
          "xref": "x",
          "y": "Divine-Beast",
          "yref": "y"
         },
         {
          "font": {
           "color": "#000000"
          },
          "showarrow": false,
          "text": "0<br>(0.0%)",
          "x": "Wyrm",
          "xref": "x",
          "y": "Divine-Beast",
          "yref": "y"
         },
         {
          "font": {
           "color": "#000000"
          },
          "showarrow": false,
          "text": "0<br>(0.0%)",
          "x": "Zombie",
          "xref": "x",
          "y": "Divine-Beast",
          "yref": "y"
         },
         {
          "font": {
           "color": "#000000"
          },
          "showarrow": false,
          "text": "4<br>(2.6%)",
          "x": "Aqua",
          "xref": "x",
          "y": "Dragon",
          "yref": "y"
         },
         {
          "font": {
           "color": "#000000"
          },
          "showarrow": false,
          "text": "10<br>(6.6%)",
          "x": "Beast",
          "xref": "x",
          "y": "Dragon",
          "yref": "y"
         },
         {
          "font": {
           "color": "#000000"
          },
          "showarrow": false,
          "text": "2<br>(1.3%)",
          "x": "Beast-Warrior",
          "xref": "x",
          "y": "Dragon",
          "yref": "y"
         },
         {
          "font": {
           "color": "#000000"
          },
          "showarrow": false,
          "text": "6<br>(4.0%)",
          "x": "Dinosaur",
          "xref": "x",
          "y": "Dragon",
          "yref": "y"
         },
         {
          "font": {
           "color": "#000000"
          },
          "showarrow": false,
          "text": "0<br>(0.0%)",
          "x": "Divine-Beast",
          "xref": "x",
          "y": "Dragon",
          "yref": "y"
         },
         {
          "font": {
           "color": "#000000"
          },
          "showarrow": false,
          "text": "52<br>(34.4%)",
          "x": "Dragon",
          "xref": "x",
          "y": "Dragon",
          "yref": "y"
         },
         {
          "font": {
           "color": "#000000"
          },
          "showarrow": false,
          "text": "7<br>(4.6%)",
          "x": "Fairy",
          "xref": "x",
          "y": "Dragon",
          "yref": "y"
         },
         {
          "font": {
           "color": "#000000"
          },
          "showarrow": false,
          "text": "18<br>(11.9%)",
          "x": "Fiend",
          "xref": "x",
          "y": "Dragon",
          "yref": "y"
         },
         {
          "font": {
           "color": "#000000"
          },
          "showarrow": false,
          "text": "3<br>(2.0%)",
          "x": "Fish",
          "xref": "x",
          "y": "Dragon",
          "yref": "y"
         },
         {
          "font": {
           "color": "#000000"
          },
          "showarrow": false,
          "text": "0<br>(0.0%)",
          "x": "Illusion",
          "xref": "x",
          "y": "Dragon",
          "yref": "y"
         },
         {
          "font": {
           "color": "#000000"
          },
          "showarrow": false,
          "text": "7<br>(4.6%)",
          "x": "Insect",
          "xref": "x",
          "y": "Dragon",
          "yref": "y"
         },
         {
          "font": {
           "color": "#000000"
          },
          "showarrow": false,
          "text": "9<br>(6.0%)",
          "x": "Machine",
          "xref": "x",
          "y": "Dragon",
          "yref": "y"
         },
         {
          "font": {
           "color": "#000000"
          },
          "showarrow": false,
          "text": "1<br>(0.7%)",
          "x": "Plant",
          "xref": "x",
          "y": "Dragon",
          "yref": "y"
         },
         {
          "font": {
           "color": "#000000"
          },
          "showarrow": false,
          "text": "0<br>(0.0%)",
          "x": "Psychic",
          "xref": "x",
          "y": "Dragon",
          "yref": "y"
         },
         {
          "font": {
           "color": "#000000"
          },
          "showarrow": false,
          "text": "6<br>(4.0%)",
          "x": "Pyro",
          "xref": "x",
          "y": "Dragon",
          "yref": "y"
         },
         {
          "font": {
           "color": "#000000"
          },
          "showarrow": false,
          "text": "1<br>(0.7%)",
          "x": "Reptile",
          "xref": "x",
          "y": "Dragon",
          "yref": "y"
         },
         {
          "font": {
           "color": "#000000"
          },
          "showarrow": false,
          "text": "2<br>(1.3%)",
          "x": "Rock",
          "xref": "x",
          "y": "Dragon",
          "yref": "y"
         },
         {
          "font": {
           "color": "#000000"
          },
          "showarrow": false,
          "text": "4<br>(2.6%)",
          "x": "Sea Serpent",
          "xref": "x",
          "y": "Dragon",
          "yref": "y"
         },
         {
          "font": {
           "color": "#000000"
          },
          "showarrow": false,
          "text": "4<br>(2.6%)",
          "x": "Spellcaster",
          "xref": "x",
          "y": "Dragon",
          "yref": "y"
         },
         {
          "font": {
           "color": "#000000"
          },
          "showarrow": false,
          "text": "1<br>(0.7%)",
          "x": "Thunder",
          "xref": "x",
          "y": "Dragon",
          "yref": "y"
         },
         {
          "font": {
           "color": "#000000"
          },
          "showarrow": false,
          "text": "7<br>(4.6%)",
          "x": "Warrior",
          "xref": "x",
          "y": "Dragon",
          "yref": "y"
         },
         {
          "font": {
           "color": "#000000"
          },
          "showarrow": false,
          "text": "3<br>(2.0%)",
          "x": "Winged Beast",
          "xref": "x",
          "y": "Dragon",
          "yref": "y"
         },
         {
          "font": {
           "color": "#000000"
          },
          "showarrow": false,
          "text": "2<br>(1.3%)",
          "x": "Wyrm",
          "xref": "x",
          "y": "Dragon",
          "yref": "y"
         },
         {
          "font": {
           "color": "#000000"
          },
          "showarrow": false,
          "text": "2<br>(1.3%)",
          "x": "Zombie",
          "xref": "x",
          "y": "Dragon",
          "yref": "y"
         },
         {
          "font": {
           "color": "#000000"
          },
          "showarrow": false,
          "text": "0<br>(0.0%)",
          "x": "Aqua",
          "xref": "x",
          "y": "Fairy",
          "yref": "y"
         },
         {
          "font": {
           "color": "#000000"
          },
          "showarrow": false,
          "text": "7<br>(6.3%)",
          "x": "Beast",
          "xref": "x",
          "y": "Fairy",
          "yref": "y"
         },
         {
          "font": {
           "color": "#000000"
          },
          "showarrow": false,
          "text": "2<br>(1.8%)",
          "x": "Beast-Warrior",
          "xref": "x",
          "y": "Fairy",
          "yref": "y"
         },
         {
          "font": {
           "color": "#000000"
          },
          "showarrow": false,
          "text": "0<br>(0.0%)",
          "x": "Dinosaur",
          "xref": "x",
          "y": "Fairy",
          "yref": "y"
         },
         {
          "font": {
           "color": "#000000"
          },
          "showarrow": false,
          "text": "0<br>(0.0%)",
          "x": "Divine-Beast",
          "xref": "x",
          "y": "Fairy",
          "yref": "y"
         },
         {
          "font": {
           "color": "#000000"
          },
          "showarrow": false,
          "text": "3<br>(2.7%)",
          "x": "Dragon",
          "xref": "x",
          "y": "Fairy",
          "yref": "y"
         },
         {
          "font": {
           "color": "#000000"
          },
          "showarrow": false,
          "text": "38<br>(34.2%)",
          "x": "Fairy",
          "xref": "x",
          "y": "Fairy",
          "yref": "y"
         },
         {
          "font": {
           "color": "#000000"
          },
          "showarrow": false,
          "text": "4<br>(3.6%)",
          "x": "Fiend",
          "xref": "x",
          "y": "Fairy",
          "yref": "y"
         },
         {
          "font": {
           "color": "#000000"
          },
          "showarrow": false,
          "text": "0<br>(0.0%)",
          "x": "Fish",
          "xref": "x",
          "y": "Fairy",
          "yref": "y"
         },
         {
          "font": {
           "color": "#000000"
          },
          "showarrow": false,
          "text": "0<br>(0.0%)",
          "x": "Illusion",
          "xref": "x",
          "y": "Fairy",
          "yref": "y"
         },
         {
          "font": {
           "color": "#000000"
          },
          "showarrow": false,
          "text": "3<br>(2.7%)",
          "x": "Insect",
          "xref": "x",
          "y": "Fairy",
          "yref": "y"
         },
         {
          "font": {
           "color": "#000000"
          },
          "showarrow": false,
          "text": "9<br>(8.1%)",
          "x": "Machine",
          "xref": "x",
          "y": "Fairy",
          "yref": "y"
         },
         {
          "font": {
           "color": "#000000"
          },
          "showarrow": false,
          "text": "4<br>(3.6%)",
          "x": "Plant",
          "xref": "x",
          "y": "Fairy",
          "yref": "y"
         },
         {
          "font": {
           "color": "#000000"
          },
          "showarrow": false,
          "text": "1<br>(0.9%)",
          "x": "Psychic",
          "xref": "x",
          "y": "Fairy",
          "yref": "y"
         },
         {
          "font": {
           "color": "#000000"
          },
          "showarrow": false,
          "text": "2<br>(1.8%)",
          "x": "Pyro",
          "xref": "x",
          "y": "Fairy",
          "yref": "y"
         },
         {
          "font": {
           "color": "#000000"
          },
          "showarrow": false,
          "text": "0<br>(0.0%)",
          "x": "Reptile",
          "xref": "x",
          "y": "Fairy",
          "yref": "y"
         },
         {
          "font": {
           "color": "#000000"
          },
          "showarrow": false,
          "text": "0<br>(0.0%)",
          "x": "Rock",
          "xref": "x",
          "y": "Fairy",
          "yref": "y"
         },
         {
          "font": {
           "color": "#000000"
          },
          "showarrow": false,
          "text": "0<br>(0.0%)",
          "x": "Sea Serpent",
          "xref": "x",
          "y": "Fairy",
          "yref": "y"
         },
         {
          "font": {
           "color": "#000000"
          },
          "showarrow": false,
          "text": "20<br>(18.0%)",
          "x": "Spellcaster",
          "xref": "x",
          "y": "Fairy",
          "yref": "y"
         },
         {
          "font": {
           "color": "#000000"
          },
          "showarrow": false,
          "text": "0<br>(0.0%)",
          "x": "Thunder",
          "xref": "x",
          "y": "Fairy",
          "yref": "y"
         },
         {
          "font": {
           "color": "#000000"
          },
          "showarrow": false,
          "text": "13<br>(11.7%)",
          "x": "Warrior",
          "xref": "x",
          "y": "Fairy",
          "yref": "y"
         },
         {
          "font": {
           "color": "#000000"
          },
          "showarrow": false,
          "text": "3<br>(2.7%)",
          "x": "Winged Beast",
          "xref": "x",
          "y": "Fairy",
          "yref": "y"
         },
         {
          "font": {
           "color": "#000000"
          },
          "showarrow": false,
          "text": "0<br>(0.0%)",
          "x": "Wyrm",
          "xref": "x",
          "y": "Fairy",
          "yref": "y"
         },
         {
          "font": {
           "color": "#000000"
          },
          "showarrow": false,
          "text": "2<br>(1.8%)",
          "x": "Zombie",
          "xref": "x",
          "y": "Fairy",
          "yref": "y"
         },
         {
          "font": {
           "color": "#000000"
          },
          "showarrow": false,
          "text": "6<br>(3.5%)",
          "x": "Aqua",
          "xref": "x",
          "y": "Fiend",
          "yref": "y"
         },
         {
          "font": {
           "color": "#000000"
          },
          "showarrow": false,
          "text": "8<br>(4.7%)",
          "x": "Beast",
          "xref": "x",
          "y": "Fiend",
          "yref": "y"
         },
         {
          "font": {
           "color": "#000000"
          },
          "showarrow": false,
          "text": "4<br>(2.4%)",
          "x": "Beast-Warrior",
          "xref": "x",
          "y": "Fiend",
          "yref": "y"
         },
         {
          "font": {
           "color": "#000000"
          },
          "showarrow": false,
          "text": "2<br>(1.2%)",
          "x": "Dinosaur",
          "xref": "x",
          "y": "Fiend",
          "yref": "y"
         },
         {
          "font": {
           "color": "#000000"
          },
          "showarrow": false,
          "text": "1<br>(0.6%)",
          "x": "Divine-Beast",
          "xref": "x",
          "y": "Fiend",
          "yref": "y"
         },
         {
          "font": {
           "color": "#000000"
          },
          "showarrow": false,
          "text": "3<br>(1.8%)",
          "x": "Dragon",
          "xref": "x",
          "y": "Fiend",
          "yref": "y"
         },
         {
          "font": {
           "color": "#000000"
          },
          "showarrow": false,
          "text": "7<br>(4.1%)",
          "x": "Fairy",
          "xref": "x",
          "y": "Fiend",
          "yref": "y"
         },
         {
          "font": {
           "color": "#000000"
          },
          "showarrow": false,
          "text": "50<br>(29.4%)",
          "x": "Fiend",
          "xref": "x",
          "y": "Fiend",
          "yref": "y"
         },
         {
          "font": {
           "color": "#000000"
          },
          "showarrow": false,
          "text": "0<br>(0.0%)",
          "x": "Fish",
          "xref": "x",
          "y": "Fiend",
          "yref": "y"
         },
         {
          "font": {
           "color": "#000000"
          },
          "showarrow": false,
          "text": "0<br>(0.0%)",
          "x": "Illusion",
          "xref": "x",
          "y": "Fiend",
          "yref": "y"
         },
         {
          "font": {
           "color": "#000000"
          },
          "showarrow": false,
          "text": "2<br>(1.2%)",
          "x": "Insect",
          "xref": "x",
          "y": "Fiend",
          "yref": "y"
         },
         {
          "font": {
           "color": "#000000"
          },
          "showarrow": false,
          "text": "18<br>(10.6%)",
          "x": "Machine",
          "xref": "x",
          "y": "Fiend",
          "yref": "y"
         },
         {
          "font": {
           "color": "#000000"
          },
          "showarrow": false,
          "text": "4<br>(2.4%)",
          "x": "Plant",
          "xref": "x",
          "y": "Fiend",
          "yref": "y"
         },
         {
          "font": {
           "color": "#000000"
          },
          "showarrow": false,
          "text": "0<br>(0.0%)",
          "x": "Psychic",
          "xref": "x",
          "y": "Fiend",
          "yref": "y"
         },
         {
          "font": {
           "color": "#000000"
          },
          "showarrow": false,
          "text": "6<br>(3.5%)",
          "x": "Pyro",
          "xref": "x",
          "y": "Fiend",
          "yref": "y"
         },
         {
          "font": {
           "color": "#000000"
          },
          "showarrow": false,
          "text": "0<br>(0.0%)",
          "x": "Reptile",
          "xref": "x",
          "y": "Fiend",
          "yref": "y"
         },
         {
          "font": {
           "color": "#000000"
          },
          "showarrow": false,
          "text": "3<br>(1.8%)",
          "x": "Rock",
          "xref": "x",
          "y": "Fiend",
          "yref": "y"
         },
         {
          "font": {
           "color": "#000000"
          },
          "showarrow": false,
          "text": "1<br>(0.6%)",
          "x": "Sea Serpent",
          "xref": "x",
          "y": "Fiend",
          "yref": "y"
         },
         {
          "font": {
           "color": "#000000"
          },
          "showarrow": false,
          "text": "17<br>(10.0%)",
          "x": "Spellcaster",
          "xref": "x",
          "y": "Fiend",
          "yref": "y"
         },
         {
          "font": {
           "color": "#000000"
          },
          "showarrow": false,
          "text": "2<br>(1.2%)",
          "x": "Thunder",
          "xref": "x",
          "y": "Fiend",
          "yref": "y"
         },
         {
          "font": {
           "color": "#000000"
          },
          "showarrow": false,
          "text": "24<br>(14.1%)",
          "x": "Warrior",
          "xref": "x",
          "y": "Fiend",
          "yref": "y"
         },
         {
          "font": {
           "color": "#000000"
          },
          "showarrow": false,
          "text": "3<br>(1.8%)",
          "x": "Winged Beast",
          "xref": "x",
          "y": "Fiend",
          "yref": "y"
         },
         {
          "font": {
           "color": "#000000"
          },
          "showarrow": false,
          "text": "0<br>(0.0%)",
          "x": "Wyrm",
          "xref": "x",
          "y": "Fiend",
          "yref": "y"
         },
         {
          "font": {
           "color": "#000000"
          },
          "showarrow": false,
          "text": "9<br>(5.3%)",
          "x": "Zombie",
          "xref": "x",
          "y": "Fiend",
          "yref": "y"
         },
         {
          "font": {
           "color": "#000000"
          },
          "showarrow": false,
          "text": "3<br>(10.3%)",
          "x": "Aqua",
          "xref": "x",
          "y": "Fish",
          "yref": "y"
         },
         {
          "font": {
           "color": "#000000"
          },
          "showarrow": false,
          "text": "3<br>(10.3%)",
          "x": "Beast",
          "xref": "x",
          "y": "Fish",
          "yref": "y"
         },
         {
          "font": {
           "color": "#000000"
          },
          "showarrow": false,
          "text": "0<br>(0.0%)",
          "x": "Beast-Warrior",
          "xref": "x",
          "y": "Fish",
          "yref": "y"
         },
         {
          "font": {
           "color": "#000000"
          },
          "showarrow": false,
          "text": "1<br>(3.4%)",
          "x": "Dinosaur",
          "xref": "x",
          "y": "Fish",
          "yref": "y"
         },
         {
          "font": {
           "color": "#000000"
          },
          "showarrow": false,
          "text": "0<br>(0.0%)",
          "x": "Divine-Beast",
          "xref": "x",
          "y": "Fish",
          "yref": "y"
         },
         {
          "font": {
           "color": "#000000"
          },
          "showarrow": false,
          "text": "1<br>(3.4%)",
          "x": "Dragon",
          "xref": "x",
          "y": "Fish",
          "yref": "y"
         },
         {
          "font": {
           "color": "#000000"
          },
          "showarrow": false,
          "text": "0<br>(0.0%)",
          "x": "Fairy",
          "xref": "x",
          "y": "Fish",
          "yref": "y"
         },
         {
          "font": {
           "color": "#000000"
          },
          "showarrow": false,
          "text": "1<br>(3.4%)",
          "x": "Fiend",
          "xref": "x",
          "y": "Fish",
          "yref": "y"
         },
         {
          "font": {
           "color": "#000000"
          },
          "showarrow": false,
          "text": "6<br>(20.7%)",
          "x": "Fish",
          "xref": "x",
          "y": "Fish",
          "yref": "y"
         },
         {
          "font": {
           "color": "#000000"
          },
          "showarrow": false,
          "text": "0<br>(0.0%)",
          "x": "Illusion",
          "xref": "x",
          "y": "Fish",
          "yref": "y"
         },
         {
          "font": {
           "color": "#000000"
          },
          "showarrow": false,
          "text": "1<br>(3.4%)",
          "x": "Insect",
          "xref": "x",
          "y": "Fish",
          "yref": "y"
         },
         {
          "font": {
           "color": "#000000"
          },
          "showarrow": false,
          "text": "8<br>(27.6%)",
          "x": "Machine",
          "xref": "x",
          "y": "Fish",
          "yref": "y"
         },
         {
          "font": {
           "color": "#000000"
          },
          "showarrow": false,
          "text": "0<br>(0.0%)",
          "x": "Plant",
          "xref": "x",
          "y": "Fish",
          "yref": "y"
         },
         {
          "font": {
           "color": "#000000"
          },
          "showarrow": false,
          "text": "0<br>(0.0%)",
          "x": "Psychic",
          "xref": "x",
          "y": "Fish",
          "yref": "y"
         },
         {
          "font": {
           "color": "#000000"
          },
          "showarrow": false,
          "text": "0<br>(0.0%)",
          "x": "Pyro",
          "xref": "x",
          "y": "Fish",
          "yref": "y"
         },
         {
          "font": {
           "color": "#000000"
          },
          "showarrow": false,
          "text": "1<br>(3.4%)",
          "x": "Reptile",
          "xref": "x",
          "y": "Fish",
          "yref": "y"
         },
         {
          "font": {
           "color": "#000000"
          },
          "showarrow": false,
          "text": "0<br>(0.0%)",
          "x": "Rock",
          "xref": "x",
          "y": "Fish",
          "yref": "y"
         },
         {
          "font": {
           "color": "#000000"
          },
          "showarrow": false,
          "text": "2<br>(6.9%)",
          "x": "Sea Serpent",
          "xref": "x",
          "y": "Fish",
          "yref": "y"
         },
         {
          "font": {
           "color": "#000000"
          },
          "showarrow": false,
          "text": "0<br>(0.0%)",
          "x": "Spellcaster",
          "xref": "x",
          "y": "Fish",
          "yref": "y"
         },
         {
          "font": {
           "color": "#000000"
          },
          "showarrow": false,
          "text": "0<br>(0.0%)",
          "x": "Thunder",
          "xref": "x",
          "y": "Fish",
          "yref": "y"
         },
         {
          "font": {
           "color": "#000000"
          },
          "showarrow": false,
          "text": "2<br>(6.9%)",
          "x": "Warrior",
          "xref": "x",
          "y": "Fish",
          "yref": "y"
         },
         {
          "font": {
           "color": "#000000"
          },
          "showarrow": false,
          "text": "0<br>(0.0%)",
          "x": "Winged Beast",
          "xref": "x",
          "y": "Fish",
          "yref": "y"
         },
         {
          "font": {
           "color": "#000000"
          },
          "showarrow": false,
          "text": "0<br>(0.0%)",
          "x": "Wyrm",
          "xref": "x",
          "y": "Fish",
          "yref": "y"
         },
         {
          "font": {
           "color": "#000000"
          },
          "showarrow": false,
          "text": "0<br>(0.0%)",
          "x": "Zombie",
          "xref": "x",
          "y": "Fish",
          "yref": "y"
         },
         {
          "font": {
           "color": "#000000"
          },
          "showarrow": false,
          "text": "0<br>(0.0%)",
          "x": "Aqua",
          "xref": "x",
          "y": "Illusion",
          "yref": "y"
         },
         {
          "font": {
           "color": "#000000"
          },
          "showarrow": false,
          "text": "0<br>(0.0%)",
          "x": "Beast",
          "xref": "x",
          "y": "Illusion",
          "yref": "y"
         },
         {
          "font": {
           "color": "#000000"
          },
          "showarrow": false,
          "text": "0<br>(0.0%)",
          "x": "Beast-Warrior",
          "xref": "x",
          "y": "Illusion",
          "yref": "y"
         },
         {
          "font": {
           "color": "#000000"
          },
          "showarrow": false,
          "text": "0<br>(0.0%)",
          "x": "Dinosaur",
          "xref": "x",
          "y": "Illusion",
          "yref": "y"
         },
         {
          "font": {
           "color": "#000000"
          },
          "showarrow": false,
          "text": "0<br>(0.0%)",
          "x": "Divine-Beast",
          "xref": "x",
          "y": "Illusion",
          "yref": "y"
         },
         {
          "font": {
           "color": "#000000"
          },
          "showarrow": false,
          "text": "0<br>(0.0%)",
          "x": "Dragon",
          "xref": "x",
          "y": "Illusion",
          "yref": "y"
         },
         {
          "font": {
           "color": "#000000"
          },
          "showarrow": false,
          "text": "1<br>(14.3%)",
          "x": "Fairy",
          "xref": "x",
          "y": "Illusion",
          "yref": "y"
         },
         {
          "font": {
           "color": "#000000"
          },
          "showarrow": false,
          "text": "2<br>(28.6%)",
          "x": "Fiend",
          "xref": "x",
          "y": "Illusion",
          "yref": "y"
         },
         {
          "font": {
           "color": "#000000"
          },
          "showarrow": false,
          "text": "0<br>(0.0%)",
          "x": "Fish",
          "xref": "x",
          "y": "Illusion",
          "yref": "y"
         },
         {
          "font": {
           "color": "#000000"
          },
          "showarrow": false,
          "text": "0<br>(0.0%)",
          "x": "Illusion",
          "xref": "x",
          "y": "Illusion",
          "yref": "y"
         },
         {
          "font": {
           "color": "#000000"
          },
          "showarrow": false,
          "text": "1<br>(14.3%)",
          "x": "Insect",
          "xref": "x",
          "y": "Illusion",
          "yref": "y"
         },
         {
          "font": {
           "color": "#000000"
          },
          "showarrow": false,
          "text": "1<br>(14.3%)",
          "x": "Machine",
          "xref": "x",
          "y": "Illusion",
          "yref": "y"
         },
         {
          "font": {
           "color": "#000000"
          },
          "showarrow": false,
          "text": "0<br>(0.0%)",
          "x": "Plant",
          "xref": "x",
          "y": "Illusion",
          "yref": "y"
         },
         {
          "font": {
           "color": "#000000"
          },
          "showarrow": false,
          "text": "0<br>(0.0%)",
          "x": "Psychic",
          "xref": "x",
          "y": "Illusion",
          "yref": "y"
         },
         {
          "font": {
           "color": "#000000"
          },
          "showarrow": false,
          "text": "0<br>(0.0%)",
          "x": "Pyro",
          "xref": "x",
          "y": "Illusion",
          "yref": "y"
         },
         {
          "font": {
           "color": "#000000"
          },
          "showarrow": false,
          "text": "0<br>(0.0%)",
          "x": "Reptile",
          "xref": "x",
          "y": "Illusion",
          "yref": "y"
         },
         {
          "font": {
           "color": "#000000"
          },
          "showarrow": false,
          "text": "0<br>(0.0%)",
          "x": "Rock",
          "xref": "x",
          "y": "Illusion",
          "yref": "y"
         },
         {
          "font": {
           "color": "#000000"
          },
          "showarrow": false,
          "text": "0<br>(0.0%)",
          "x": "Sea Serpent",
          "xref": "x",
          "y": "Illusion",
          "yref": "y"
         },
         {
          "font": {
           "color": "#000000"
          },
          "showarrow": false,
          "text": "1<br>(14.3%)",
          "x": "Spellcaster",
          "xref": "x",
          "y": "Illusion",
          "yref": "y"
         },
         {
          "font": {
           "color": "#000000"
          },
          "showarrow": false,
          "text": "0<br>(0.0%)",
          "x": "Thunder",
          "xref": "x",
          "y": "Illusion",
          "yref": "y"
         },
         {
          "font": {
           "color": "#000000"
          },
          "showarrow": false,
          "text": "1<br>(14.3%)",
          "x": "Warrior",
          "xref": "x",
          "y": "Illusion",
          "yref": "y"
         },
         {
          "font": {
           "color": "#000000"
          },
          "showarrow": false,
          "text": "0<br>(0.0%)",
          "x": "Winged Beast",
          "xref": "x",
          "y": "Illusion",
          "yref": "y"
         },
         {
          "font": {
           "color": "#000000"
          },
          "showarrow": false,
          "text": "0<br>(0.0%)",
          "x": "Wyrm",
          "xref": "x",
          "y": "Illusion",
          "yref": "y"
         },
         {
          "font": {
           "color": "#000000"
          },
          "showarrow": false,
          "text": "0<br>(0.0%)",
          "x": "Zombie",
          "xref": "x",
          "y": "Illusion",
          "yref": "y"
         },
         {
          "font": {
           "color": "#000000"
          },
          "showarrow": false,
          "text": "4<br>(7.5%)",
          "x": "Aqua",
          "xref": "x",
          "y": "Insect",
          "yref": "y"
         },
         {
          "font": {
           "color": "#000000"
          },
          "showarrow": false,
          "text": "1<br>(1.9%)",
          "x": "Beast",
          "xref": "x",
          "y": "Insect",
          "yref": "y"
         },
         {
          "font": {
           "color": "#000000"
          },
          "showarrow": false,
          "text": "0<br>(0.0%)",
          "x": "Beast-Warrior",
          "xref": "x",
          "y": "Insect",
          "yref": "y"
         },
         {
          "font": {
           "color": "#000000"
          },
          "showarrow": false,
          "text": "1<br>(1.9%)",
          "x": "Dinosaur",
          "xref": "x",
          "y": "Insect",
          "yref": "y"
         },
         {
          "font": {
           "color": "#000000"
          },
          "showarrow": false,
          "text": "0<br>(0.0%)",
          "x": "Divine-Beast",
          "xref": "x",
          "y": "Insect",
          "yref": "y"
         },
         {
          "font": {
           "color": "#000000"
          },
          "showarrow": false,
          "text": "0<br>(0.0%)",
          "x": "Dragon",
          "xref": "x",
          "y": "Insect",
          "yref": "y"
         },
         {
          "font": {
           "color": "#000000"
          },
          "showarrow": false,
          "text": "4<br>(7.5%)",
          "x": "Fairy",
          "xref": "x",
          "y": "Insect",
          "yref": "y"
         },
         {
          "font": {
           "color": "#000000"
          },
          "showarrow": false,
          "text": "5<br>(9.4%)",
          "x": "Fiend",
          "xref": "x",
          "y": "Insect",
          "yref": "y"
         },
         {
          "font": {
           "color": "#000000"
          },
          "showarrow": false,
          "text": "0<br>(0.0%)",
          "x": "Fish",
          "xref": "x",
          "y": "Insect",
          "yref": "y"
         },
         {
          "font": {
           "color": "#000000"
          },
          "showarrow": false,
          "text": "0<br>(0.0%)",
          "x": "Illusion",
          "xref": "x",
          "y": "Insect",
          "yref": "y"
         },
         {
          "font": {
           "color": "#000000"
          },
          "showarrow": false,
          "text": "7<br>(13.2%)",
          "x": "Insect",
          "xref": "x",
          "y": "Insect",
          "yref": "y"
         },
         {
          "font": {
           "color": "#000000"
          },
          "showarrow": false,
          "text": "6<br>(11.3%)",
          "x": "Machine",
          "xref": "x",
          "y": "Insect",
          "yref": "y"
         },
         {
          "font": {
           "color": "#000000"
          },
          "showarrow": false,
          "text": "1<br>(1.9%)",
          "x": "Plant",
          "xref": "x",
          "y": "Insect",
          "yref": "y"
         },
         {
          "font": {
           "color": "#000000"
          },
          "showarrow": false,
          "text": "1<br>(1.9%)",
          "x": "Psychic",
          "xref": "x",
          "y": "Insect",
          "yref": "y"
         },
         {
          "font": {
           "color": "#000000"
          },
          "showarrow": false,
          "text": "2<br>(3.8%)",
          "x": "Pyro",
          "xref": "x",
          "y": "Insect",
          "yref": "y"
         },
         {
          "font": {
           "color": "#000000"
          },
          "showarrow": false,
          "text": "1<br>(1.9%)",
          "x": "Reptile",
          "xref": "x",
          "y": "Insect",
          "yref": "y"
         },
         {
          "font": {
           "color": "#000000"
          },
          "showarrow": false,
          "text": "0<br>(0.0%)",
          "x": "Rock",
          "xref": "x",
          "y": "Insect",
          "yref": "y"
         },
         {
          "font": {
           "color": "#000000"
          },
          "showarrow": false,
          "text": "0<br>(0.0%)",
          "x": "Sea Serpent",
          "xref": "x",
          "y": "Insect",
          "yref": "y"
         },
         {
          "font": {
           "color": "#000000"
          },
          "showarrow": false,
          "text": "9<br>(17.0%)",
          "x": "Spellcaster",
          "xref": "x",
          "y": "Insect",
          "yref": "y"
         },
         {
          "font": {
           "color": "#000000"
          },
          "showarrow": false,
          "text": "2<br>(3.8%)",
          "x": "Thunder",
          "xref": "x",
          "y": "Insect",
          "yref": "y"
         },
         {
          "font": {
           "color": "#000000"
          },
          "showarrow": false,
          "text": "7<br>(13.2%)",
          "x": "Warrior",
          "xref": "x",
          "y": "Insect",
          "yref": "y"
         },
         {
          "font": {
           "color": "#000000"
          },
          "showarrow": false,
          "text": "0<br>(0.0%)",
          "x": "Winged Beast",
          "xref": "x",
          "y": "Insect",
          "yref": "y"
         },
         {
          "font": {
           "color": "#000000"
          },
          "showarrow": false,
          "text": "0<br>(0.0%)",
          "x": "Wyrm",
          "xref": "x",
          "y": "Insect",
          "yref": "y"
         },
         {
          "font": {
           "color": "#000000"
          },
          "showarrow": false,
          "text": "2<br>(3.8%)",
          "x": "Zombie",
          "xref": "x",
          "y": "Insect",
          "yref": "y"
         },
         {
          "font": {
           "color": "#000000"
          },
          "showarrow": false,
          "text": "4<br>(2.0%)",
          "x": "Aqua",
          "xref": "x",
          "y": "Machine",
          "yref": "y"
         },
         {
          "font": {
           "color": "#000000"
          },
          "showarrow": false,
          "text": "4<br>(2.0%)",
          "x": "Beast",
          "xref": "x",
          "y": "Machine",
          "yref": "y"
         },
         {
          "font": {
           "color": "#000000"
          },
          "showarrow": false,
          "text": "2<br>(1.0%)",
          "x": "Beast-Warrior",
          "xref": "x",
          "y": "Machine",
          "yref": "y"
         },
         {
          "font": {
           "color": "#000000"
          },
          "showarrow": false,
          "text": "2<br>(1.0%)",
          "x": "Dinosaur",
          "xref": "x",
          "y": "Machine",
          "yref": "y"
         },
         {
          "font": {
           "color": "#000000"
          },
          "showarrow": false,
          "text": "0<br>(0.0%)",
          "x": "Divine-Beast",
          "xref": "x",
          "y": "Machine",
          "yref": "y"
         },
         {
          "font": {
           "color": "#000000"
          },
          "showarrow": false,
          "text": "12<br>(6.0%)",
          "x": "Dragon",
          "xref": "x",
          "y": "Machine",
          "yref": "y"
         },
         {
          "font": {
           "color": "#000000"
          },
          "showarrow": false,
          "text": "6<br>(3.0%)",
          "x": "Fairy",
          "xref": "x",
          "y": "Machine",
          "yref": "y"
         },
         {
          "font": {
           "color": "#000000"
          },
          "showarrow": false,
          "text": "10<br>(5.0%)",
          "x": "Fiend",
          "xref": "x",
          "y": "Machine",
          "yref": "y"
         },
         {
          "font": {
           "color": "#000000"
          },
          "showarrow": false,
          "text": "5<br>(2.5%)",
          "x": "Fish",
          "xref": "x",
          "y": "Machine",
          "yref": "y"
         },
         {
          "font": {
           "color": "#000000"
          },
          "showarrow": false,
          "text": "0<br>(0.0%)",
          "x": "Illusion",
          "xref": "x",
          "y": "Machine",
          "yref": "y"
         },
         {
          "font": {
           "color": "#000000"
          },
          "showarrow": false,
          "text": "5<br>(2.5%)",
          "x": "Insect",
          "xref": "x",
          "y": "Machine",
          "yref": "y"
         },
         {
          "font": {
           "color": "#FFFFFF"
          },
          "showarrow": false,
          "text": "100<br>(50.3%)",
          "x": "Machine",
          "xref": "x",
          "y": "Machine",
          "yref": "y"
         },
         {
          "font": {
           "color": "#000000"
          },
          "showarrow": false,
          "text": "0<br>(0.0%)",
          "x": "Plant",
          "xref": "x",
          "y": "Machine",
          "yref": "y"
         },
         {
          "font": {
           "color": "#000000"
          },
          "showarrow": false,
          "text": "1<br>(0.5%)",
          "x": "Psychic",
          "xref": "x",
          "y": "Machine",
          "yref": "y"
         },
         {
          "font": {
           "color": "#000000"
          },
          "showarrow": false,
          "text": "2<br>(1.0%)",
          "x": "Pyro",
          "xref": "x",
          "y": "Machine",
          "yref": "y"
         },
         {
          "font": {
           "color": "#000000"
          },
          "showarrow": false,
          "text": "1<br>(0.5%)",
          "x": "Reptile",
          "xref": "x",
          "y": "Machine",
          "yref": "y"
         },
         {
          "font": {
           "color": "#000000"
          },
          "showarrow": false,
          "text": "5<br>(2.5%)",
          "x": "Rock",
          "xref": "x",
          "y": "Machine",
          "yref": "y"
         },
         {
          "font": {
           "color": "#000000"
          },
          "showarrow": false,
          "text": "0<br>(0.0%)",
          "x": "Sea Serpent",
          "xref": "x",
          "y": "Machine",
          "yref": "y"
         },
         {
          "font": {
           "color": "#000000"
          },
          "showarrow": false,
          "text": "11<br>(5.5%)",
          "x": "Spellcaster",
          "xref": "x",
          "y": "Machine",
          "yref": "y"
         },
         {
          "font": {
           "color": "#000000"
          },
          "showarrow": false,
          "text": "1<br>(0.5%)",
          "x": "Thunder",
          "xref": "x",
          "y": "Machine",
          "yref": "y"
         },
         {
          "font": {
           "color": "#000000"
          },
          "showarrow": false,
          "text": "20<br>(10.1%)",
          "x": "Warrior",
          "xref": "x",
          "y": "Machine",
          "yref": "y"
         },
         {
          "font": {
           "color": "#000000"
          },
          "showarrow": false,
          "text": "4<br>(2.0%)",
          "x": "Winged Beast",
          "xref": "x",
          "y": "Machine",
          "yref": "y"
         },
         {
          "font": {
           "color": "#000000"
          },
          "showarrow": false,
          "text": "1<br>(0.5%)",
          "x": "Wyrm",
          "xref": "x",
          "y": "Machine",
          "yref": "y"
         },
         {
          "font": {
           "color": "#000000"
          },
          "showarrow": false,
          "text": "3<br>(1.5%)",
          "x": "Zombie",
          "xref": "x",
          "y": "Machine",
          "yref": "y"
         },
         {
          "font": {
           "color": "#000000"
          },
          "showarrow": false,
          "text": "2<br>(4.1%)",
          "x": "Aqua",
          "xref": "x",
          "y": "Plant",
          "yref": "y"
         },
         {
          "font": {
           "color": "#000000"
          },
          "showarrow": false,
          "text": "7<br>(14.3%)",
          "x": "Beast",
          "xref": "x",
          "y": "Plant",
          "yref": "y"
         },
         {
          "font": {
           "color": "#000000"
          },
          "showarrow": false,
          "text": "0<br>(0.0%)",
          "x": "Beast-Warrior",
          "xref": "x",
          "y": "Plant",
          "yref": "y"
         },
         {
          "font": {
           "color": "#000000"
          },
          "showarrow": false,
          "text": "0<br>(0.0%)",
          "x": "Dinosaur",
          "xref": "x",
          "y": "Plant",
          "yref": "y"
         },
         {
          "font": {
           "color": "#000000"
          },
          "showarrow": false,
          "text": "0<br>(0.0%)",
          "x": "Divine-Beast",
          "xref": "x",
          "y": "Plant",
          "yref": "y"
         },
         {
          "font": {
           "color": "#000000"
          },
          "showarrow": false,
          "text": "1<br>(2.0%)",
          "x": "Dragon",
          "xref": "x",
          "y": "Plant",
          "yref": "y"
         },
         {
          "font": {
           "color": "#000000"
          },
          "showarrow": false,
          "text": "6<br>(12.2%)",
          "x": "Fairy",
          "xref": "x",
          "y": "Plant",
          "yref": "y"
         },
         {
          "font": {
           "color": "#000000"
          },
          "showarrow": false,
          "text": "5<br>(10.2%)",
          "x": "Fiend",
          "xref": "x",
          "y": "Plant",
          "yref": "y"
         },
         {
          "font": {
           "color": "#000000"
          },
          "showarrow": false,
          "text": "0<br>(0.0%)",
          "x": "Fish",
          "xref": "x",
          "y": "Plant",
          "yref": "y"
         },
         {
          "font": {
           "color": "#000000"
          },
          "showarrow": false,
          "text": "0<br>(0.0%)",
          "x": "Illusion",
          "xref": "x",
          "y": "Plant",
          "yref": "y"
         },
         {
          "font": {
           "color": "#000000"
          },
          "showarrow": false,
          "text": "1<br>(2.0%)",
          "x": "Insect",
          "xref": "x",
          "y": "Plant",
          "yref": "y"
         },
         {
          "font": {
           "color": "#000000"
          },
          "showarrow": false,
          "text": "1<br>(2.0%)",
          "x": "Machine",
          "xref": "x",
          "y": "Plant",
          "yref": "y"
         },
         {
          "font": {
           "color": "#000000"
          },
          "showarrow": false,
          "text": "7<br>(14.3%)",
          "x": "Plant",
          "xref": "x",
          "y": "Plant",
          "yref": "y"
         },
         {
          "font": {
           "color": "#000000"
          },
          "showarrow": false,
          "text": "1<br>(2.0%)",
          "x": "Psychic",
          "xref": "x",
          "y": "Plant",
          "yref": "y"
         },
         {
          "font": {
           "color": "#000000"
          },
          "showarrow": false,
          "text": "0<br>(0.0%)",
          "x": "Pyro",
          "xref": "x",
          "y": "Plant",
          "yref": "y"
         },
         {
          "font": {
           "color": "#000000"
          },
          "showarrow": false,
          "text": "1<br>(2.0%)",
          "x": "Reptile",
          "xref": "x",
          "y": "Plant",
          "yref": "y"
         },
         {
          "font": {
           "color": "#000000"
          },
          "showarrow": false,
          "text": "0<br>(0.0%)",
          "x": "Rock",
          "xref": "x",
          "y": "Plant",
          "yref": "y"
         },
         {
          "font": {
           "color": "#000000"
          },
          "showarrow": false,
          "text": "0<br>(0.0%)",
          "x": "Sea Serpent",
          "xref": "x",
          "y": "Plant",
          "yref": "y"
         },
         {
          "font": {
           "color": "#000000"
          },
          "showarrow": false,
          "text": "8<br>(16.3%)",
          "x": "Spellcaster",
          "xref": "x",
          "y": "Plant",
          "yref": "y"
         },
         {
          "font": {
           "color": "#000000"
          },
          "showarrow": false,
          "text": "1<br>(2.0%)",
          "x": "Thunder",
          "xref": "x",
          "y": "Plant",
          "yref": "y"
         },
         {
          "font": {
           "color": "#000000"
          },
          "showarrow": false,
          "text": "3<br>(6.1%)",
          "x": "Warrior",
          "xref": "x",
          "y": "Plant",
          "yref": "y"
         },
         {
          "font": {
           "color": "#000000"
          },
          "showarrow": false,
          "text": "3<br>(6.1%)",
          "x": "Winged Beast",
          "xref": "x",
          "y": "Plant",
          "yref": "y"
         },
         {
          "font": {
           "color": "#000000"
          },
          "showarrow": false,
          "text": "1<br>(2.0%)",
          "x": "Wyrm",
          "xref": "x",
          "y": "Plant",
          "yref": "y"
         },
         {
          "font": {
           "color": "#000000"
          },
          "showarrow": false,
          "text": "1<br>(2.0%)",
          "x": "Zombie",
          "xref": "x",
          "y": "Plant",
          "yref": "y"
         },
         {
          "font": {
           "color": "#000000"
          },
          "showarrow": false,
          "text": "1<br>(2.4%)",
          "x": "Aqua",
          "xref": "x",
          "y": "Psychic",
          "yref": "y"
         },
         {
          "font": {
           "color": "#000000"
          },
          "showarrow": false,
          "text": "1<br>(2.4%)",
          "x": "Beast",
          "xref": "x",
          "y": "Psychic",
          "yref": "y"
         },
         {
          "font": {
           "color": "#000000"
          },
          "showarrow": false,
          "text": "1<br>(2.4%)",
          "x": "Beast-Warrior",
          "xref": "x",
          "y": "Psychic",
          "yref": "y"
         },
         {
          "font": {
           "color": "#000000"
          },
          "showarrow": false,
          "text": "0<br>(0.0%)",
          "x": "Dinosaur",
          "xref": "x",
          "y": "Psychic",
          "yref": "y"
         },
         {
          "font": {
           "color": "#000000"
          },
          "showarrow": false,
          "text": "0<br>(0.0%)",
          "x": "Divine-Beast",
          "xref": "x",
          "y": "Psychic",
          "yref": "y"
         },
         {
          "font": {
           "color": "#000000"
          },
          "showarrow": false,
          "text": "1<br>(2.4%)",
          "x": "Dragon",
          "xref": "x",
          "y": "Psychic",
          "yref": "y"
         },
         {
          "font": {
           "color": "#000000"
          },
          "showarrow": false,
          "text": "1<br>(2.4%)",
          "x": "Fairy",
          "xref": "x",
          "y": "Psychic",
          "yref": "y"
         },
         {
          "font": {
           "color": "#000000"
          },
          "showarrow": false,
          "text": "3<br>(7.3%)",
          "x": "Fiend",
          "xref": "x",
          "y": "Psychic",
          "yref": "y"
         },
         {
          "font": {
           "color": "#000000"
          },
          "showarrow": false,
          "text": "0<br>(0.0%)",
          "x": "Fish",
          "xref": "x",
          "y": "Psychic",
          "yref": "y"
         },
         {
          "font": {
           "color": "#000000"
          },
          "showarrow": false,
          "text": "0<br>(0.0%)",
          "x": "Illusion",
          "xref": "x",
          "y": "Psychic",
          "yref": "y"
         },
         {
          "font": {
           "color": "#000000"
          },
          "showarrow": false,
          "text": "3<br>(7.3%)",
          "x": "Insect",
          "xref": "x",
          "y": "Psychic",
          "yref": "y"
         },
         {
          "font": {
           "color": "#000000"
          },
          "showarrow": false,
          "text": "5<br>(12.2%)",
          "x": "Machine",
          "xref": "x",
          "y": "Psychic",
          "yref": "y"
         },
         {
          "font": {
           "color": "#000000"
          },
          "showarrow": false,
          "text": "2<br>(4.9%)",
          "x": "Plant",
          "xref": "x",
          "y": "Psychic",
          "yref": "y"
         },
         {
          "font": {
           "color": "#000000"
          },
          "showarrow": false,
          "text": "10<br>(24.4%)",
          "x": "Psychic",
          "xref": "x",
          "y": "Psychic",
          "yref": "y"
         },
         {
          "font": {
           "color": "#000000"
          },
          "showarrow": false,
          "text": "0<br>(0.0%)",
          "x": "Pyro",
          "xref": "x",
          "y": "Psychic",
          "yref": "y"
         },
         {
          "font": {
           "color": "#000000"
          },
          "showarrow": false,
          "text": "1<br>(2.4%)",
          "x": "Reptile",
          "xref": "x",
          "y": "Psychic",
          "yref": "y"
         },
         {
          "font": {
           "color": "#000000"
          },
          "showarrow": false,
          "text": "0<br>(0.0%)",
          "x": "Rock",
          "xref": "x",
          "y": "Psychic",
          "yref": "y"
         },
         {
          "font": {
           "color": "#000000"
          },
          "showarrow": false,
          "text": "0<br>(0.0%)",
          "x": "Sea Serpent",
          "xref": "x",
          "y": "Psychic",
          "yref": "y"
         },
         {
          "font": {
           "color": "#000000"
          },
          "showarrow": false,
          "text": "3<br>(7.3%)",
          "x": "Spellcaster",
          "xref": "x",
          "y": "Psychic",
          "yref": "y"
         },
         {
          "font": {
           "color": "#000000"
          },
          "showarrow": false,
          "text": "1<br>(2.4%)",
          "x": "Thunder",
          "xref": "x",
          "y": "Psychic",
          "yref": "y"
         },
         {
          "font": {
           "color": "#000000"
          },
          "showarrow": false,
          "text": "7<br>(17.1%)",
          "x": "Warrior",
          "xref": "x",
          "y": "Psychic",
          "yref": "y"
         },
         {
          "font": {
           "color": "#000000"
          },
          "showarrow": false,
          "text": "0<br>(0.0%)",
          "x": "Winged Beast",
          "xref": "x",
          "y": "Psychic",
          "yref": "y"
         },
         {
          "font": {
           "color": "#000000"
          },
          "showarrow": false,
          "text": "0<br>(0.0%)",
          "x": "Wyrm",
          "xref": "x",
          "y": "Psychic",
          "yref": "y"
         },
         {
          "font": {
           "color": "#000000"
          },
          "showarrow": false,
          "text": "1<br>(2.4%)",
          "x": "Zombie",
          "xref": "x",
          "y": "Psychic",
          "yref": "y"
         },
         {
          "font": {
           "color": "#000000"
          },
          "showarrow": false,
          "text": "0<br>(0.0%)",
          "x": "Aqua",
          "xref": "x",
          "y": "Pyro",
          "yref": "y"
         },
         {
          "font": {
           "color": "#000000"
          },
          "showarrow": false,
          "text": "0<br>(0.0%)",
          "x": "Beast",
          "xref": "x",
          "y": "Pyro",
          "yref": "y"
         },
         {
          "font": {
           "color": "#000000"
          },
          "showarrow": false,
          "text": "1<br>(3.2%)",
          "x": "Beast-Warrior",
          "xref": "x",
          "y": "Pyro",
          "yref": "y"
         },
         {
          "font": {
           "color": "#000000"
          },
          "showarrow": false,
          "text": "0<br>(0.0%)",
          "x": "Dinosaur",
          "xref": "x",
          "y": "Pyro",
          "yref": "y"
         },
         {
          "font": {
           "color": "#000000"
          },
          "showarrow": false,
          "text": "0<br>(0.0%)",
          "x": "Divine-Beast",
          "xref": "x",
          "y": "Pyro",
          "yref": "y"
         },
         {
          "font": {
           "color": "#000000"
          },
          "showarrow": false,
          "text": "4<br>(12.9%)",
          "x": "Dragon",
          "xref": "x",
          "y": "Pyro",
          "yref": "y"
         },
         {
          "font": {
           "color": "#000000"
          },
          "showarrow": false,
          "text": "1<br>(3.2%)",
          "x": "Fairy",
          "xref": "x",
          "y": "Pyro",
          "yref": "y"
         },
         {
          "font": {
           "color": "#000000"
          },
          "showarrow": false,
          "text": "4<br>(12.9%)",
          "x": "Fiend",
          "xref": "x",
          "y": "Pyro",
          "yref": "y"
         },
         {
          "font": {
           "color": "#000000"
          },
          "showarrow": false,
          "text": "0<br>(0.0%)",
          "x": "Fish",
          "xref": "x",
          "y": "Pyro",
          "yref": "y"
         },
         {
          "font": {
           "color": "#000000"
          },
          "showarrow": false,
          "text": "0<br>(0.0%)",
          "x": "Illusion",
          "xref": "x",
          "y": "Pyro",
          "yref": "y"
         },
         {
          "font": {
           "color": "#000000"
          },
          "showarrow": false,
          "text": "0<br>(0.0%)",
          "x": "Insect",
          "xref": "x",
          "y": "Pyro",
          "yref": "y"
         },
         {
          "font": {
           "color": "#000000"
          },
          "showarrow": false,
          "text": "2<br>(6.5%)",
          "x": "Machine",
          "xref": "x",
          "y": "Pyro",
          "yref": "y"
         },
         {
          "font": {
           "color": "#000000"
          },
          "showarrow": false,
          "text": "0<br>(0.0%)",
          "x": "Plant",
          "xref": "x",
          "y": "Pyro",
          "yref": "y"
         },
         {
          "font": {
           "color": "#000000"
          },
          "showarrow": false,
          "text": "1<br>(3.2%)",
          "x": "Psychic",
          "xref": "x",
          "y": "Pyro",
          "yref": "y"
         },
         {
          "font": {
           "color": "#000000"
          },
          "showarrow": false,
          "text": "8<br>(25.8%)",
          "x": "Pyro",
          "xref": "x",
          "y": "Pyro",
          "yref": "y"
         },
         {
          "font": {
           "color": "#000000"
          },
          "showarrow": false,
          "text": "0<br>(0.0%)",
          "x": "Reptile",
          "xref": "x",
          "y": "Pyro",
          "yref": "y"
         },
         {
          "font": {
           "color": "#000000"
          },
          "showarrow": false,
          "text": "1<br>(3.2%)",
          "x": "Rock",
          "xref": "x",
          "y": "Pyro",
          "yref": "y"
         },
         {
          "font": {
           "color": "#000000"
          },
          "showarrow": false,
          "text": "0<br>(0.0%)",
          "x": "Sea Serpent",
          "xref": "x",
          "y": "Pyro",
          "yref": "y"
         },
         {
          "font": {
           "color": "#000000"
          },
          "showarrow": false,
          "text": "1<br>(3.2%)",
          "x": "Spellcaster",
          "xref": "x",
          "y": "Pyro",
          "yref": "y"
         },
         {
          "font": {
           "color": "#000000"
          },
          "showarrow": false,
          "text": "0<br>(0.0%)",
          "x": "Thunder",
          "xref": "x",
          "y": "Pyro",
          "yref": "y"
         },
         {
          "font": {
           "color": "#000000"
          },
          "showarrow": false,
          "text": "6<br>(19.4%)",
          "x": "Warrior",
          "xref": "x",
          "y": "Pyro",
          "yref": "y"
         },
         {
          "font": {
           "color": "#000000"
          },
          "showarrow": false,
          "text": "1<br>(3.2%)",
          "x": "Winged Beast",
          "xref": "x",
          "y": "Pyro",
          "yref": "y"
         },
         {
          "font": {
           "color": "#000000"
          },
          "showarrow": false,
          "text": "0<br>(0.0%)",
          "x": "Wyrm",
          "xref": "x",
          "y": "Pyro",
          "yref": "y"
         },
         {
          "font": {
           "color": "#000000"
          },
          "showarrow": false,
          "text": "1<br>(3.2%)",
          "x": "Zombie",
          "xref": "x",
          "y": "Pyro",
          "yref": "y"
         },
         {
          "font": {
           "color": "#000000"
          },
          "showarrow": false,
          "text": "1<br>(2.6%)",
          "x": "Aqua",
          "xref": "x",
          "y": "Reptile",
          "yref": "y"
         },
         {
          "font": {
           "color": "#000000"
          },
          "showarrow": false,
          "text": "3<br>(7.9%)",
          "x": "Beast",
          "xref": "x",
          "y": "Reptile",
          "yref": "y"
         },
         {
          "font": {
           "color": "#000000"
          },
          "showarrow": false,
          "text": "1<br>(2.6%)",
          "x": "Beast-Warrior",
          "xref": "x",
          "y": "Reptile",
          "yref": "y"
         },
         {
          "font": {
           "color": "#000000"
          },
          "showarrow": false,
          "text": "4<br>(10.5%)",
          "x": "Dinosaur",
          "xref": "x",
          "y": "Reptile",
          "yref": "y"
         },
         {
          "font": {
           "color": "#000000"
          },
          "showarrow": false,
          "text": "0<br>(0.0%)",
          "x": "Divine-Beast",
          "xref": "x",
          "y": "Reptile",
          "yref": "y"
         },
         {
          "font": {
           "color": "#000000"
          },
          "showarrow": false,
          "text": "0<br>(0.0%)",
          "x": "Dragon",
          "xref": "x",
          "y": "Reptile",
          "yref": "y"
         },
         {
          "font": {
           "color": "#000000"
          },
          "showarrow": false,
          "text": "1<br>(2.6%)",
          "x": "Fairy",
          "xref": "x",
          "y": "Reptile",
          "yref": "y"
         },
         {
          "font": {
           "color": "#000000"
          },
          "showarrow": false,
          "text": "7<br>(18.4%)",
          "x": "Fiend",
          "xref": "x",
          "y": "Reptile",
          "yref": "y"
         },
         {
          "font": {
           "color": "#000000"
          },
          "showarrow": false,
          "text": "2<br>(5.3%)",
          "x": "Fish",
          "xref": "x",
          "y": "Reptile",
          "yref": "y"
         },
         {
          "font": {
           "color": "#000000"
          },
          "showarrow": false,
          "text": "0<br>(0.0%)",
          "x": "Illusion",
          "xref": "x",
          "y": "Reptile",
          "yref": "y"
         },
         {
          "font": {
           "color": "#000000"
          },
          "showarrow": false,
          "text": "2<br>(5.3%)",
          "x": "Insect",
          "xref": "x",
          "y": "Reptile",
          "yref": "y"
         },
         {
          "font": {
           "color": "#000000"
          },
          "showarrow": false,
          "text": "4<br>(10.5%)",
          "x": "Machine",
          "xref": "x",
          "y": "Reptile",
          "yref": "y"
         },
         {
          "font": {
           "color": "#000000"
          },
          "showarrow": false,
          "text": "2<br>(5.3%)",
          "x": "Plant",
          "xref": "x",
          "y": "Reptile",
          "yref": "y"
         },
         {
          "font": {
           "color": "#000000"
          },
          "showarrow": false,
          "text": "0<br>(0.0%)",
          "x": "Psychic",
          "xref": "x",
          "y": "Reptile",
          "yref": "y"
         },
         {
          "font": {
           "color": "#000000"
          },
          "showarrow": false,
          "text": "1<br>(2.6%)",
          "x": "Pyro",
          "xref": "x",
          "y": "Reptile",
          "yref": "y"
         },
         {
          "font": {
           "color": "#000000"
          },
          "showarrow": false,
          "text": "3<br>(7.9%)",
          "x": "Reptile",
          "xref": "x",
          "y": "Reptile",
          "yref": "y"
         },
         {
          "font": {
           "color": "#000000"
          },
          "showarrow": false,
          "text": "1<br>(2.6%)",
          "x": "Rock",
          "xref": "x",
          "y": "Reptile",
          "yref": "y"
         },
         {
          "font": {
           "color": "#000000"
          },
          "showarrow": false,
          "text": "0<br>(0.0%)",
          "x": "Sea Serpent",
          "xref": "x",
          "y": "Reptile",
          "yref": "y"
         },
         {
          "font": {
           "color": "#000000"
          },
          "showarrow": false,
          "text": "1<br>(2.6%)",
          "x": "Spellcaster",
          "xref": "x",
          "y": "Reptile",
          "yref": "y"
         },
         {
          "font": {
           "color": "#000000"
          },
          "showarrow": false,
          "text": "0<br>(0.0%)",
          "x": "Thunder",
          "xref": "x",
          "y": "Reptile",
          "yref": "y"
         },
         {
          "font": {
           "color": "#000000"
          },
          "showarrow": false,
          "text": "1<br>(2.6%)",
          "x": "Warrior",
          "xref": "x",
          "y": "Reptile",
          "yref": "y"
         },
         {
          "font": {
           "color": "#000000"
          },
          "showarrow": false,
          "text": "2<br>(5.3%)",
          "x": "Winged Beast",
          "xref": "x",
          "y": "Reptile",
          "yref": "y"
         },
         {
          "font": {
           "color": "#000000"
          },
          "showarrow": false,
          "text": "0<br>(0.0%)",
          "x": "Wyrm",
          "xref": "x",
          "y": "Reptile",
          "yref": "y"
         },
         {
          "font": {
           "color": "#000000"
          },
          "showarrow": false,
          "text": "2<br>(5.3%)",
          "x": "Zombie",
          "xref": "x",
          "y": "Reptile",
          "yref": "y"
         },
         {
          "font": {
           "color": "#000000"
          },
          "showarrow": false,
          "text": "2<br>(3.8%)",
          "x": "Aqua",
          "xref": "x",
          "y": "Rock",
          "yref": "y"
         },
         {
          "font": {
           "color": "#000000"
          },
          "showarrow": false,
          "text": "3<br>(5.8%)",
          "x": "Beast",
          "xref": "x",
          "y": "Rock",
          "yref": "y"
         },
         {
          "font": {
           "color": "#000000"
          },
          "showarrow": false,
          "text": "1<br>(1.9%)",
          "x": "Beast-Warrior",
          "xref": "x",
          "y": "Rock",
          "yref": "y"
         },
         {
          "font": {
           "color": "#000000"
          },
          "showarrow": false,
          "text": "2<br>(3.8%)",
          "x": "Dinosaur",
          "xref": "x",
          "y": "Rock",
          "yref": "y"
         },
         {
          "font": {
           "color": "#000000"
          },
          "showarrow": false,
          "text": "0<br>(0.0%)",
          "x": "Divine-Beast",
          "xref": "x",
          "y": "Rock",
          "yref": "y"
         },
         {
          "font": {
           "color": "#000000"
          },
          "showarrow": false,
          "text": "3<br>(5.8%)",
          "x": "Dragon",
          "xref": "x",
          "y": "Rock",
          "yref": "y"
         },
         {
          "font": {
           "color": "#000000"
          },
          "showarrow": false,
          "text": "1<br>(1.9%)",
          "x": "Fairy",
          "xref": "x",
          "y": "Rock",
          "yref": "y"
         },
         {
          "font": {
           "color": "#000000"
          },
          "showarrow": false,
          "text": "7<br>(13.5%)",
          "x": "Fiend",
          "xref": "x",
          "y": "Rock",
          "yref": "y"
         },
         {
          "font": {
           "color": "#000000"
          },
          "showarrow": false,
          "text": "0<br>(0.0%)",
          "x": "Fish",
          "xref": "x",
          "y": "Rock",
          "yref": "y"
         },
         {
          "font": {
           "color": "#000000"
          },
          "showarrow": false,
          "text": "0<br>(0.0%)",
          "x": "Illusion",
          "xref": "x",
          "y": "Rock",
          "yref": "y"
         },
         {
          "font": {
           "color": "#000000"
          },
          "showarrow": false,
          "text": "1<br>(1.9%)",
          "x": "Insect",
          "xref": "x",
          "y": "Rock",
          "yref": "y"
         },
         {
          "font": {
           "color": "#000000"
          },
          "showarrow": false,
          "text": "9<br>(17.3%)",
          "x": "Machine",
          "xref": "x",
          "y": "Rock",
          "yref": "y"
         },
         {
          "font": {
           "color": "#000000"
          },
          "showarrow": false,
          "text": "1<br>(1.9%)",
          "x": "Plant",
          "xref": "x",
          "y": "Rock",
          "yref": "y"
         },
         {
          "font": {
           "color": "#000000"
          },
          "showarrow": false,
          "text": "1<br>(1.9%)",
          "x": "Psychic",
          "xref": "x",
          "y": "Rock",
          "yref": "y"
         },
         {
          "font": {
           "color": "#000000"
          },
          "showarrow": false,
          "text": "0<br>(0.0%)",
          "x": "Pyro",
          "xref": "x",
          "y": "Rock",
          "yref": "y"
         },
         {
          "font": {
           "color": "#000000"
          },
          "showarrow": false,
          "text": "2<br>(3.8%)",
          "x": "Reptile",
          "xref": "x",
          "y": "Rock",
          "yref": "y"
         },
         {
          "font": {
           "color": "#000000"
          },
          "showarrow": false,
          "text": "7<br>(13.5%)",
          "x": "Rock",
          "xref": "x",
          "y": "Rock",
          "yref": "y"
         },
         {
          "font": {
           "color": "#000000"
          },
          "showarrow": false,
          "text": "0<br>(0.0%)",
          "x": "Sea Serpent",
          "xref": "x",
          "y": "Rock",
          "yref": "y"
         },
         {
          "font": {
           "color": "#000000"
          },
          "showarrow": false,
          "text": "2<br>(3.8%)",
          "x": "Spellcaster",
          "xref": "x",
          "y": "Rock",
          "yref": "y"
         },
         {
          "font": {
           "color": "#000000"
          },
          "showarrow": false,
          "text": "1<br>(1.9%)",
          "x": "Thunder",
          "xref": "x",
          "y": "Rock",
          "yref": "y"
         },
         {
          "font": {
           "color": "#000000"
          },
          "showarrow": false,
          "text": "5<br>(9.6%)",
          "x": "Warrior",
          "xref": "x",
          "y": "Rock",
          "yref": "y"
         },
         {
          "font": {
           "color": "#000000"
          },
          "showarrow": false,
          "text": "1<br>(1.9%)",
          "x": "Winged Beast",
          "xref": "x",
          "y": "Rock",
          "yref": "y"
         },
         {
          "font": {
           "color": "#000000"
          },
          "showarrow": false,
          "text": "0<br>(0.0%)",
          "x": "Wyrm",
          "xref": "x",
          "y": "Rock",
          "yref": "y"
         },
         {
          "font": {
           "color": "#000000"
          },
          "showarrow": false,
          "text": "3<br>(5.8%)",
          "x": "Zombie",
          "xref": "x",
          "y": "Rock",
          "yref": "y"
         },
         {
          "font": {
           "color": "#000000"
          },
          "showarrow": false,
          "text": "1<br>(5.3%)",
          "x": "Aqua",
          "xref": "x",
          "y": "Sea Serpent",
          "yref": "y"
         },
         {
          "font": {
           "color": "#000000"
          },
          "showarrow": false,
          "text": "0<br>(0.0%)",
          "x": "Beast",
          "xref": "x",
          "y": "Sea Serpent",
          "yref": "y"
         },
         {
          "font": {
           "color": "#000000"
          },
          "showarrow": false,
          "text": "0<br>(0.0%)",
          "x": "Beast-Warrior",
          "xref": "x",
          "y": "Sea Serpent",
          "yref": "y"
         },
         {
          "font": {
           "color": "#000000"
          },
          "showarrow": false,
          "text": "1<br>(5.3%)",
          "x": "Dinosaur",
          "xref": "x",
          "y": "Sea Serpent",
          "yref": "y"
         },
         {
          "font": {
           "color": "#000000"
          },
          "showarrow": false,
          "text": "0<br>(0.0%)",
          "x": "Divine-Beast",
          "xref": "x",
          "y": "Sea Serpent",
          "yref": "y"
         },
         {
          "font": {
           "color": "#000000"
          },
          "showarrow": false,
          "text": "4<br>(21.1%)",
          "x": "Dragon",
          "xref": "x",
          "y": "Sea Serpent",
          "yref": "y"
         },
         {
          "font": {
           "color": "#000000"
          },
          "showarrow": false,
          "text": "1<br>(5.3%)",
          "x": "Fairy",
          "xref": "x",
          "y": "Sea Serpent",
          "yref": "y"
         },
         {
          "font": {
           "color": "#000000"
          },
          "showarrow": false,
          "text": "0<br>(0.0%)",
          "x": "Fiend",
          "xref": "x",
          "y": "Sea Serpent",
          "yref": "y"
         },
         {
          "font": {
           "color": "#000000"
          },
          "showarrow": false,
          "text": "1<br>(5.3%)",
          "x": "Fish",
          "xref": "x",
          "y": "Sea Serpent",
          "yref": "y"
         },
         {
          "font": {
           "color": "#000000"
          },
          "showarrow": false,
          "text": "0<br>(0.0%)",
          "x": "Illusion",
          "xref": "x",
          "y": "Sea Serpent",
          "yref": "y"
         },
         {
          "font": {
           "color": "#000000"
          },
          "showarrow": false,
          "text": "2<br>(10.5%)",
          "x": "Insect",
          "xref": "x",
          "y": "Sea Serpent",
          "yref": "y"
         },
         {
          "font": {
           "color": "#000000"
          },
          "showarrow": false,
          "text": "1<br>(5.3%)",
          "x": "Machine",
          "xref": "x",
          "y": "Sea Serpent",
          "yref": "y"
         },
         {
          "font": {
           "color": "#000000"
          },
          "showarrow": false,
          "text": "0<br>(0.0%)",
          "x": "Plant",
          "xref": "x",
          "y": "Sea Serpent",
          "yref": "y"
         },
         {
          "font": {
           "color": "#000000"
          },
          "showarrow": false,
          "text": "0<br>(0.0%)",
          "x": "Psychic",
          "xref": "x",
          "y": "Sea Serpent",
          "yref": "y"
         },
         {
          "font": {
           "color": "#000000"
          },
          "showarrow": false,
          "text": "0<br>(0.0%)",
          "x": "Pyro",
          "xref": "x",
          "y": "Sea Serpent",
          "yref": "y"
         },
         {
          "font": {
           "color": "#000000"
          },
          "showarrow": false,
          "text": "0<br>(0.0%)",
          "x": "Reptile",
          "xref": "x",
          "y": "Sea Serpent",
          "yref": "y"
         },
         {
          "font": {
           "color": "#000000"
          },
          "showarrow": false,
          "text": "1<br>(5.3%)",
          "x": "Rock",
          "xref": "x",
          "y": "Sea Serpent",
          "yref": "y"
         },
         {
          "font": {
           "color": "#000000"
          },
          "showarrow": false,
          "text": "2<br>(10.5%)",
          "x": "Sea Serpent",
          "xref": "x",
          "y": "Sea Serpent",
          "yref": "y"
         },
         {
          "font": {
           "color": "#000000"
          },
          "showarrow": false,
          "text": "1<br>(5.3%)",
          "x": "Spellcaster",
          "xref": "x",
          "y": "Sea Serpent",
          "yref": "y"
         },
         {
          "font": {
           "color": "#000000"
          },
          "showarrow": false,
          "text": "0<br>(0.0%)",
          "x": "Thunder",
          "xref": "x",
          "y": "Sea Serpent",
          "yref": "y"
         },
         {
          "font": {
           "color": "#000000"
          },
          "showarrow": false,
          "text": "1<br>(5.3%)",
          "x": "Warrior",
          "xref": "x",
          "y": "Sea Serpent",
          "yref": "y"
         },
         {
          "font": {
           "color": "#000000"
          },
          "showarrow": false,
          "text": "2<br>(10.5%)",
          "x": "Winged Beast",
          "xref": "x",
          "y": "Sea Serpent",
          "yref": "y"
         },
         {
          "font": {
           "color": "#000000"
          },
          "showarrow": false,
          "text": "0<br>(0.0%)",
          "x": "Wyrm",
          "xref": "x",
          "y": "Sea Serpent",
          "yref": "y"
         },
         {
          "font": {
           "color": "#000000"
          },
          "showarrow": false,
          "text": "1<br>(5.3%)",
          "x": "Zombie",
          "xref": "x",
          "y": "Sea Serpent",
          "yref": "y"
         },
         {
          "font": {
           "color": "#000000"
          },
          "showarrow": false,
          "text": "5<br>(3.3%)",
          "x": "Aqua",
          "xref": "x",
          "y": "Spellcaster",
          "yref": "y"
         },
         {
          "font": {
           "color": "#000000"
          },
          "showarrow": false,
          "text": "2<br>(1.3%)",
          "x": "Beast",
          "xref": "x",
          "y": "Spellcaster",
          "yref": "y"
         },
         {
          "font": {
           "color": "#000000"
          },
          "showarrow": false,
          "text": "5<br>(3.3%)",
          "x": "Beast-Warrior",
          "xref": "x",
          "y": "Spellcaster",
          "yref": "y"
         },
         {
          "font": {
           "color": "#000000"
          },
          "showarrow": false,
          "text": "0<br>(0.0%)",
          "x": "Dinosaur",
          "xref": "x",
          "y": "Spellcaster",
          "yref": "y"
         },
         {
          "font": {
           "color": "#000000"
          },
          "showarrow": false,
          "text": "0<br>(0.0%)",
          "x": "Divine-Beast",
          "xref": "x",
          "y": "Spellcaster",
          "yref": "y"
         },
         {
          "font": {
           "color": "#000000"
          },
          "showarrow": false,
          "text": "1<br>(0.7%)",
          "x": "Dragon",
          "xref": "x",
          "y": "Spellcaster",
          "yref": "y"
         },
         {
          "font": {
           "color": "#000000"
          },
          "showarrow": false,
          "text": "18<br>(12.0%)",
          "x": "Fairy",
          "xref": "x",
          "y": "Spellcaster",
          "yref": "y"
         },
         {
          "font": {
           "color": "#000000"
          },
          "showarrow": false,
          "text": "14<br>(9.3%)",
          "x": "Fiend",
          "xref": "x",
          "y": "Spellcaster",
          "yref": "y"
         },
         {
          "font": {
           "color": "#000000"
          },
          "showarrow": false,
          "text": "1<br>(0.7%)",
          "x": "Fish",
          "xref": "x",
          "y": "Spellcaster",
          "yref": "y"
         },
         {
          "font": {
           "color": "#000000"
          },
          "showarrow": false,
          "text": "0<br>(0.0%)",
          "x": "Illusion",
          "xref": "x",
          "y": "Spellcaster",
          "yref": "y"
         },
         {
          "font": {
           "color": "#000000"
          },
          "showarrow": false,
          "text": "2<br>(1.3%)",
          "x": "Insect",
          "xref": "x",
          "y": "Spellcaster",
          "yref": "y"
         },
         {
          "font": {
           "color": "#000000"
          },
          "showarrow": false,
          "text": "9<br>(6.0%)",
          "x": "Machine",
          "xref": "x",
          "y": "Spellcaster",
          "yref": "y"
         },
         {
          "font": {
           "color": "#000000"
          },
          "showarrow": false,
          "text": "2<br>(1.3%)",
          "x": "Plant",
          "xref": "x",
          "y": "Spellcaster",
          "yref": "y"
         },
         {
          "font": {
           "color": "#000000"
          },
          "showarrow": false,
          "text": "3<br>(2.0%)",
          "x": "Psychic",
          "xref": "x",
          "y": "Spellcaster",
          "yref": "y"
         },
         {
          "font": {
           "color": "#000000"
          },
          "showarrow": false,
          "text": "5<br>(3.3%)",
          "x": "Pyro",
          "xref": "x",
          "y": "Spellcaster",
          "yref": "y"
         },
         {
          "font": {
           "color": "#000000"
          },
          "showarrow": false,
          "text": "1<br>(0.7%)",
          "x": "Reptile",
          "xref": "x",
          "y": "Spellcaster",
          "yref": "y"
         },
         {
          "font": {
           "color": "#000000"
          },
          "showarrow": false,
          "text": "0<br>(0.0%)",
          "x": "Rock",
          "xref": "x",
          "y": "Spellcaster",
          "yref": "y"
         },
         {
          "font": {
           "color": "#000000"
          },
          "showarrow": false,
          "text": "0<br>(0.0%)",
          "x": "Sea Serpent",
          "xref": "x",
          "y": "Spellcaster",
          "yref": "y"
         },
         {
          "font": {
           "color": "#000000"
          },
          "showarrow": false,
          "text": "49<br>(32.7%)",
          "x": "Spellcaster",
          "xref": "x",
          "y": "Spellcaster",
          "yref": "y"
         },
         {
          "font": {
           "color": "#000000"
          },
          "showarrow": false,
          "text": "2<br>(1.3%)",
          "x": "Thunder",
          "xref": "x",
          "y": "Spellcaster",
          "yref": "y"
         },
         {
          "font": {
           "color": "#000000"
          },
          "showarrow": false,
          "text": "23<br>(15.3%)",
          "x": "Warrior",
          "xref": "x",
          "y": "Spellcaster",
          "yref": "y"
         },
         {
          "font": {
           "color": "#000000"
          },
          "showarrow": false,
          "text": "6<br>(4.0%)",
          "x": "Winged Beast",
          "xref": "x",
          "y": "Spellcaster",
          "yref": "y"
         },
         {
          "font": {
           "color": "#000000"
          },
          "showarrow": false,
          "text": "0<br>(0.0%)",
          "x": "Wyrm",
          "xref": "x",
          "y": "Spellcaster",
          "yref": "y"
         },
         {
          "font": {
           "color": "#000000"
          },
          "showarrow": false,
          "text": "2<br>(1.3%)",
          "x": "Zombie",
          "xref": "x",
          "y": "Spellcaster",
          "yref": "y"
         },
         {
          "font": {
           "color": "#000000"
          },
          "showarrow": false,
          "text": "0<br>(0.0%)",
          "x": "Aqua",
          "xref": "x",
          "y": "Thunder",
          "yref": "y"
         },
         {
          "font": {
           "color": "#000000"
          },
          "showarrow": false,
          "text": "2<br>(7.1%)",
          "x": "Beast",
          "xref": "x",
          "y": "Thunder",
          "yref": "y"
         },
         {
          "font": {
           "color": "#000000"
          },
          "showarrow": false,
          "text": "1<br>(3.6%)",
          "x": "Beast-Warrior",
          "xref": "x",
          "y": "Thunder",
          "yref": "y"
         },
         {
          "font": {
           "color": "#000000"
          },
          "showarrow": false,
          "text": "0<br>(0.0%)",
          "x": "Dinosaur",
          "xref": "x",
          "y": "Thunder",
          "yref": "y"
         },
         {
          "font": {
           "color": "#000000"
          },
          "showarrow": false,
          "text": "0<br>(0.0%)",
          "x": "Divine-Beast",
          "xref": "x",
          "y": "Thunder",
          "yref": "y"
         },
         {
          "font": {
           "color": "#000000"
          },
          "showarrow": false,
          "text": "3<br>(10.7%)",
          "x": "Dragon",
          "xref": "x",
          "y": "Thunder",
          "yref": "y"
         },
         {
          "font": {
           "color": "#000000"
          },
          "showarrow": false,
          "text": "1<br>(3.6%)",
          "x": "Fairy",
          "xref": "x",
          "y": "Thunder",
          "yref": "y"
         },
         {
          "font": {
           "color": "#000000"
          },
          "showarrow": false,
          "text": "3<br>(10.7%)",
          "x": "Fiend",
          "xref": "x",
          "y": "Thunder",
          "yref": "y"
         },
         {
          "font": {
           "color": "#000000"
          },
          "showarrow": false,
          "text": "0<br>(0.0%)",
          "x": "Fish",
          "xref": "x",
          "y": "Thunder",
          "yref": "y"
         },
         {
          "font": {
           "color": "#000000"
          },
          "showarrow": false,
          "text": "0<br>(0.0%)",
          "x": "Illusion",
          "xref": "x",
          "y": "Thunder",
          "yref": "y"
         },
         {
          "font": {
           "color": "#000000"
          },
          "showarrow": false,
          "text": "0<br>(0.0%)",
          "x": "Insect",
          "xref": "x",
          "y": "Thunder",
          "yref": "y"
         },
         {
          "font": {
           "color": "#000000"
          },
          "showarrow": false,
          "text": "7<br>(25.0%)",
          "x": "Machine",
          "xref": "x",
          "y": "Thunder",
          "yref": "y"
         },
         {
          "font": {
           "color": "#000000"
          },
          "showarrow": false,
          "text": "0<br>(0.0%)",
          "x": "Plant",
          "xref": "x",
          "y": "Thunder",
          "yref": "y"
         },
         {
          "font": {
           "color": "#000000"
          },
          "showarrow": false,
          "text": "0<br>(0.0%)",
          "x": "Psychic",
          "xref": "x",
          "y": "Thunder",
          "yref": "y"
         },
         {
          "font": {
           "color": "#000000"
          },
          "showarrow": false,
          "text": "0<br>(0.0%)",
          "x": "Pyro",
          "xref": "x",
          "y": "Thunder",
          "yref": "y"
         },
         {
          "font": {
           "color": "#000000"
          },
          "showarrow": false,
          "text": "0<br>(0.0%)",
          "x": "Reptile",
          "xref": "x",
          "y": "Thunder",
          "yref": "y"
         },
         {
          "font": {
           "color": "#000000"
          },
          "showarrow": false,
          "text": "0<br>(0.0%)",
          "x": "Rock",
          "xref": "x",
          "y": "Thunder",
          "yref": "y"
         },
         {
          "font": {
           "color": "#000000"
          },
          "showarrow": false,
          "text": "0<br>(0.0%)",
          "x": "Sea Serpent",
          "xref": "x",
          "y": "Thunder",
          "yref": "y"
         },
         {
          "font": {
           "color": "#000000"
          },
          "showarrow": false,
          "text": "1<br>(3.6%)",
          "x": "Spellcaster",
          "xref": "x",
          "y": "Thunder",
          "yref": "y"
         },
         {
          "font": {
           "color": "#000000"
          },
          "showarrow": false,
          "text": "7<br>(25.0%)",
          "x": "Thunder",
          "xref": "x",
          "y": "Thunder",
          "yref": "y"
         },
         {
          "font": {
           "color": "#000000"
          },
          "showarrow": false,
          "text": "3<br>(10.7%)",
          "x": "Warrior",
          "xref": "x",
          "y": "Thunder",
          "yref": "y"
         },
         {
          "font": {
           "color": "#000000"
          },
          "showarrow": false,
          "text": "0<br>(0.0%)",
          "x": "Winged Beast",
          "xref": "x",
          "y": "Thunder",
          "yref": "y"
         },
         {
          "font": {
           "color": "#000000"
          },
          "showarrow": false,
          "text": "0<br>(0.0%)",
          "x": "Wyrm",
          "xref": "x",
          "y": "Thunder",
          "yref": "y"
         },
         {
          "font": {
           "color": "#000000"
          },
          "showarrow": false,
          "text": "0<br>(0.0%)",
          "x": "Zombie",
          "xref": "x",
          "y": "Thunder",
          "yref": "y"
         },
         {
          "font": {
           "color": "#000000"
          },
          "showarrow": false,
          "text": "5<br>(2.3%)",
          "x": "Aqua",
          "xref": "x",
          "y": "Warrior",
          "yref": "y"
         },
         {
          "font": {
           "color": "#000000"
          },
          "showarrow": false,
          "text": "4<br>(1.8%)",
          "x": "Beast",
          "xref": "x",
          "y": "Warrior",
          "yref": "y"
         },
         {
          "font": {
           "color": "#000000"
          },
          "showarrow": false,
          "text": "6<br>(2.7%)",
          "x": "Beast-Warrior",
          "xref": "x",
          "y": "Warrior",
          "yref": "y"
         },
         {
          "font": {
           "color": "#000000"
          },
          "showarrow": false,
          "text": "0<br>(0.0%)",
          "x": "Dinosaur",
          "xref": "x",
          "y": "Warrior",
          "yref": "y"
         },
         {
          "font": {
           "color": "#000000"
          },
          "showarrow": false,
          "text": "0<br>(0.0%)",
          "x": "Divine-Beast",
          "xref": "x",
          "y": "Warrior",
          "yref": "y"
         },
         {
          "font": {
           "color": "#000000"
          },
          "showarrow": false,
          "text": "2<br>(0.9%)",
          "x": "Dragon",
          "xref": "x",
          "y": "Warrior",
          "yref": "y"
         },
         {
          "font": {
           "color": "#000000"
          },
          "showarrow": false,
          "text": "9<br>(4.1%)",
          "x": "Fairy",
          "xref": "x",
          "y": "Warrior",
          "yref": "y"
         },
         {
          "font": {
           "color": "#000000"
          },
          "showarrow": false,
          "text": "16<br>(7.2%)",
          "x": "Fiend",
          "xref": "x",
          "y": "Warrior",
          "yref": "y"
         },
         {
          "font": {
           "color": "#000000"
          },
          "showarrow": false,
          "text": "0<br>(0.0%)",
          "x": "Fish",
          "xref": "x",
          "y": "Warrior",
          "yref": "y"
         },
         {
          "font": {
           "color": "#000000"
          },
          "showarrow": false,
          "text": "0<br>(0.0%)",
          "x": "Illusion",
          "xref": "x",
          "y": "Warrior",
          "yref": "y"
         },
         {
          "font": {
           "color": "#000000"
          },
          "showarrow": false,
          "text": "4<br>(1.8%)",
          "x": "Insect",
          "xref": "x",
          "y": "Warrior",
          "yref": "y"
         },
         {
          "font": {
           "color": "#000000"
          },
          "showarrow": false,
          "text": "27<br>(12.2%)",
          "x": "Machine",
          "xref": "x",
          "y": "Warrior",
          "yref": "y"
         },
         {
          "font": {
           "color": "#000000"
          },
          "showarrow": false,
          "text": "2<br>(0.9%)",
          "x": "Plant",
          "xref": "x",
          "y": "Warrior",
          "yref": "y"
         },
         {
          "font": {
           "color": "#000000"
          },
          "showarrow": false,
          "text": "3<br>(1.4%)",
          "x": "Psychic",
          "xref": "x",
          "y": "Warrior",
          "yref": "y"
         },
         {
          "font": {
           "color": "#000000"
          },
          "showarrow": false,
          "text": "3<br>(1.4%)",
          "x": "Pyro",
          "xref": "x",
          "y": "Warrior",
          "yref": "y"
         },
         {
          "font": {
           "color": "#000000"
          },
          "showarrow": false,
          "text": "1<br>(0.5%)",
          "x": "Reptile",
          "xref": "x",
          "y": "Warrior",
          "yref": "y"
         },
         {
          "font": {
           "color": "#000000"
          },
          "showarrow": false,
          "text": "8<br>(3.6%)",
          "x": "Rock",
          "xref": "x",
          "y": "Warrior",
          "yref": "y"
         },
         {
          "font": {
           "color": "#000000"
          },
          "showarrow": false,
          "text": "2<br>(0.9%)",
          "x": "Sea Serpent",
          "xref": "x",
          "y": "Warrior",
          "yref": "y"
         },
         {
          "font": {
           "color": "#000000"
          },
          "showarrow": false,
          "text": "27<br>(12.2%)",
          "x": "Spellcaster",
          "xref": "x",
          "y": "Warrior",
          "yref": "y"
         },
         {
          "font": {
           "color": "#000000"
          },
          "showarrow": false,
          "text": "0<br>(0.0%)",
          "x": "Thunder",
          "xref": "x",
          "y": "Warrior",
          "yref": "y"
         },
         {
          "font": {
           "color": "#000000"
          },
          "showarrow": false,
          "text": "101<br>(45.7%)",
          "x": "Warrior",
          "xref": "x",
          "y": "Warrior",
          "yref": "y"
         },
         {
          "font": {
           "color": "#000000"
          },
          "showarrow": false,
          "text": "0<br>(0.0%)",
          "x": "Winged Beast",
          "xref": "x",
          "y": "Warrior",
          "yref": "y"
         },
         {
          "font": {
           "color": "#000000"
          },
          "showarrow": false,
          "text": "0<br>(0.0%)",
          "x": "Wyrm",
          "xref": "x",
          "y": "Warrior",
          "yref": "y"
         },
         {
          "font": {
           "color": "#000000"
          },
          "showarrow": false,
          "text": "1<br>(0.5%)",
          "x": "Zombie",
          "xref": "x",
          "y": "Warrior",
          "yref": "y"
         },
         {
          "font": {
           "color": "#000000"
          },
          "showarrow": false,
          "text": "1<br>(1.5%)",
          "x": "Aqua",
          "xref": "x",
          "y": "Winged Beast",
          "yref": "y"
         },
         {
          "font": {
           "color": "#000000"
          },
          "showarrow": false,
          "text": "4<br>(6.1%)",
          "x": "Beast",
          "xref": "x",
          "y": "Winged Beast",
          "yref": "y"
         },
         {
          "font": {
           "color": "#000000"
          },
          "showarrow": false,
          "text": "1<br>(1.5%)",
          "x": "Beast-Warrior",
          "xref": "x",
          "y": "Winged Beast",
          "yref": "y"
         },
         {
          "font": {
           "color": "#000000"
          },
          "showarrow": false,
          "text": "1<br>(1.5%)",
          "x": "Dinosaur",
          "xref": "x",
          "y": "Winged Beast",
          "yref": "y"
         },
         {
          "font": {
           "color": "#000000"
          },
          "showarrow": false,
          "text": "0<br>(0.0%)",
          "x": "Divine-Beast",
          "xref": "x",
          "y": "Winged Beast",
          "yref": "y"
         },
         {
          "font": {
           "color": "#000000"
          },
          "showarrow": false,
          "text": "6<br>(9.1%)",
          "x": "Dragon",
          "xref": "x",
          "y": "Winged Beast",
          "yref": "y"
         },
         {
          "font": {
           "color": "#000000"
          },
          "showarrow": false,
          "text": "6<br>(9.1%)",
          "x": "Fairy",
          "xref": "x",
          "y": "Winged Beast",
          "yref": "y"
         },
         {
          "font": {
           "color": "#000000"
          },
          "showarrow": false,
          "text": "8<br>(12.1%)",
          "x": "Fiend",
          "xref": "x",
          "y": "Winged Beast",
          "yref": "y"
         },
         {
          "font": {
           "color": "#000000"
          },
          "showarrow": false,
          "text": "1<br>(1.5%)",
          "x": "Fish",
          "xref": "x",
          "y": "Winged Beast",
          "yref": "y"
         },
         {
          "font": {
           "color": "#000000"
          },
          "showarrow": false,
          "text": "0<br>(0.0%)",
          "x": "Illusion",
          "xref": "x",
          "y": "Winged Beast",
          "yref": "y"
         },
         {
          "font": {
           "color": "#000000"
          },
          "showarrow": false,
          "text": "1<br>(1.5%)",
          "x": "Insect",
          "xref": "x",
          "y": "Winged Beast",
          "yref": "y"
         },
         {
          "font": {
           "color": "#000000"
          },
          "showarrow": false,
          "text": "5<br>(7.6%)",
          "x": "Machine",
          "xref": "x",
          "y": "Winged Beast",
          "yref": "y"
         },
         {
          "font": {
           "color": "#000000"
          },
          "showarrow": false,
          "text": "0<br>(0.0%)",
          "x": "Plant",
          "xref": "x",
          "y": "Winged Beast",
          "yref": "y"
         },
         {
          "font": {
           "color": "#000000"
          },
          "showarrow": false,
          "text": "0<br>(0.0%)",
          "x": "Psychic",
          "xref": "x",
          "y": "Winged Beast",
          "yref": "y"
         },
         {
          "font": {
           "color": "#000000"
          },
          "showarrow": false,
          "text": "1<br>(1.5%)",
          "x": "Pyro",
          "xref": "x",
          "y": "Winged Beast",
          "yref": "y"
         },
         {
          "font": {
           "color": "#000000"
          },
          "showarrow": false,
          "text": "0<br>(0.0%)",
          "x": "Reptile",
          "xref": "x",
          "y": "Winged Beast",
          "yref": "y"
         },
         {
          "font": {
           "color": "#000000"
          },
          "showarrow": false,
          "text": "1<br>(1.5%)",
          "x": "Rock",
          "xref": "x",
          "y": "Winged Beast",
          "yref": "y"
         },
         {
          "font": {
           "color": "#000000"
          },
          "showarrow": false,
          "text": "0<br>(0.0%)",
          "x": "Sea Serpent",
          "xref": "x",
          "y": "Winged Beast",
          "yref": "y"
         },
         {
          "font": {
           "color": "#000000"
          },
          "showarrow": false,
          "text": "3<br>(4.5%)",
          "x": "Spellcaster",
          "xref": "x",
          "y": "Winged Beast",
          "yref": "y"
         },
         {
          "font": {
           "color": "#000000"
          },
          "showarrow": false,
          "text": "0<br>(0.0%)",
          "x": "Thunder",
          "xref": "x",
          "y": "Winged Beast",
          "yref": "y"
         },
         {
          "font": {
           "color": "#000000"
          },
          "showarrow": false,
          "text": "8<br>(12.1%)",
          "x": "Warrior",
          "xref": "x",
          "y": "Winged Beast",
          "yref": "y"
         },
         {
          "font": {
           "color": "#000000"
          },
          "showarrow": false,
          "text": "19<br>(28.8%)",
          "x": "Winged Beast",
          "xref": "x",
          "y": "Winged Beast",
          "yref": "y"
         },
         {
          "font": {
           "color": "#000000"
          },
          "showarrow": false,
          "text": "0<br>(0.0%)",
          "x": "Wyrm",
          "xref": "x",
          "y": "Winged Beast",
          "yref": "y"
         },
         {
          "font": {
           "color": "#000000"
          },
          "showarrow": false,
          "text": "0<br>(0.0%)",
          "x": "Zombie",
          "xref": "x",
          "y": "Winged Beast",
          "yref": "y"
         },
         {
          "font": {
           "color": "#000000"
          },
          "showarrow": false,
          "text": "0<br>(0.0%)",
          "x": "Aqua",
          "xref": "x",
          "y": "Wyrm",
          "yref": "y"
         },
         {
          "font": {
           "color": "#000000"
          },
          "showarrow": false,
          "text": "1<br>(5.3%)",
          "x": "Beast",
          "xref": "x",
          "y": "Wyrm",
          "yref": "y"
         },
         {
          "font": {
           "color": "#000000"
          },
          "showarrow": false,
          "text": "1<br>(5.3%)",
          "x": "Beast-Warrior",
          "xref": "x",
          "y": "Wyrm",
          "yref": "y"
         },
         {
          "font": {
           "color": "#000000"
          },
          "showarrow": false,
          "text": "1<br>(5.3%)",
          "x": "Dinosaur",
          "xref": "x",
          "y": "Wyrm",
          "yref": "y"
         },
         {
          "font": {
           "color": "#000000"
          },
          "showarrow": false,
          "text": "0<br>(0.0%)",
          "x": "Divine-Beast",
          "xref": "x",
          "y": "Wyrm",
          "yref": "y"
         },
         {
          "font": {
           "color": "#000000"
          },
          "showarrow": false,
          "text": "2<br>(10.5%)",
          "x": "Dragon",
          "xref": "x",
          "y": "Wyrm",
          "yref": "y"
         },
         {
          "font": {
           "color": "#000000"
          },
          "showarrow": false,
          "text": "3<br>(15.8%)",
          "x": "Fairy",
          "xref": "x",
          "y": "Wyrm",
          "yref": "y"
         },
         {
          "font": {
           "color": "#000000"
          },
          "showarrow": false,
          "text": "3<br>(15.8%)",
          "x": "Fiend",
          "xref": "x",
          "y": "Wyrm",
          "yref": "y"
         },
         {
          "font": {
           "color": "#000000"
          },
          "showarrow": false,
          "text": "0<br>(0.0%)",
          "x": "Fish",
          "xref": "x",
          "y": "Wyrm",
          "yref": "y"
         },
         {
          "font": {
           "color": "#000000"
          },
          "showarrow": false,
          "text": "1<br>(5.3%)",
          "x": "Illusion",
          "xref": "x",
          "y": "Wyrm",
          "yref": "y"
         },
         {
          "font": {
           "color": "#000000"
          },
          "showarrow": false,
          "text": "0<br>(0.0%)",
          "x": "Insect",
          "xref": "x",
          "y": "Wyrm",
          "yref": "y"
         },
         {
          "font": {
           "color": "#000000"
          },
          "showarrow": false,
          "text": "0<br>(0.0%)",
          "x": "Machine",
          "xref": "x",
          "y": "Wyrm",
          "yref": "y"
         },
         {
          "font": {
           "color": "#000000"
          },
          "showarrow": false,
          "text": "2<br>(10.5%)",
          "x": "Plant",
          "xref": "x",
          "y": "Wyrm",
          "yref": "y"
         },
         {
          "font": {
           "color": "#000000"
          },
          "showarrow": false,
          "text": "1<br>(5.3%)",
          "x": "Psychic",
          "xref": "x",
          "y": "Wyrm",
          "yref": "y"
         },
         {
          "font": {
           "color": "#000000"
          },
          "showarrow": false,
          "text": "0<br>(0.0%)",
          "x": "Pyro",
          "xref": "x",
          "y": "Wyrm",
          "yref": "y"
         },
         {
          "font": {
           "color": "#000000"
          },
          "showarrow": false,
          "text": "1<br>(5.3%)",
          "x": "Reptile",
          "xref": "x",
          "y": "Wyrm",
          "yref": "y"
         },
         {
          "font": {
           "color": "#000000"
          },
          "showarrow": false,
          "text": "0<br>(0.0%)",
          "x": "Rock",
          "xref": "x",
          "y": "Wyrm",
          "yref": "y"
         },
         {
          "font": {
           "color": "#000000"
          },
          "showarrow": false,
          "text": "2<br>(10.5%)",
          "x": "Sea Serpent",
          "xref": "x",
          "y": "Wyrm",
          "yref": "y"
         },
         {
          "font": {
           "color": "#000000"
          },
          "showarrow": false,
          "text": "0<br>(0.0%)",
          "x": "Spellcaster",
          "xref": "x",
          "y": "Wyrm",
          "yref": "y"
         },
         {
          "font": {
           "color": "#000000"
          },
          "showarrow": false,
          "text": "0<br>(0.0%)",
          "x": "Thunder",
          "xref": "x",
          "y": "Wyrm",
          "yref": "y"
         },
         {
          "font": {
           "color": "#000000"
          },
          "showarrow": false,
          "text": "1<br>(5.3%)",
          "x": "Warrior",
          "xref": "x",
          "y": "Wyrm",
          "yref": "y"
         },
         {
          "font": {
           "color": "#000000"
          },
          "showarrow": false,
          "text": "0<br>(0.0%)",
          "x": "Winged Beast",
          "xref": "x",
          "y": "Wyrm",
          "yref": "y"
         },
         {
          "font": {
           "color": "#000000"
          },
          "showarrow": false,
          "text": "0<br>(0.0%)",
          "x": "Wyrm",
          "xref": "x",
          "y": "Wyrm",
          "yref": "y"
         },
         {
          "font": {
           "color": "#000000"
          },
          "showarrow": false,
          "text": "0<br>(0.0%)",
          "x": "Zombie",
          "xref": "x",
          "y": "Wyrm",
          "yref": "y"
         },
         {
          "font": {
           "color": "#000000"
          },
          "showarrow": false,
          "text": "3<br>(5.9%)",
          "x": "Aqua",
          "xref": "x",
          "y": "Zombie",
          "yref": "y"
         },
         {
          "font": {
           "color": "#000000"
          },
          "showarrow": false,
          "text": "1<br>(2.0%)",
          "x": "Beast",
          "xref": "x",
          "y": "Zombie",
          "yref": "y"
         },
         {
          "font": {
           "color": "#000000"
          },
          "showarrow": false,
          "text": "0<br>(0.0%)",
          "x": "Beast-Warrior",
          "xref": "x",
          "y": "Zombie",
          "yref": "y"
         },
         {
          "font": {
           "color": "#000000"
          },
          "showarrow": false,
          "text": "0<br>(0.0%)",
          "x": "Dinosaur",
          "xref": "x",
          "y": "Zombie",
          "yref": "y"
         },
         {
          "font": {
           "color": "#000000"
          },
          "showarrow": false,
          "text": "0<br>(0.0%)",
          "x": "Divine-Beast",
          "xref": "x",
          "y": "Zombie",
          "yref": "y"
         },
         {
          "font": {
           "color": "#000000"
          },
          "showarrow": false,
          "text": "2<br>(3.9%)",
          "x": "Dragon",
          "xref": "x",
          "y": "Zombie",
          "yref": "y"
         },
         {
          "font": {
           "color": "#000000"
          },
          "showarrow": false,
          "text": "0<br>(0.0%)",
          "x": "Fairy",
          "xref": "x",
          "y": "Zombie",
          "yref": "y"
         },
         {
          "font": {
           "color": "#000000"
          },
          "showarrow": false,
          "text": "17<br>(33.3%)",
          "x": "Fiend",
          "xref": "x",
          "y": "Zombie",
          "yref": "y"
         },
         {
          "font": {
           "color": "#000000"
          },
          "showarrow": false,
          "text": "1<br>(2.0%)",
          "x": "Fish",
          "xref": "x",
          "y": "Zombie",
          "yref": "y"
         },
         {
          "font": {
           "color": "#000000"
          },
          "showarrow": false,
          "text": "0<br>(0.0%)",
          "x": "Illusion",
          "xref": "x",
          "y": "Zombie",
          "yref": "y"
         },
         {
          "font": {
           "color": "#000000"
          },
          "showarrow": false,
          "text": "0<br>(0.0%)",
          "x": "Insect",
          "xref": "x",
          "y": "Zombie",
          "yref": "y"
         },
         {
          "font": {
           "color": "#000000"
          },
          "showarrow": false,
          "text": "3<br>(5.9%)",
          "x": "Machine",
          "xref": "x",
          "y": "Zombie",
          "yref": "y"
         },
         {
          "font": {
           "color": "#000000"
          },
          "showarrow": false,
          "text": "1<br>(2.0%)",
          "x": "Plant",
          "xref": "x",
          "y": "Zombie",
          "yref": "y"
         },
         {
          "font": {
           "color": "#000000"
          },
          "showarrow": false,
          "text": "1<br>(2.0%)",
          "x": "Psychic",
          "xref": "x",
          "y": "Zombie",
          "yref": "y"
         },
         {
          "font": {
           "color": "#000000"
          },
          "showarrow": false,
          "text": "0<br>(0.0%)",
          "x": "Pyro",
          "xref": "x",
          "y": "Zombie",
          "yref": "y"
         },
         {
          "font": {
           "color": "#000000"
          },
          "showarrow": false,
          "text": "1<br>(2.0%)",
          "x": "Reptile",
          "xref": "x",
          "y": "Zombie",
          "yref": "y"
         },
         {
          "font": {
           "color": "#000000"
          },
          "showarrow": false,
          "text": "2<br>(3.9%)",
          "x": "Rock",
          "xref": "x",
          "y": "Zombie",
          "yref": "y"
         },
         {
          "font": {
           "color": "#000000"
          },
          "showarrow": false,
          "text": "0<br>(0.0%)",
          "x": "Sea Serpent",
          "xref": "x",
          "y": "Zombie",
          "yref": "y"
         },
         {
          "font": {
           "color": "#000000"
          },
          "showarrow": false,
          "text": "7<br>(13.7%)",
          "x": "Spellcaster",
          "xref": "x",
          "y": "Zombie",
          "yref": "y"
         },
         {
          "font": {
           "color": "#000000"
          },
          "showarrow": false,
          "text": "1<br>(2.0%)",
          "x": "Thunder",
          "xref": "x",
          "y": "Zombie",
          "yref": "y"
         },
         {
          "font": {
           "color": "#000000"
          },
          "showarrow": false,
          "text": "4<br>(7.8%)",
          "x": "Warrior",
          "xref": "x",
          "y": "Zombie",
          "yref": "y"
         },
         {
          "font": {
           "color": "#000000"
          },
          "showarrow": false,
          "text": "3<br>(5.9%)",
          "x": "Winged Beast",
          "xref": "x",
          "y": "Zombie",
          "yref": "y"
         },
         {
          "font": {
           "color": "#000000"
          },
          "showarrow": false,
          "text": "0<br>(0.0%)",
          "x": "Wyrm",
          "xref": "x",
          "y": "Zombie",
          "yref": "y"
         },
         {
          "font": {
           "color": "#000000"
          },
          "showarrow": false,
          "text": "4<br>(7.8%)",
          "x": "Zombie",
          "xref": "x",
          "y": "Zombie",
          "yref": "y"
         }
        ],
        "font": {
         "size": 10
        },
        "height": 800,
        "template": {
         "data": {
          "bar": [
           {
            "error_x": {
             "color": "#2a3f5f"
            },
            "error_y": {
             "color": "#2a3f5f"
            },
            "marker": {
             "line": {
              "color": "#E5ECF6",
              "width": 0.5
             },
             "pattern": {
              "fillmode": "overlay",
              "size": 10,
              "solidity": 0.2
             }
            },
            "type": "bar"
           }
          ],
          "barpolar": [
           {
            "marker": {
             "line": {
              "color": "#E5ECF6",
              "width": 0.5
             },
             "pattern": {
              "fillmode": "overlay",
              "size": 10,
              "solidity": 0.2
             }
            },
            "type": "barpolar"
           }
          ],
          "carpet": [
           {
            "aaxis": {
             "endlinecolor": "#2a3f5f",
             "gridcolor": "white",
             "linecolor": "white",
             "minorgridcolor": "white",
             "startlinecolor": "#2a3f5f"
            },
            "baxis": {
             "endlinecolor": "#2a3f5f",
             "gridcolor": "white",
             "linecolor": "white",
             "minorgridcolor": "white",
             "startlinecolor": "#2a3f5f"
            },
            "type": "carpet"
           }
          ],
          "choropleth": [
           {
            "colorbar": {
             "outlinewidth": 0,
             "ticks": ""
            },
            "type": "choropleth"
           }
          ],
          "contour": [
           {
            "colorbar": {
             "outlinewidth": 0,
             "ticks": ""
            },
            "colorscale": [
             [
              0,
              "#0d0887"
             ],
             [
              0.1111111111111111,
              "#46039f"
             ],
             [
              0.2222222222222222,
              "#7201a8"
             ],
             [
              0.3333333333333333,
              "#9c179e"
             ],
             [
              0.4444444444444444,
              "#bd3786"
             ],
             [
              0.5555555555555556,
              "#d8576b"
             ],
             [
              0.6666666666666666,
              "#ed7953"
             ],
             [
              0.7777777777777778,
              "#fb9f3a"
             ],
             [
              0.8888888888888888,
              "#fdca26"
             ],
             [
              1,
              "#f0f921"
             ]
            ],
            "type": "contour"
           }
          ],
          "contourcarpet": [
           {
            "colorbar": {
             "outlinewidth": 0,
             "ticks": ""
            },
            "type": "contourcarpet"
           }
          ],
          "heatmap": [
           {
            "colorbar": {
             "outlinewidth": 0,
             "ticks": ""
            },
            "colorscale": [
             [
              0,
              "#0d0887"
             ],
             [
              0.1111111111111111,
              "#46039f"
             ],
             [
              0.2222222222222222,
              "#7201a8"
             ],
             [
              0.3333333333333333,
              "#9c179e"
             ],
             [
              0.4444444444444444,
              "#bd3786"
             ],
             [
              0.5555555555555556,
              "#d8576b"
             ],
             [
              0.6666666666666666,
              "#ed7953"
             ],
             [
              0.7777777777777778,
              "#fb9f3a"
             ],
             [
              0.8888888888888888,
              "#fdca26"
             ],
             [
              1,
              "#f0f921"
             ]
            ],
            "type": "heatmap"
           }
          ],
          "histogram": [
           {
            "marker": {
             "pattern": {
              "fillmode": "overlay",
              "size": 10,
              "solidity": 0.2
             }
            },
            "type": "histogram"
           }
          ],
          "histogram2d": [
           {
            "colorbar": {
             "outlinewidth": 0,
             "ticks": ""
            },
            "colorscale": [
             [
              0,
              "#0d0887"
             ],
             [
              0.1111111111111111,
              "#46039f"
             ],
             [
              0.2222222222222222,
              "#7201a8"
             ],
             [
              0.3333333333333333,
              "#9c179e"
             ],
             [
              0.4444444444444444,
              "#bd3786"
             ],
             [
              0.5555555555555556,
              "#d8576b"
             ],
             [
              0.6666666666666666,
              "#ed7953"
             ],
             [
              0.7777777777777778,
              "#fb9f3a"
             ],
             [
              0.8888888888888888,
              "#fdca26"
             ],
             [
              1,
              "#f0f921"
             ]
            ],
            "type": "histogram2d"
           }
          ],
          "histogram2dcontour": [
           {
            "colorbar": {
             "outlinewidth": 0,
             "ticks": ""
            },
            "colorscale": [
             [
              0,
              "#0d0887"
             ],
             [
              0.1111111111111111,
              "#46039f"
             ],
             [
              0.2222222222222222,
              "#7201a8"
             ],
             [
              0.3333333333333333,
              "#9c179e"
             ],
             [
              0.4444444444444444,
              "#bd3786"
             ],
             [
              0.5555555555555556,
              "#d8576b"
             ],
             [
              0.6666666666666666,
              "#ed7953"
             ],
             [
              0.7777777777777778,
              "#fb9f3a"
             ],
             [
              0.8888888888888888,
              "#fdca26"
             ],
             [
              1,
              "#f0f921"
             ]
            ],
            "type": "histogram2dcontour"
           }
          ],
          "mesh3d": [
           {
            "colorbar": {
             "outlinewidth": 0,
             "ticks": ""
            },
            "type": "mesh3d"
           }
          ],
          "parcoords": [
           {
            "line": {
             "colorbar": {
              "outlinewidth": 0,
              "ticks": ""
             }
            },
            "type": "parcoords"
           }
          ],
          "pie": [
           {
            "automargin": true,
            "type": "pie"
           }
          ],
          "scatter": [
           {
            "fillpattern": {
             "fillmode": "overlay",
             "size": 10,
             "solidity": 0.2
            },
            "type": "scatter"
           }
          ],
          "scatter3d": [
           {
            "line": {
             "colorbar": {
              "outlinewidth": 0,
              "ticks": ""
             }
            },
            "marker": {
             "colorbar": {
              "outlinewidth": 0,
              "ticks": ""
             }
            },
            "type": "scatter3d"
           }
          ],
          "scattercarpet": [
           {
            "marker": {
             "colorbar": {
              "outlinewidth": 0,
              "ticks": ""
             }
            },
            "type": "scattercarpet"
           }
          ],
          "scattergeo": [
           {
            "marker": {
             "colorbar": {
              "outlinewidth": 0,
              "ticks": ""
             }
            },
            "type": "scattergeo"
           }
          ],
          "scattergl": [
           {
            "marker": {
             "colorbar": {
              "outlinewidth": 0,
              "ticks": ""
             }
            },
            "type": "scattergl"
           }
          ],
          "scattermap": [
           {
            "marker": {
             "colorbar": {
              "outlinewidth": 0,
              "ticks": ""
             }
            },
            "type": "scattermap"
           }
          ],
          "scattermapbox": [
           {
            "marker": {
             "colorbar": {
              "outlinewidth": 0,
              "ticks": ""
             }
            },
            "type": "scattermapbox"
           }
          ],
          "scatterpolar": [
           {
            "marker": {
             "colorbar": {
              "outlinewidth": 0,
              "ticks": ""
             }
            },
            "type": "scatterpolar"
           }
          ],
          "scatterpolargl": [
           {
            "marker": {
             "colorbar": {
              "outlinewidth": 0,
              "ticks": ""
             }
            },
            "type": "scatterpolargl"
           }
          ],
          "scatterternary": [
           {
            "marker": {
             "colorbar": {
              "outlinewidth": 0,
              "ticks": ""
             }
            },
            "type": "scatterternary"
           }
          ],
          "surface": [
           {
            "colorbar": {
             "outlinewidth": 0,
             "ticks": ""
            },
            "colorscale": [
             [
              0,
              "#0d0887"
             ],
             [
              0.1111111111111111,
              "#46039f"
             ],
             [
              0.2222222222222222,
              "#7201a8"
             ],
             [
              0.3333333333333333,
              "#9c179e"
             ],
             [
              0.4444444444444444,
              "#bd3786"
             ],
             [
              0.5555555555555556,
              "#d8576b"
             ],
             [
              0.6666666666666666,
              "#ed7953"
             ],
             [
              0.7777777777777778,
              "#fb9f3a"
             ],
             [
              0.8888888888888888,
              "#fdca26"
             ],
             [
              1,
              "#f0f921"
             ]
            ],
            "type": "surface"
           }
          ],
          "table": [
           {
            "cells": {
             "fill": {
              "color": "#EBF0F8"
             },
             "line": {
              "color": "white"
             }
            },
            "header": {
             "fill": {
              "color": "#C8D4E3"
             },
             "line": {
              "color": "white"
             }
            },
            "type": "table"
           }
          ]
         },
         "layout": {
          "annotationdefaults": {
           "arrowcolor": "#2a3f5f",
           "arrowhead": 0,
           "arrowwidth": 1
          },
          "autotypenumbers": "strict",
          "coloraxis": {
           "colorbar": {
            "outlinewidth": 0,
            "ticks": ""
           }
          },
          "colorscale": {
           "diverging": [
            [
             0,
             "#8e0152"
            ],
            [
             0.1,
             "#c51b7d"
            ],
            [
             0.2,
             "#de77ae"
            ],
            [
             0.3,
             "#f1b6da"
            ],
            [
             0.4,
             "#fde0ef"
            ],
            [
             0.5,
             "#f7f7f7"
            ],
            [
             0.6,
             "#e6f5d0"
            ],
            [
             0.7,
             "#b8e186"
            ],
            [
             0.8,
             "#7fbc41"
            ],
            [
             0.9,
             "#4d9221"
            ],
            [
             1,
             "#276419"
            ]
           ],
           "sequential": [
            [
             0,
             "#0d0887"
            ],
            [
             0.1111111111111111,
             "#46039f"
            ],
            [
             0.2222222222222222,
             "#7201a8"
            ],
            [
             0.3333333333333333,
             "#9c179e"
            ],
            [
             0.4444444444444444,
             "#bd3786"
            ],
            [
             0.5555555555555556,
             "#d8576b"
            ],
            [
             0.6666666666666666,
             "#ed7953"
            ],
            [
             0.7777777777777778,
             "#fb9f3a"
            ],
            [
             0.8888888888888888,
             "#fdca26"
            ],
            [
             1,
             "#f0f921"
            ]
           ],
           "sequentialminus": [
            [
             0,
             "#0d0887"
            ],
            [
             0.1111111111111111,
             "#46039f"
            ],
            [
             0.2222222222222222,
             "#7201a8"
            ],
            [
             0.3333333333333333,
             "#9c179e"
            ],
            [
             0.4444444444444444,
             "#bd3786"
            ],
            [
             0.5555555555555556,
             "#d8576b"
            ],
            [
             0.6666666666666666,
             "#ed7953"
            ],
            [
             0.7777777777777778,
             "#fb9f3a"
            ],
            [
             0.8888888888888888,
             "#fdca26"
            ],
            [
             1,
             "#f0f921"
            ]
           ]
          },
          "colorway": [
           "#636efa",
           "#EF553B",
           "#00cc96",
           "#ab63fa",
           "#FFA15A",
           "#19d3f3",
           "#FF6692",
           "#B6E880",
           "#FF97FF",
           "#FECB52"
          ],
          "font": {
           "color": "#2a3f5f"
          },
          "geo": {
           "bgcolor": "white",
           "lakecolor": "white",
           "landcolor": "#E5ECF6",
           "showlakes": true,
           "showland": true,
           "subunitcolor": "white"
          },
          "hoverlabel": {
           "align": "left"
          },
          "hovermode": "closest",
          "mapbox": {
           "style": "light"
          },
          "paper_bgcolor": "white",
          "plot_bgcolor": "#E5ECF6",
          "polar": {
           "angularaxis": {
            "gridcolor": "white",
            "linecolor": "white",
            "ticks": ""
           },
           "bgcolor": "#E5ECF6",
           "radialaxis": {
            "gridcolor": "white",
            "linecolor": "white",
            "ticks": ""
           }
          },
          "scene": {
           "xaxis": {
            "backgroundcolor": "#E5ECF6",
            "gridcolor": "white",
            "gridwidth": 2,
            "linecolor": "white",
            "showbackground": true,
            "ticks": "",
            "zerolinecolor": "white"
           },
           "yaxis": {
            "backgroundcolor": "#E5ECF6",
            "gridcolor": "white",
            "gridwidth": 2,
            "linecolor": "white",
            "showbackground": true,
            "ticks": "",
            "zerolinecolor": "white"
           },
           "zaxis": {
            "backgroundcolor": "#E5ECF6",
            "gridcolor": "white",
            "gridwidth": 2,
            "linecolor": "white",
            "showbackground": true,
            "ticks": "",
            "zerolinecolor": "white"
           }
          },
          "shapedefaults": {
           "line": {
            "color": "#2a3f5f"
           }
          },
          "ternary": {
           "aaxis": {
            "gridcolor": "white",
            "linecolor": "white",
            "ticks": ""
           },
           "baxis": {
            "gridcolor": "white",
            "linecolor": "white",
            "ticks": ""
           },
           "bgcolor": "#E5ECF6",
           "caxis": {
            "gridcolor": "white",
            "linecolor": "white",
            "ticks": ""
           }
          },
          "title": {
           "x": 0.05
          },
          "xaxis": {
           "automargin": true,
           "gridcolor": "white",
           "linecolor": "white",
           "ticks": "",
           "title": {
            "standoff": 15
           },
           "zerolinecolor": "white",
           "zerolinewidth": 2
          },
          "yaxis": {
           "automargin": true,
           "gridcolor": "white",
           "linecolor": "white",
           "ticks": "",
           "title": {
            "standoff": 15
           },
           "zerolinecolor": "white",
           "zerolinewidth": 2
          }
         }
        },
        "title": {
         "text": "Matriz de Confusão - Classificador Yu-Gi-Oh",
         "x": 0.5
        },
        "width": 800,
        "xaxis": {
         "dtick": 1,
         "gridcolor": "rgb(0, 0, 0)",
         "side": "top",
         "tickangle": 45,
         "ticks": "",
         "title": {
          "text": "Predito"
         }
        },
        "yaxis": {
         "dtick": 1,
         "ticks": "",
         "ticksuffix": "  ",
         "title": {
          "text": "Verdadeiro"
         }
        }
       }
      }
     },
     "metadata": {},
     "output_type": "display_data"
    },
    {
     "name": "stdout",
     "output_type": "stream",
     "text": [
      "Modelo salvo como 'yugioh_monster_classifier.pth'\n",
      "\n",
      "Acurácia por classe:\n",
      "Machine: 50.25% (199 amostras)\n",
      "Warrior: 45.70% (221 amostras)\n",
      "Dragon: 34.44% (151 amostras)\n",
      "Fairy: 34.23% (111 amostras)\n",
      "Spellcaster: 32.67% (150 amostras)\n",
      "Beast: 32.53% (83 amostras)\n",
      "Fiend: 29.41% (170 amostras)\n",
      "Winged Beast: 28.79% (66 amostras)\n",
      "Pyro: 25.81% (31 amostras)\n",
      "Thunder: 25.00% (28 amostras)\n",
      "Psychic: 24.39% (41 amostras)\n",
      "Aqua: 23.21% (56 amostras)\n",
      "Fish: 20.69% (29 amostras)\n",
      "Dinosaur: 17.24% (29 amostras)\n",
      "Beast-Warrior: 15.69% (51 amostras)\n",
      "Plant: 14.29% (49 amostras)\n",
      "Rock: 13.46% (52 amostras)\n",
      "Insect: 13.21% (53 amostras)\n",
      "Sea Serpent: 10.53% (19 amostras)\n",
      "Reptile: 7.89% (38 amostras)\n",
      "Zombie: 7.84% (51 amostras)\n",
      "Divine-Beast: 0.00% (1 amostras)\n",
      "Illusion: 0.00% (7 amostras)\n",
      "Wyrm: 0.00% (19 amostras)\n"
     ]
    },
    {
     "data": {
      "image/png": "[encoded data removed]",
      "text/plain": [
       "<Figure size 1500x800 with 1 Axes>"
      ]
     },
     "metadata": {},
     "output_type": "display_data"
    },
    {
     "name": "stdout",
     "output_type": "stream",
     "text": [
      "\n",
      "Acurácia geral: 30.67%\n"
     ]
    }
   ],
   "source": [
    "model.eval()\n",
    "all_predictions = []\n",
    "all_labels = []\n",
    "\n",
    "with torch.no_grad():\n",
    "    for images, labels in val_loader:\n",
    "        images, labels = images.to(device), labels.to(device)\n",
    "        outputs = model(images)\n",
    "        _, predicted = torch.max(outputs, 1)\n",
    "        \n",
    "        all_predictions.extend(predicted.cpu().numpy())\n",
    "        all_labels.extend(labels.cpu().numpy())\n",
    "\n",
    "# Relatório de classificação\n",
    "class_names = label_encoder.classes_\n",
    "print(\"Relatório de Classificação:\")\n",
    "print(classification_report(all_labels, all_predictions, target_names=class_names))\n",
    "\n",
    "# Matriz de confusão com Plotly\n",
    "cm = confusion_matrix(all_labels, all_predictions)\n",
    "\n",
    "# Normaliza a matriz para porcentagens\n",
    "cm_normalized = cm.astype('float') / cm.sum(axis=1)[:, np.newaxis] * 100\n",
    "\n",
    "# Cria a matriz de confusão interativa\n",
    "fig_cm = ff.create_annotated_heatmap(\n",
    "    z=cm_normalized,\n",
    "    x=list(class_names),\n",
    "    y=list(class_names),\n",
    "    annotation_text=[[f'{cm[i][j]}<br>({cm_normalized[i][j]:.1f}%)' \n",
    "                     for j in range(len(class_names))] \n",
    "                     for i in range(len(class_names))],\n",
    "    colorscale='Blues',\n",
    "    showscale=True,\n",
    "    hovertemplate='Verdadeiro: %{y}<br>Predito: %{x}<br>Contagem: %{text}<extra></extra>'\n",
    ")\n",
    "\n",
    "fig_cm.update_layout(\n",
    "    title='Matriz de Confusão - Classificador Yu-Gi-Oh',\n",
    "    title_x=0.5,\n",
    "    xaxis_title='Predito',\n",
    "    yaxis_title='Verdadeiro',\n",
    "    width=800,\n",
    "    height=800,\n",
    "    font=dict(size=10)\n",
    ")\n",
    "\n",
    "# Rotaciona labels do eixo x para melhor legibilidade\n",
    "fig_cm.update_xaxes(tickangle=45)\n",
    "\n",
    "fig_cm.show()\n",
    "\n",
    "# Salvando o modelo\n",
    "torch.save({\n",
    "    'model_state_dict': model.state_dict(),\n",
    "    'label_encoder': label_encoder,\n",
    "    'num_classes': num_classes\n",
    "}, 'yugioh_monster_classifier.pth')\n",
    "\n",
    "print(\"Modelo salvo como 'yugioh_monster_classifier.pth'\")\n",
    "\n",
    "# Função para predição em novas imagens\n",
    "def predict_monster_type(image_path, model, label_encoder, transform, device):\n",
    "    model.eval()\n",
    "    image = Image.open(image_path).convert('RGB')\n",
    "    image = transform(image).unsqueeze(0).to(device)\n",
    "    \n",
    "    with torch.no_grad():\n",
    "        outputs = model(image)\n",
    "        probabilities = torch.nn.functional.softmax(outputs[0], dim=0)\n",
    "        _, predicted = torch.max(outputs, 1)\n",
    "        \n",
    "    predicted_class = label_encoder.inverse_transform([predicted.cpu().numpy()[0]])[0]\n",
    "    confidence = probabilities.max().item() * 100\n",
    "    \n",
    "    return predicted_class, confidence\n",
    "\n",
    "# Exemplo de uso da função de predição\n",
    "# predicted_type, confidence = predict_monster_type('caminho/para/nova/imagem.jpg', \n",
    "#                                                   model, label_encoder, val_transform, device)\n",
    "# print(f'Tipo predito: {predicted_type} (Confiança: {confidence:.2f}%)')\n",
    "\n",
    "# Análise das predições por classe\n",
    "class_accuracy = []\n",
    "for i, class_name in enumerate(class_names):\n",
    "    class_mask = np.array(all_labels) == i\n",
    "    if np.sum(class_mask) > 0:\n",
    "        class_pred = np.array(all_predictions)[class_mask]\n",
    "        accuracy = np.mean(class_pred == i) * 100\n",
    "        class_accuracy.append((class_name, accuracy, np.sum(class_mask)))\n",
    "\n",
    "class_accuracy.sort(key=lambda x: x[1], reverse=True)\n",
    "\n",
    "print(\"\\nAcurácia por classe:\")\n",
    "for class_name, acc, count in class_accuracy:\n",
    "    print(f'{class_name}: {acc:.2f}% ({count} amostras)')\n",
    "\n",
    "# Visualização da acurácia por classe\n",
    "classes, accuracies, counts = zip(*class_accuracy)\n",
    "plt.figure(figsize=(15, 8))\n",
    "bars = plt.bar(range(len(classes)), accuracies)\n",
    "plt.xlabel('Tipos de Monstro')\n",
    "plt.ylabel('Acurácia (%)')\n",
    "plt.title('Acurácia por Tipo de Monstro')\n",
    "plt.xticks(range(len(classes)), classes, rotation=45, ha='right')\n",
    "plt.ylim(0, 100)\n",
    "\n",
    "for i, (bar, count) in enumerate(zip(bars, counts)):\n",
    "    plt.text(bar.get_x() + bar.get_width()/2, bar.get_height() + 1, \n",
    "             f'{count}', ha='center', va='bottom', fontsize=8)\n",
    "\n",
    "plt.tight_layout()\n",
    "plt.show()\n",
    "\n",
    "print(f\"\\nAcurácia geral: {100 * np.mean(np.array(all_predictions) == np.array(all_labels)):.2f}%\")\n"
   ]
  },
  {
   "cell_type": "code",
   "execution_count": null,
   "id": "f2034c9f",
   "metadata": {},
   "outputs": [],
   "source": []
  }
 ],
 "metadata": {
  "kernelspec": {
   "display_name": "venv",
   "language": "python",
   "name": "python3"
  },
  "language_info": {
   "codemirror_mode": {
    "name": "ipython",
    "version": 3
   },
   "file_extension": ".py",
   "mimetype": "text/x-python",
   "name": "python",
   "nbconvert_exporter": "python",
   "pygments_lexer": "ipython3",
   "version": "3.13.3"
  }
 },
 "nbformat": 4,
 "nbformat_minor": 5
}
