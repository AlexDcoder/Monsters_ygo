{
 "cells": [
  {
   "cell_type": "code",
   "execution_count": 9,
   "id": "73cdb515",
   "metadata": {},
   "outputs": [],
   "source": [
    "import torch\n",
    "import pandas as pd\n",
    "import torch.nn as nn\n",
    "import torch.optim as optim\n",
    "from sklearn.preprocessing import LabelEncoder\n",
    "from torch.utils.data import DataLoader\n",
    "from torchvision import transforms\n",
    "from utils.dataset_generator import CartaDataset\n",
    "from utils.models import SimpleCNN"
   ]
  },
  {
   "cell_type": "code",
   "execution_count": 10,
   "id": "471ad38e",
   "metadata": {},
   "outputs": [
    {
     "data": {
      "application/vnd.microsoft.datawrangler.viewer.v0+json": {
       "columns": [
        {
         "name": "index",
         "rawType": "int64",
         "type": "integer"
        },
        {
         "name": "id",
         "rawType": "int64",
         "type": "integer"
        },
        {
         "name": "nome",
         "rawType": "object",
         "type": "string"
        },
        {
         "name": "raca",
         "rawType": "object",
         "type": "string"
        },
        {
         "name": "caminho_imagem",
         "rawType": "object",
         "type": "string"
        }
       ],
       "ref": "ed2f5292-6225-4082-aa11-10a947fa308a",
       "rows": [
        [
         "0",
         "11714098",
         "30,000-Year White Turtle",
         "Aqua",
         "imagens\\Aqua\\11714098.jpg"
        ],
        [
         "1",
         "18318842",
         "Abyss Soldier",
         "Aqua",
         "imagens\\Aqua\\18318842.jpg"
        ],
        [
         "2",
         "88409165",
         "Abyss Warrior",
         "Aqua",
         "imagens\\Aqua\\88409165.jpg"
        ],
        [
         "3",
         "17080584",
         "Abyssrhine, the Atlantean Spirit",
         "Aqua",
         "imagens\\Aqua\\17080584.jpg"
        ],
        [
         "4",
         "46358784",
         "Advanced Crystal Beast Emerald Tortoise",
         "Aqua",
         "imagens\\Aqua\\46358784.jpg"
        ],
        [
         "5",
         "36904469",
         "Akihiron",
         "Aqua",
         "imagens\\Aqua\\36904469.jpg"
        ],
        [
         "6",
         "95174353",
         "Ameba",
         "Aqua",
         "imagens\\Aqua\\95174353.jpg"
        ],
        [
         "7",
         "40173854",
         "Amphibious Bugroth",
         "Aqua",
         "imagens\\Aqua\\40173854.jpg"
        ],
        [
         "8",
         "12436646",
         "Aqua Snake",
         "Aqua",
         "imagens\\Aqua\\12436646.jpg"
        ],
        [
         "9",
         "40916023",
         "Aqua Spirit",
         "Aqua",
         "imagens\\Aqua\\40916023.jpg"
        ],
        [
         "10",
         "92053608",
         "Aquaactress Arowana",
         "Aqua",
         "imagens\\Aqua\\92053608.jpg"
        ],
        [
         "11",
         "66668900",
         "Aquaactress Guppy",
         "Aqua",
         "imagens\\Aqua\\66668900.jpg"
        ],
        [
         "12",
         "39260991",
         "Aquaactress Tetra",
         "Aqua",
         "imagens\\Aqua\\39260991.jpg"
        ],
        [
         "13",
         "22377815",
         "Aquarian Alessa",
         "Aqua",
         "imagens\\Aqua\\22377815.jpg"
        ],
        [
         "14",
         "36151751",
         "Arma Knight",
         "Aqua",
         "imagens\\Aqua\\36151751.jpg"
        ],
        [
         "15",
         "17535588",
         "Armored Starfish",
         "Aqua",
         "imagens\\Aqua\\17535588.jpg"
        ],
        [
         "16",
         "7913375",
         "Artillery Catapult Turtle",
         "Aqua",
         "imagens\\Aqua\\7913375.jpg"
        ],
        [
         "17",
         "10963799",
         "Barrier Statue of the Torrent",
         "Aqua",
         "imagens\\Aqua\\10963799.jpg"
        ],
        [
         "18",
         "99426834",
         "Beastking of the Swamps",
         "Aqua",
         "imagens\\Aqua\\99426834.jpg"
        ],
        [
         "19",
         "49522489",
         "Beelze Frog",
         "Aqua",
         "imagens\\Aqua\\49522489.jpg"
        ],
        [
         "20",
         "94022093",
         "Behegon",
         "Aqua",
         "imagens\\Aqua\\94022093.jpg"
        ],
        [
         "21",
         "60161788",
         "Blizzed, Defender of the Ice Barrier",
         "Aqua",
         "imagens\\Aqua\\60161788.jpg"
        ],
        [
         "22",
         "98456117",
         "Boneheimer",
         "Aqua",
         "imagens\\Aqua\\98456117.jpg"
        ],
        [
         "23",
         "9540040",
         "Boulder Tortoise",
         "Aqua",
         "imagens\\Aqua\\9540040.jpg"
        ],
        [
         "24",
         "95614612",
         "Cannonball Spear Shellfish",
         "Aqua",
         "imagens\\Aqua\\95614612.jpg"
        ],
        [
         "25",
         "95727991",
         "Catapult Turtle",
         "Aqua",
         "imagens\\Aqua\\95727991.jpg"
        ],
        [
         "26",
         "47346782",
         "Centerfrog",
         "Aqua",
         "imagens\\Aqua\\47346782.jpg"
        ],
        [
         "27",
         "18914778",
         "Change Slime",
         "Aqua",
         "imagens\\Aqua\\18914778.jpg"
        ],
        [
         "28",
         "81599449",
         "Chemicritter Carbo Crab",
         "Aqua",
         "imagens\\Aqua\\81599449.jpg"
        ],
        [
         "29",
         "57610714",
         "Cloudian - Eye of the Typhoon",
         "Aqua",
         "imagens\\Aqua\\57610714.jpg"
        ],
        [
         "30",
         "24661486",
         "Cold Enchanter",
         "Aqua",
         "imagens\\Aqua\\24661486.jpg"
        ],
        [
         "31",
         "91782219",
         "Crab Turtle",
         "Aqua",
         "imagens\\Aqua\\91782219.jpg"
        ],
        [
         "32",
         "23950192",
         "Cryomancer of the Ice Barrier",
         "Aqua",
         "imagens\\Aqua\\23950192.jpg"
        ],
        [
         "33",
         "68215963",
         "Crystal Beast Emerald Tortoise",
         "Aqua",
         "imagens\\Aqua\\68215963.jpg"
        ],
        [
         "34",
         "86999951",
         "Crystal God Tistina",
         "Aqua",
         "imagens\\Aqua\\86999951.jpg"
        ],
        [
         "35",
         "61374414",
         "CXyz N.As.Ch. Knight",
         "Aqua",
         "imagens\\Aqua\\61374414.jpg"
        ],
        [
         "36",
         "9910360",
         "D.3.S. Frog",
         "Aqua",
         "imagens\\Aqua\\9910360.jpg"
        ],
        [
         "37",
         "70711847",
         "Danger! Nessie!",
         "Aqua",
         "imagens\\Aqua\\70711847.jpg"
        ],
        [
         "38",
         "17559367",
         "Deep Diver",
         "Aqua",
         "imagens\\Aqua\\17559367.jpg"
        ],
        [
         "39",
         "82498947",
         "Defender of the Ice Barrier",
         "Aqua",
         "imagens\\Aqua\\82498947.jpg"
        ],
        [
         "40",
         "59504256",
         "Demigod of the Tistina",
         "Aqua",
         "imagens\\Aqua\\59504256.jpg"
        ],
        [
         "41",
         "84451804",
         "Des Frog",
         "Aqua",
         "imagens\\Aqua\\84451804.jpg"
        ],
        [
         "42",
         "90311614",
         "Dewdark of the Ice Barrier",
         "Aqua",
         "imagens\\Aqua\\90311614.jpg"
        ],
        [
         "43",
         "69436288",
         "Doom Kraken",
         "Aqua",
         "imagens\\Aqua\\69436288.jpg"
        ],
        [
         "44",
         "24194033",
         "Dorover",
         "Aqua",
         "imagens\\Aqua\\24194033.jpg"
        ],
        [
         "45",
         "24137081",
         "Drill Barnacle",
         "Aqua",
         "imagens\\Aqua\\24137081.jpg"
        ],
        [
         "46",
         "46239604",
         "Dupe Frog",
         "Aqua",
         "imagens\\Aqua\\46239604.jpg"
        ],
        [
         "47",
         "42166000",
         "Egyptian God Slime",
         "Aqua",
         "imagens\\Aqua\\42166000.jpg"
        ],
        [
         "48",
         "95824983",
         "Electric Jellyfish",
         "Aqua",
         "imagens\\Aqua\\95824983.jpg"
        ],
        [
         "49",
         "24326617",
         "Escher the Frost Vassal",
         "Aqua",
         "imagens\\Aqua\\24326617.jpg"
        ]
       ],
       "shape": {
        "columns": 4,
        "rows": 8528
       }
      },
      "text/html": [
       "<div>\n",
       "<style scoped>\n",
       "    .dataframe tbody tr th:only-of-type {\n",
       "        vertical-align: middle;\n",
       "    }\n",
       "\n",
       "    .dataframe tbody tr th {\n",
       "        vertical-align: top;\n",
       "    }\n",
       "\n",
       "    .dataframe thead th {\n",
       "        text-align: right;\n",
       "    }\n",
       "</style>\n",
       "<table border=\"1\" class=\"dataframe\">\n",
       "  <thead>\n",
       "    <tr style=\"text-align: right;\">\n",
       "      <th></th>\n",
       "      <th>id</th>\n",
       "      <th>nome</th>\n",
       "      <th>raca</th>\n",
       "      <th>caminho_imagem</th>\n",
       "    </tr>\n",
       "  </thead>\n",
       "  <tbody>\n",
       "    <tr>\n",
       "      <th>0</th>\n",
       "      <td>11714098</td>\n",
       "      <td>30,000-Year White Turtle</td>\n",
       "      <td>Aqua</td>\n",
       "      <td>imagens\\Aqua\\11714098.jpg</td>\n",
       "    </tr>\n",
       "    <tr>\n",
       "      <th>1</th>\n",
       "      <td>18318842</td>\n",
       "      <td>Abyss Soldier</td>\n",
       "      <td>Aqua</td>\n",
       "      <td>imagens\\Aqua\\18318842.jpg</td>\n",
       "    </tr>\n",
       "    <tr>\n",
       "      <th>2</th>\n",
       "      <td>88409165</td>\n",
       "      <td>Abyss Warrior</td>\n",
       "      <td>Aqua</td>\n",
       "      <td>imagens\\Aqua\\88409165.jpg</td>\n",
       "    </tr>\n",
       "    <tr>\n",
       "      <th>3</th>\n",
       "      <td>17080584</td>\n",
       "      <td>Abyssrhine, the Atlantean Spirit</td>\n",
       "      <td>Aqua</td>\n",
       "      <td>imagens\\Aqua\\17080584.jpg</td>\n",
       "    </tr>\n",
       "    <tr>\n",
       "      <th>4</th>\n",
       "      <td>46358784</td>\n",
       "      <td>Advanced Crystal Beast Emerald Tortoise</td>\n",
       "      <td>Aqua</td>\n",
       "      <td>imagens\\Aqua\\46358784.jpg</td>\n",
       "    </tr>\n",
       "    <tr>\n",
       "      <th>...</th>\n",
       "      <td>...</td>\n",
       "      <td>...</td>\n",
       "      <td>...</td>\n",
       "      <td>...</td>\n",
       "    </tr>\n",
       "    <tr>\n",
       "      <th>8523</th>\n",
       "      <td>85065943</td>\n",
       "      <td>Saint Azamina</td>\n",
       "      <td>Illusion</td>\n",
       "      <td>imagens\\Illusion\\85065943.jpg</td>\n",
       "    </tr>\n",
       "    <tr>\n",
       "      <th>8524</th>\n",
       "      <td>1528054</td>\n",
       "      <td>Silhouhatte Rabbit</td>\n",
       "      <td>Illusion</td>\n",
       "      <td>imagens\\Illusion\\1528054.jpg</td>\n",
       "    </tr>\n",
       "    <tr>\n",
       "      <th>8525</th>\n",
       "      <td>74150658</td>\n",
       "      <td>Talons of Shurilane</td>\n",
       "      <td>Illusion</td>\n",
       "      <td>imagens\\Illusion\\74150658.jpg</td>\n",
       "    </tr>\n",
       "    <tr>\n",
       "      <th>8526</th>\n",
       "      <td>9275482</td>\n",
       "      <td>UFOLight</td>\n",
       "      <td>Illusion</td>\n",
       "      <td>imagens\\Illusion\\9275482.jpg</td>\n",
       "    </tr>\n",
       "    <tr>\n",
       "      <th>8527</th>\n",
       "      <td>36974120</td>\n",
       "      <td>Vouiburial, the Dragon Undertaker</td>\n",
       "      <td>Illusion</td>\n",
       "      <td>imagens\\Illusion\\36974120.jpg</td>\n",
       "    </tr>\n",
       "  </tbody>\n",
       "</table>\n",
       "<p>8528 rows × 4 columns</p>\n",
       "</div>"
      ],
      "text/plain": [
       "            id                                     nome      raca  \\\n",
       "0     11714098                 30,000-Year White Turtle      Aqua   \n",
       "1     18318842                            Abyss Soldier      Aqua   \n",
       "2     88409165                            Abyss Warrior      Aqua   \n",
       "3     17080584         Abyssrhine, the Atlantean Spirit      Aqua   \n",
       "4     46358784  Advanced Crystal Beast Emerald Tortoise      Aqua   \n",
       "...        ...                                      ...       ...   \n",
       "8523  85065943                            Saint Azamina  Illusion   \n",
       "8524   1528054                       Silhouhatte Rabbit  Illusion   \n",
       "8525  74150658                      Talons of Shurilane  Illusion   \n",
       "8526   9275482                                 UFOLight  Illusion   \n",
       "8527  36974120        Vouiburial, the Dragon Undertaker  Illusion   \n",
       "\n",
       "                     caminho_imagem  \n",
       "0         imagens\\Aqua\\11714098.jpg  \n",
       "1         imagens\\Aqua\\18318842.jpg  \n",
       "2         imagens\\Aqua\\88409165.jpg  \n",
       "3         imagens\\Aqua\\17080584.jpg  \n",
       "4         imagens\\Aqua\\46358784.jpg  \n",
       "...                             ...  \n",
       "8523  imagens\\Illusion\\85065943.jpg  \n",
       "8524   imagens\\Illusion\\1528054.jpg  \n",
       "8525  imagens\\Illusion\\74150658.jpg  \n",
       "8526   imagens\\Illusion\\9275482.jpg  \n",
       "8527  imagens\\Illusion\\36974120.jpg  \n",
       "\n",
       "[8528 rows x 4 columns]"
      ]
     },
     "execution_count": 10,
     "metadata": {},
     "output_type": "execute_result"
    }
   ],
   "source": [
    "df = pd.read_csv('db\\\\dados_cartas_yugioh.csv', encoding='utf-8')\n",
    "df"
   ]
  },
  {
   "cell_type": "code",
   "execution_count": 11,
   "id": "a70da32a",
   "metadata": {},
   "outputs": [
    {
     "name": "stdout",
     "output_type": "stream",
     "text": [
      "Mapeamento das classes: {'Aqua': np.int64(0), 'Beast': np.int64(1), 'Beast-Warrior': np.int64(2), 'Dinosaur': np.int64(3), 'Divine-Beast': np.int64(4), 'Dragon': np.int64(5), 'Fairy': np.int64(6), 'Fiend': np.int64(7), 'Fish': np.int64(8), 'Illusion': np.int64(9), 'Insect': np.int64(10), 'Machine': np.int64(11), 'Plant': np.int64(12), 'Psychic': np.int64(13), 'Pyro': np.int64(14), 'Reptile': np.int64(15), 'Rock': np.int64(16), 'Sea Serpent': np.int64(17), 'Spellcaster': np.int64(18), 'Thunder': np.int64(19), 'Warrior': np.int64(20), 'Winged Beast': np.int64(21), 'Wyrm': np.int64(22), 'Zombie': np.int64(23)}\n"
     ]
    }
   ],
   "source": [
    "le = LabelEncoder()\n",
    "df['raca_codificada'] = le.fit_transform(df['raca'])\n",
    "\n",
    "# (Opcional) Ver os mapeamentos\n",
    "classe_to_index = dict(zip(le.classes_, le.transform(le.classes_)))\n",
    "print(\"Mapeamento das classes:\", classe_to_index)"
   ]
  },
  {
   "cell_type": "code",
   "execution_count": 12,
   "id": "834adefb",
   "metadata": {},
   "outputs": [],
   "source": [
    "transform = transforms.Compose([\n",
    "    transforms.Resize((224, 224)),\n",
    "    transforms.ToTensor(),\n",
    "    transforms.Normalize(mean=[0.5, 0.5, 0.5], std=[0.5, 0.5, 0.5])\n",
    "])"
   ]
  },
  {
   "cell_type": "code",
   "execution_count": 13,
   "id": "06672419",
   "metadata": {},
   "outputs": [
    {
     "name": "stdout",
     "output_type": "stream",
     "text": [
      "Batch de imagens: torch.Size([32, 3, 224, 224])\n",
      "Batch de labels: tensor([ 5,  7, 13,  1,  3,  2, 21, 20,  6,  4,  2,  1, 10,  1,  5, 20,  6, 21,\n",
      "         0, 18, 11,  1, 11, 20, 20,  7,  0,  5, 20,  5, 23, 23])\n"
     ]
    }
   ],
   "source": [
    "dataset = CartaDataset(df, transform=transform)\n",
    "dataloader = DataLoader(dataset, batch_size=32, shuffle=True)\n",
    "\n",
    "# 6. Exemplo de iteração pelo dataloader\n",
    "for imagens, labels in dataloader:\n",
    "    print(\"Batch de imagens:\", imagens.shape)\n",
    "    print(\"Batch de labels:\", labels)\n",
    "    break\n"
   ]
  },
  {
   "cell_type": "code",
   "execution_count": 14,
   "id": "8ca7e6c2",
   "metadata": {},
   "outputs": [],
   "source": [
    "device = torch.device(\"cuda\" if torch.cuda.is_available() else \"cpu\")\n",
    "model = SimpleCNN(num_classes=len(le.classes_))\n",
    "model.to(device)\n",
    "\n",
    "criterion = nn.CrossEntropyLoss()\n",
    "optimizer = optim.Adam(model.parameters(), lr=0.001)"
   ]
  },
  {
   "cell_type": "code",
   "execution_count": 17,
   "id": "de0e0168",
   "metadata": {},
   "outputs": [
    {
     "name": "stdout",
     "output_type": "stream",
     "text": [
      "Época [1/10]\n"
     ]
    },
    {
     "ename": "UnidentifiedImageError",
     "evalue": "cannot identify image file 'imagens\\\\Dragon\\\\662855.jpg'",
     "output_type": "error",
     "traceback": [
      "\u001b[31m---------------------------------------------------------------------------\u001b[39m",
      "\u001b[31mUnidentifiedImageError\u001b[39m                    Traceback (most recent call last)",
      "\u001b[36mCell\u001b[39m\u001b[36m \u001b[39m\u001b[32mIn[17]\u001b[39m\u001b[32m, line 7\u001b[39m\n\u001b[32m      5\u001b[39m running_loss = \u001b[32m0.0\u001b[39m\n\u001b[32m      6\u001b[39m \u001b[38;5;28mprint\u001b[39m(\u001b[33mf\u001b[39m\u001b[33m\"\u001b[39m\u001b[33mÉpoca [\u001b[39m\u001b[38;5;132;01m{\u001b[39;00mepoch+\u001b[32m1\u001b[39m\u001b[38;5;132;01m}\u001b[39;00m\u001b[33m/\u001b[39m\u001b[38;5;132;01m{\u001b[39;00mnum_epochs\u001b[38;5;132;01m}\u001b[39;00m\u001b[33m]\u001b[39m\u001b[33m\"\u001b[39m)\n\u001b[32m----> \u001b[39m\u001b[32m7\u001b[39m \u001b[43m\u001b[49m\u001b[38;5;28;43;01mfor\u001b[39;49;00m\u001b[43m \u001b[49m\u001b[43mimages\u001b[49m\u001b[43m,\u001b[49m\u001b[43m \u001b[49m\u001b[43mlabels\u001b[49m\u001b[43m \u001b[49m\u001b[38;5;129;43;01min\u001b[39;49;00m\u001b[43m \u001b[49m\u001b[43mdataloader\u001b[49m\u001b[43m:\u001b[49m\n\u001b[32m      8\u001b[39m \u001b[43m    \u001b[49m\u001b[43mimages\u001b[49m\u001b[43m \u001b[49m\u001b[43m=\u001b[49m\u001b[43m \u001b[49m\u001b[43mimages\u001b[49m\u001b[43m.\u001b[49m\u001b[43mto\u001b[49m\u001b[43m(\u001b[49m\u001b[43mdevice\u001b[49m\u001b[43m)\u001b[49m\n\u001b[32m      9\u001b[39m \u001b[43m    \u001b[49m\u001b[43mlabels\u001b[49m\u001b[43m \u001b[49m\u001b[43m=\u001b[49m\u001b[43m \u001b[49m\u001b[43mlabels\u001b[49m\u001b[43m.\u001b[49m\u001b[43mto\u001b[49m\u001b[43m(\u001b[49m\u001b[43mdevice\u001b[49m\u001b[43m)\u001b[49m\n",
      "\u001b[36mFile \u001b[39m\u001b[32mc:\\Users\\User\\Codes\\Data Science\\ygo_data\\venv\\Lib\\site-packages\\torch\\utils\\data\\dataloader.py:733\u001b[39m, in \u001b[36m_BaseDataLoaderIter.__next__\u001b[39m\u001b[34m(self)\u001b[39m\n\u001b[32m    730\u001b[39m \u001b[38;5;28;01mif\u001b[39;00m \u001b[38;5;28mself\u001b[39m._sampler_iter \u001b[38;5;129;01mis\u001b[39;00m \u001b[38;5;28;01mNone\u001b[39;00m:\n\u001b[32m    731\u001b[39m     \u001b[38;5;66;03m# TODO(https://github.com/pytorch/pytorch/issues/76750)\u001b[39;00m\n\u001b[32m    732\u001b[39m     \u001b[38;5;28mself\u001b[39m._reset()  \u001b[38;5;66;03m# type: ignore[call-arg]\u001b[39;00m\n\u001b[32m--> \u001b[39m\u001b[32m733\u001b[39m data = \u001b[38;5;28;43mself\u001b[39;49m\u001b[43m.\u001b[49m\u001b[43m_next_data\u001b[49m\u001b[43m(\u001b[49m\u001b[43m)\u001b[49m\n\u001b[32m    734\u001b[39m \u001b[38;5;28mself\u001b[39m._num_yielded += \u001b[32m1\u001b[39m\n\u001b[32m    735\u001b[39m \u001b[38;5;28;01mif\u001b[39;00m (\n\u001b[32m    736\u001b[39m     \u001b[38;5;28mself\u001b[39m._dataset_kind == _DatasetKind.Iterable\n\u001b[32m    737\u001b[39m     \u001b[38;5;129;01mand\u001b[39;00m \u001b[38;5;28mself\u001b[39m._IterableDataset_len_called \u001b[38;5;129;01mis\u001b[39;00m \u001b[38;5;129;01mnot\u001b[39;00m \u001b[38;5;28;01mNone\u001b[39;00m\n\u001b[32m    738\u001b[39m     \u001b[38;5;129;01mand\u001b[39;00m \u001b[38;5;28mself\u001b[39m._num_yielded > \u001b[38;5;28mself\u001b[39m._IterableDataset_len_called\n\u001b[32m    739\u001b[39m ):\n",
      "\u001b[36mFile \u001b[39m\u001b[32mc:\\Users\\User\\Codes\\Data Science\\ygo_data\\venv\\Lib\\site-packages\\torch\\utils\\data\\dataloader.py:789\u001b[39m, in \u001b[36m_SingleProcessDataLoaderIter._next_data\u001b[39m\u001b[34m(self)\u001b[39m\n\u001b[32m    787\u001b[39m \u001b[38;5;28;01mdef\u001b[39;00m\u001b[38;5;250m \u001b[39m\u001b[34m_next_data\u001b[39m(\u001b[38;5;28mself\u001b[39m):\n\u001b[32m    788\u001b[39m     index = \u001b[38;5;28mself\u001b[39m._next_index()  \u001b[38;5;66;03m# may raise StopIteration\u001b[39;00m\n\u001b[32m--> \u001b[39m\u001b[32m789\u001b[39m     data = \u001b[38;5;28;43mself\u001b[39;49m\u001b[43m.\u001b[49m\u001b[43m_dataset_fetcher\u001b[49m\u001b[43m.\u001b[49m\u001b[43mfetch\u001b[49m\u001b[43m(\u001b[49m\u001b[43mindex\u001b[49m\u001b[43m)\u001b[49m  \u001b[38;5;66;03m# may raise StopIteration\u001b[39;00m\n\u001b[32m    790\u001b[39m     \u001b[38;5;28;01mif\u001b[39;00m \u001b[38;5;28mself\u001b[39m._pin_memory:\n\u001b[32m    791\u001b[39m         data = _utils.pin_memory.pin_memory(data, \u001b[38;5;28mself\u001b[39m._pin_memory_device)\n",
      "\u001b[36mFile \u001b[39m\u001b[32mc:\\Users\\User\\Codes\\Data Science\\ygo_data\\venv\\Lib\\site-packages\\torch\\utils\\data\\_utils\\fetch.py:52\u001b[39m, in \u001b[36m_MapDatasetFetcher.fetch\u001b[39m\u001b[34m(self, possibly_batched_index)\u001b[39m\n\u001b[32m     50\u001b[39m         data = \u001b[38;5;28mself\u001b[39m.dataset.__getitems__(possibly_batched_index)\n\u001b[32m     51\u001b[39m     \u001b[38;5;28;01melse\u001b[39;00m:\n\u001b[32m---> \u001b[39m\u001b[32m52\u001b[39m         data = [\u001b[38;5;28;43mself\u001b[39;49m\u001b[43m.\u001b[49m\u001b[43mdataset\u001b[49m\u001b[43m[\u001b[49m\u001b[43midx\u001b[49m\u001b[43m]\u001b[49m \u001b[38;5;28;01mfor\u001b[39;00m idx \u001b[38;5;129;01min\u001b[39;00m possibly_batched_index]\n\u001b[32m     53\u001b[39m \u001b[38;5;28;01melse\u001b[39;00m:\n\u001b[32m     54\u001b[39m     data = \u001b[38;5;28mself\u001b[39m.dataset[possibly_batched_index]\n",
      "\u001b[36mFile \u001b[39m\u001b[32mc:\\Users\\User\\Codes\\Data Science\\ygo_data\\utils\\dataset_generator.py:91\u001b[39m, in \u001b[36mCartaDataset.__getitem__\u001b[39m\u001b[34m(self, idx)\u001b[39m\n\u001b[32m     88\u001b[39m \u001b[38;5;28;01mif\u001b[39;00m \u001b[38;5;129;01mnot\u001b[39;00m os.path.exists(img_path):\n\u001b[32m     89\u001b[39m     \u001b[38;5;28;01mraise\u001b[39;00m \u001b[38;5;167;01mFileNotFoundError\u001b[39;00m(\u001b[33mf\u001b[39m\u001b[33m\"\u001b[39m\u001b[33mImagem não encontrada: \u001b[39m\u001b[38;5;132;01m{\u001b[39;00mimg_path\u001b[38;5;132;01m}\u001b[39;00m\u001b[33m\"\u001b[39m)\n\u001b[32m---> \u001b[39m\u001b[32m91\u001b[39m image = \u001b[43mImage\u001b[49m\u001b[43m.\u001b[49m\u001b[43mopen\u001b[49m\u001b[43m(\u001b[49m\u001b[43mimg_path\u001b[49m\u001b[43m)\u001b[49m.convert(\u001b[33m'\u001b[39m\u001b[33mRGB\u001b[39m\u001b[33m'\u001b[39m)\n\u001b[32m     92\u001b[39m label = \u001b[38;5;28mself\u001b[39m.df.iloc[idx][\u001b[33m'\u001b[39m\u001b[33mraca_codificada\u001b[39m\u001b[33m'\u001b[39m]\n\u001b[32m     94\u001b[39m \u001b[38;5;28;01mif\u001b[39;00m \u001b[38;5;28mself\u001b[39m.transform:\n",
      "\u001b[36mFile \u001b[39m\u001b[32mc:\\Users\\User\\Codes\\Data Science\\ygo_data\\venv\\Lib\\site-packages\\PIL\\Image.py:3572\u001b[39m, in \u001b[36mopen\u001b[39m\u001b[34m(fp, mode, formats)\u001b[39m\n\u001b[32m   3570\u001b[39m     warnings.warn(message)\n\u001b[32m   3571\u001b[39m msg = \u001b[33m\"\u001b[39m\u001b[33mcannot identify image file \u001b[39m\u001b[38;5;132;01m%r\u001b[39;00m\u001b[33m\"\u001b[39m % (filename \u001b[38;5;28;01mif\u001b[39;00m filename \u001b[38;5;28;01melse\u001b[39;00m fp)\n\u001b[32m-> \u001b[39m\u001b[32m3572\u001b[39m \u001b[38;5;28;01mraise\u001b[39;00m UnidentifiedImageError(msg)\n",
      "\u001b[31mUnidentifiedImageError\u001b[39m: cannot identify image file 'imagens\\\\Dragon\\\\662855.jpg'"
     ]
    }
   ],
   "source": [
    "num_epochs = 10\n",
    "\n",
    "for epoch in range(num_epochs):\n",
    "    model.train()\n",
    "    running_loss = 0.0\n",
    "    print(f\"Época [{epoch+1}/{num_epochs}]\")\n",
    "    for images, labels in dataloader:\n",
    "        images = images.to(device)\n",
    "        labels = labels.to(device)\n",
    "\n",
    "        optimizer.zero_grad()\n",
    "        outputs = model(images)\n",
    "        loss = criterion(outputs, labels)\n",
    "        loss.backward()\n",
    "        optimizer.step()\n",
    "\n",
    "        running_loss += loss.item() * images.size(0)\n",
    "\n",
    "    epoch_loss = running_loss / len(dataset)\n",
    "    print(f\"Perda da época {epoch+1}: {epoch_loss:.4f}\", end=\"\\n\\n\")\n",
    "    "
   ]
  },
  {
   "cell_type": "code",
   "execution_count": null,
   "id": "58df064c",
   "metadata": {},
   "outputs": [
    {
     "name": "stdout",
     "output_type": "stream",
     "text": [
      "Acurácia no dataset: 100.00%\n"
     ]
    }
   ],
   "source": [
    "model.eval()\n",
    "correct = 0\n",
    "total = 0\n",
    "with torch.no_grad():\n",
    "    for images, labels in dataloader:\n",
    "        images = images.to(device)\n",
    "        labels = labels.to(device)\n",
    "\n",
    "        outputs = model(images)\n",
    "        _, predicted = torch.max(outputs, 1)\n",
    "        total += labels.size(0)\n",
    "        correct += (predicted == labels).sum().item()\n",
    "\n",
    "print(f\"Acurácia no dataset: {100 * correct / total:.2f}%\")"
   ]
  },
  {
   "cell_type": "code",
   "execution_count": null,
   "id": "026517ec",
   "metadata": {},
   "outputs": [],
   "source": []
  }
 ],
 "metadata": {
  "kernelspec": {
   "display_name": "venv",
   "language": "python",
   "name": "python3"
  },
  "language_info": {
   "codemirror_mode": {
    "name": "ipython",
    "version": 3
   },
   "file_extension": ".py",
   "mimetype": "text/x-python",
   "name": "python",
   "nbconvert_exporter": "python",
   "pygments_lexer": "ipython3",
   "version": "3.13.3"
  }
 },
 "nbformat": 4,
 "nbformat_minor": 5
}
