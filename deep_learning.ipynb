{
 "cells": [
  {
   "cell_type": "code",
   "execution_count": 2,
   "id": "73cdb515",
   "metadata": {},
   "outputs": [],
   "source": [
    "import torch\n",
    "import numpy as np\n",
    "import pandas as pd\n",
    "import torch.nn as nn\n",
    "import torch.optim as optim\n",
    "import plotly.express as px\n",
    "from torchvision import transforms\n",
    "from torchvision.models import resnet18, ResNet18_Weights\n",
    "from torch.utils.data import DataLoader\n",
    "from sklearn.preprocessing import LabelEncoder\n",
    "from sklearn.model_selection import train_test_split\n",
    "from sklearn.utils.class_weight import compute_class_weight\n",
    "from sklearn.metrics import classification_report, confusion_matrix\n",
    "from utils.dataset_generator import CartaDataset"
   ]
  },
  {
   "cell_type": "code",
   "execution_count": 3,
   "id": "471ad38e",
   "metadata": {},
   "outputs": [
    {
     "data": {
      "application/vnd.microsoft.datawrangler.viewer.v0+json": {
       "columns": [
        {
         "name": "index",
         "rawType": "int64",
         "type": "integer"
        },
        {
         "name": "id",
         "rawType": "int64",
         "type": "integer"
        },
        {
         "name": "nome",
         "rawType": "object",
         "type": "string"
        },
        {
         "name": "raca",
         "rawType": "object",
         "type": "string"
        },
        {
         "name": "caminho_imagem",
         "rawType": "object",
         "type": "string"
        }
       ],
       "ref": "167138fa-33f4-4840-97bd-d0f61ff0c658",
       "rows": [
        [
         "0",
         "11714098",
         "30,000-Year White Turtle",
         "Aqua",
         "imagens\\Aqua\\11714098.jpg"
        ],
        [
         "1",
         "18318842",
         "Abyss Soldier",
         "Aqua",
         "imagens\\Aqua\\18318842.jpg"
        ],
        [
         "2",
         "88409165",
         "Abyss Warrior",
         "Aqua",
         "imagens\\Aqua\\88409165.jpg"
        ],
        [
         "3",
         "17080584",
         "Abyssrhine, the Atlantean Spirit",
         "Aqua",
         "imagens\\Aqua\\17080584.jpg"
        ],
        [
         "4",
         "46358784",
         "Advanced Crystal Beast Emerald Tortoise",
         "Aqua",
         "imagens\\Aqua\\46358784.jpg"
        ],
        [
         "5",
         "36904469",
         "Akihiron",
         "Aqua",
         "imagens\\Aqua\\36904469.jpg"
        ],
        [
         "6",
         "95174353",
         "Ameba",
         "Aqua",
         "imagens\\Aqua\\95174353.jpg"
        ],
        [
         "7",
         "40173854",
         "Amphibious Bugroth",
         "Aqua",
         "imagens\\Aqua\\40173854.jpg"
        ],
        [
         "8",
         "12436646",
         "Aqua Snake",
         "Aqua",
         "imagens\\Aqua\\12436646.jpg"
        ],
        [
         "9",
         "40916023",
         "Aqua Spirit",
         "Aqua",
         "imagens\\Aqua\\40916023.jpg"
        ],
        [
         "10",
         "92053608",
         "Aquaactress Arowana",
         "Aqua",
         "imagens\\Aqua\\92053608.jpg"
        ],
        [
         "11",
         "66668900",
         "Aquaactress Guppy",
         "Aqua",
         "imagens\\Aqua\\66668900.jpg"
        ],
        [
         "12",
         "39260991",
         "Aquaactress Tetra",
         "Aqua",
         "imagens\\Aqua\\39260991.jpg"
        ],
        [
         "13",
         "22377815",
         "Aquarian Alessa",
         "Aqua",
         "imagens\\Aqua\\22377815.jpg"
        ],
        [
         "14",
         "36151751",
         "Arma Knight",
         "Aqua",
         "imagens\\Aqua\\36151751.jpg"
        ],
        [
         "15",
         "17535588",
         "Armored Starfish",
         "Aqua",
         "imagens\\Aqua\\17535588.jpg"
        ],
        [
         "16",
         "7913375",
         "Artillery Catapult Turtle",
         "Aqua",
         "imagens\\Aqua\\7913375.jpg"
        ],
        [
         "17",
         "10963799",
         "Barrier Statue of the Torrent",
         "Aqua",
         "imagens\\Aqua\\10963799.jpg"
        ],
        [
         "18",
         "99426834",
         "Beastking of the Swamps",
         "Aqua",
         "imagens\\Aqua\\99426834.jpg"
        ],
        [
         "19",
         "49522489",
         "Beelze Frog",
         "Aqua",
         "imagens\\Aqua\\49522489.jpg"
        ],
        [
         "20",
         "94022093",
         "Behegon",
         "Aqua",
         "imagens\\Aqua\\94022093.jpg"
        ],
        [
         "21",
         "60161788",
         "Blizzed, Defender of the Ice Barrier",
         "Aqua",
         "imagens\\Aqua\\60161788.jpg"
        ],
        [
         "22",
         "98456117",
         "Boneheimer",
         "Aqua",
         "imagens\\Aqua\\98456117.jpg"
        ],
        [
         "23",
         "9540040",
         "Boulder Tortoise",
         "Aqua",
         "imagens\\Aqua\\9540040.jpg"
        ],
        [
         "24",
         "95614612",
         "Cannonball Spear Shellfish",
         "Aqua",
         "imagens\\Aqua\\95614612.jpg"
        ],
        [
         "25",
         "95727991",
         "Catapult Turtle",
         "Aqua",
         "imagens\\Aqua\\95727991.jpg"
        ],
        [
         "26",
         "47346782",
         "Centerfrog",
         "Aqua",
         "imagens\\Aqua\\47346782.jpg"
        ],
        [
         "27",
         "18914778",
         "Change Slime",
         "Aqua",
         "imagens\\Aqua\\18914778.jpg"
        ],
        [
         "28",
         "81599449",
         "Chemicritter Carbo Crab",
         "Aqua",
         "imagens\\Aqua\\81599449.jpg"
        ],
        [
         "29",
         "57610714",
         "Cloudian - Eye of the Typhoon",
         "Aqua",
         "imagens\\Aqua\\57610714.jpg"
        ],
        [
         "30",
         "24661486",
         "Cold Enchanter",
         "Aqua",
         "imagens\\Aqua\\24661486.jpg"
        ],
        [
         "31",
         "91782219",
         "Crab Turtle",
         "Aqua",
         "imagens\\Aqua\\91782219.jpg"
        ],
        [
         "32",
         "23950192",
         "Cryomancer of the Ice Barrier",
         "Aqua",
         "imagens\\Aqua\\23950192.jpg"
        ],
        [
         "33",
         "68215963",
         "Crystal Beast Emerald Tortoise",
         "Aqua",
         "imagens\\Aqua\\68215963.jpg"
        ],
        [
         "34",
         "86999951",
         "Crystal God Tistina",
         "Aqua",
         "imagens\\Aqua\\86999951.jpg"
        ],
        [
         "35",
         "61374414",
         "CXyz N.As.Ch. Knight",
         "Aqua",
         "imagens\\Aqua\\61374414.jpg"
        ],
        [
         "36",
         "9910360",
         "D.3.S. Frog",
         "Aqua",
         "imagens\\Aqua\\9910360.jpg"
        ],
        [
         "37",
         "70711847",
         "Danger! Nessie!",
         "Aqua",
         "imagens\\Aqua\\70711847.jpg"
        ],
        [
         "38",
         "17559367",
         "Deep Diver",
         "Aqua",
         "imagens\\Aqua\\17559367.jpg"
        ],
        [
         "39",
         "82498947",
         "Defender of the Ice Barrier",
         "Aqua",
         "imagens\\Aqua\\82498947.jpg"
        ],
        [
         "40",
         "59504256",
         "Demigod of the Tistina",
         "Aqua",
         "imagens\\Aqua\\59504256.jpg"
        ],
        [
         "41",
         "84451804",
         "Des Frog",
         "Aqua",
         "imagens\\Aqua\\84451804.jpg"
        ],
        [
         "42",
         "90311614",
         "Dewdark of the Ice Barrier",
         "Aqua",
         "imagens\\Aqua\\90311614.jpg"
        ],
        [
         "43",
         "69436288",
         "Doom Kraken",
         "Aqua",
         "imagens\\Aqua\\69436288.jpg"
        ],
        [
         "44",
         "24194033",
         "Dorover",
         "Aqua",
         "imagens\\Aqua\\24194033.jpg"
        ],
        [
         "45",
         "24137081",
         "Drill Barnacle",
         "Aqua",
         "imagens\\Aqua\\24137081.jpg"
        ],
        [
         "46",
         "46239604",
         "Dupe Frog",
         "Aqua",
         "imagens\\Aqua\\46239604.jpg"
        ],
        [
         "47",
         "42166000",
         "Egyptian God Slime",
         "Aqua",
         "imagens\\Aqua\\42166000.jpg"
        ],
        [
         "48",
         "95824983",
         "Electric Jellyfish",
         "Aqua",
         "imagens\\Aqua\\95824983.jpg"
        ],
        [
         "49",
         "24326617",
         "Escher the Frost Vassal",
         "Aqua",
         "imagens\\Aqua\\24326617.jpg"
        ]
       ],
       "shape": {
        "columns": 4,
        "rows": 8524
       }
      },
      "text/html": [
       "<div>\n",
       "<style scoped>\n",
       "    .dataframe tbody tr th:only-of-type {\n",
       "        vertical-align: middle;\n",
       "    }\n",
       "\n",
       "    .dataframe tbody tr th {\n",
       "        vertical-align: top;\n",
       "    }\n",
       "\n",
       "    .dataframe thead th {\n",
       "        text-align: right;\n",
       "    }\n",
       "</style>\n",
       "<table border=\"1\" class=\"dataframe\">\n",
       "  <thead>\n",
       "    <tr style=\"text-align: right;\">\n",
       "      <th></th>\n",
       "      <th>id</th>\n",
       "      <th>nome</th>\n",
       "      <th>raca</th>\n",
       "      <th>caminho_imagem</th>\n",
       "    </tr>\n",
       "  </thead>\n",
       "  <tbody>\n",
       "    <tr>\n",
       "      <th>0</th>\n",
       "      <td>11714098</td>\n",
       "      <td>30,000-Year White Turtle</td>\n",
       "      <td>Aqua</td>\n",
       "      <td>imagens\\Aqua\\11714098.jpg</td>\n",
       "    </tr>\n",
       "    <tr>\n",
       "      <th>1</th>\n",
       "      <td>18318842</td>\n",
       "      <td>Abyss Soldier</td>\n",
       "      <td>Aqua</td>\n",
       "      <td>imagens\\Aqua\\18318842.jpg</td>\n",
       "    </tr>\n",
       "    <tr>\n",
       "      <th>2</th>\n",
       "      <td>88409165</td>\n",
       "      <td>Abyss Warrior</td>\n",
       "      <td>Aqua</td>\n",
       "      <td>imagens\\Aqua\\88409165.jpg</td>\n",
       "    </tr>\n",
       "    <tr>\n",
       "      <th>3</th>\n",
       "      <td>17080584</td>\n",
       "      <td>Abyssrhine, the Atlantean Spirit</td>\n",
       "      <td>Aqua</td>\n",
       "      <td>imagens\\Aqua\\17080584.jpg</td>\n",
       "    </tr>\n",
       "    <tr>\n",
       "      <th>4</th>\n",
       "      <td>46358784</td>\n",
       "      <td>Advanced Crystal Beast Emerald Tortoise</td>\n",
       "      <td>Aqua</td>\n",
       "      <td>imagens\\Aqua\\46358784.jpg</td>\n",
       "    </tr>\n",
       "    <tr>\n",
       "      <th>...</th>\n",
       "      <td>...</td>\n",
       "      <td>...</td>\n",
       "      <td>...</td>\n",
       "      <td>...</td>\n",
       "    </tr>\n",
       "    <tr>\n",
       "      <th>8519</th>\n",
       "      <td>85065943</td>\n",
       "      <td>Saint Azamina</td>\n",
       "      <td>Illusion</td>\n",
       "      <td>imagens\\Illusion\\85065943.jpg</td>\n",
       "    </tr>\n",
       "    <tr>\n",
       "      <th>8520</th>\n",
       "      <td>1528054</td>\n",
       "      <td>Silhouhatte Rabbit</td>\n",
       "      <td>Illusion</td>\n",
       "      <td>imagens\\Illusion\\1528054.jpg</td>\n",
       "    </tr>\n",
       "    <tr>\n",
       "      <th>8521</th>\n",
       "      <td>74150658</td>\n",
       "      <td>Talons of Shurilane</td>\n",
       "      <td>Illusion</td>\n",
       "      <td>imagens\\Illusion\\74150658.jpg</td>\n",
       "    </tr>\n",
       "    <tr>\n",
       "      <th>8522</th>\n",
       "      <td>9275482</td>\n",
       "      <td>UFOLight</td>\n",
       "      <td>Illusion</td>\n",
       "      <td>imagens\\Illusion\\9275482.jpg</td>\n",
       "    </tr>\n",
       "    <tr>\n",
       "      <th>8523</th>\n",
       "      <td>36974120</td>\n",
       "      <td>Vouiburial, the Dragon Undertaker</td>\n",
       "      <td>Illusion</td>\n",
       "      <td>imagens\\Illusion\\36974120.jpg</td>\n",
       "    </tr>\n",
       "  </tbody>\n",
       "</table>\n",
       "<p>8524 rows × 4 columns</p>\n",
       "</div>"
      ],
      "text/plain": [
       "            id                                     nome      raca  \\\n",
       "0     11714098                 30,000-Year White Turtle      Aqua   \n",
       "1     18318842                            Abyss Soldier      Aqua   \n",
       "2     88409165                            Abyss Warrior      Aqua   \n",
       "3     17080584         Abyssrhine, the Atlantean Spirit      Aqua   \n",
       "4     46358784  Advanced Crystal Beast Emerald Tortoise      Aqua   \n",
       "...        ...                                      ...       ...   \n",
       "8519  85065943                            Saint Azamina  Illusion   \n",
       "8520   1528054                       Silhouhatte Rabbit  Illusion   \n",
       "8521  74150658                      Talons of Shurilane  Illusion   \n",
       "8522   9275482                                 UFOLight  Illusion   \n",
       "8523  36974120        Vouiburial, the Dragon Undertaker  Illusion   \n",
       "\n",
       "                     caminho_imagem  \n",
       "0         imagens\\Aqua\\11714098.jpg  \n",
       "1         imagens\\Aqua\\18318842.jpg  \n",
       "2         imagens\\Aqua\\88409165.jpg  \n",
       "3         imagens\\Aqua\\17080584.jpg  \n",
       "4         imagens\\Aqua\\46358784.jpg  \n",
       "...                             ...  \n",
       "8519  imagens\\Illusion\\85065943.jpg  \n",
       "8520   imagens\\Illusion\\1528054.jpg  \n",
       "8521  imagens\\Illusion\\74150658.jpg  \n",
       "8522   imagens\\Illusion\\9275482.jpg  \n",
       "8523  imagens\\Illusion\\36974120.jpg  \n",
       "\n",
       "[8524 rows x 4 columns]"
      ]
     },
     "execution_count": 3,
     "metadata": {},
     "output_type": "execute_result"
    }
   ],
   "source": [
    "df = pd.read_csv('db\\\\dados_cartas_yugioh.csv', encoding='utf-8')\n",
    "df"
   ]
  },
  {
   "cell_type": "code",
   "execution_count": null,
   "id": "a70da32a",
   "metadata": {},
   "outputs": [
    {
     "name": "stdout",
     "output_type": "stream",
     "text": [
      "Mapeamento das classes: {'Aqua': np.int64(0), 'Beast': np.int64(1), 'Beast-Warrior': np.int64(2), 'Dinosaur': np.int64(3), 'Divine-Beast': np.int64(4), 'Dragon': np.int64(5), 'Fairy': np.int64(6), 'Fiend': np.int64(7), 'Fish': np.int64(8), 'Illusion': np.int64(9), 'Insect': np.int64(10), 'Machine': np.int64(11), 'Plant': np.int64(12), 'Psychic': np.int64(13), 'Pyro': np.int64(14), 'Reptile': np.int64(15), 'Rock': np.int64(16), 'Sea Serpent': np.int64(17), 'Spellcaster': np.int64(18), 'Thunder': np.int64(19), 'Warrior': np.int64(20), 'Winged Beast': np.int64(21), 'Wyrm': np.int64(22), 'Zombie': np.int64(23)}\n"
     ]
    }
   ],
   "source": [
    "le = LabelEncoder()\n",
    "df['raca_codificada'] = le.fit_transform(df['raca'])\n",
    "classes = le.classes_\n",
    "classe_to_index = dict(zip(classes, le.transform(classes)))\n",
    "print(\"Mapeamento das classes:\", classe_to_index)"
   ]
  },
  {
   "cell_type": "code",
   "execution_count": 5,
   "id": "9741af46",
   "metadata": {},
   "outputs": [
    {
     "name": "stdout",
     "output_type": "stream",
     "text": [
      "Tamanho do conjunto de treinamento: 6819\n",
      "Tamanho do conjunto de validação: 1705\n"
     ]
    }
   ],
   "source": [
    "df_train, df_val = train_test_split(df, test_size=0.2, \n",
    "                                       stratify=df['raca'], \n",
    "                                       random_state=42)\n",
    "\n",
    "transform = transforms.Compose([\n",
    "    transforms.Resize((224, 224)),\n",
    "    transforms.ToTensor(),\n",
    "    transforms.Normalize(             \n",
    "        mean=[0.485, 0.456, 0.406], \n",
    "        std=[0.229, 0.224, 0.225]\n",
    "        ),\n",
    "])\n",
    "\n",
    "print(\"Tamanho do conjunto de treinamento:\", len(df_train))\n",
    "print(\"Tamanho do conjunto de validação:\", len(df_val))"
   ]
  },
  {
   "cell_type": "code",
   "execution_count": 6,
   "id": "06531e1b",
   "metadata": {},
   "outputs": [
    {
     "name": "stdout",
     "output_type": "stream",
     "text": [
      "Batches de treino: 214\n",
      "Batches de validação: 54\n"
     ]
    }
   ],
   "source": [
    "train_dataset = CartaDataset(df_train, transform=transform)\n",
    "val_dataset = CartaDataset(df_val, transform=transform)\n",
    "\n",
    "train_loader = DataLoader(train_dataset, batch_size=32, shuffle=True, num_workers=2)\n",
    "val_loader = DataLoader(val_dataset, batch_size=32, shuffle=True, num_workers=2)\n",
    "\n",
    "print(f\"Batches de treino: {len(train_loader)}\")\n",
    "print(f\"Batches de validação: {len(val_loader)}\")"
   ]
  },
  {
   "cell_type": "code",
   "execution_count": 7,
   "id": "8ca7e6c2",
   "metadata": {},
   "outputs": [],
   "source": [
    "device = torch.device(\"cuda\" if torch.cuda.is_available() else \"cpu\")\n",
    "weights = ResNet18_Weights.DEFAULT\n",
    "model = resnet18(weights=weights)\n",
    "num_ftrs = model.fc.in_features\n",
    "model.fc = nn.Linear(num_ftrs, len(classes))\n",
    "model = model.to(device)\n",
    "criterion = nn.CrossEntropyLoss()"
   ]
  },
  {
   "cell_type": "code",
   "execution_count": 8,
   "id": "f4089167",
   "metadata": {},
   "outputs": [],
   "source": [
    "class_weights = compute_class_weight(\n",
    "    class_weight='balanced',\n",
    "    classes=np.unique(df['raca_codificada']),\n",
    "    y=df['raca_codificada']\n",
    ")\n",
    "class_weights_tensor = torch.tensor(class_weights, dtype=torch.float).to(device)\n",
    "\n",
    "# 2. Critério com pesos\n",
    "criterion = nn.CrossEntropyLoss(weight=class_weights_tensor)\n",
    "\n",
    "# 3. Liberar treino em todas as camadas\n",
    "for param in model.parameters():\n",
    "    param.requires_grad = True\n",
    "\n",
    "# 4. Otimizador\n",
    "optimizer = optim.Adam(model.parameters(), lr=0.0001)\n",
    "\n",
    "# 5. Treinamento com validação\n",
    "num_epochs = 50\n",
    "best_val_loss = float('inf')\n",
    "patience = 5\n",
    "trigger_times = 0"
   ]
  },
  {
   "cell_type": "code",
   "execution_count": 9,
   "id": "de0e0168",
   "metadata": {},
   "outputs": [
    {
     "name": "stdout",
     "output_type": "stream",
     "text": [
      "Epoch 1/1 - Loss treino: 3.3727\n",
      "Validação após a epoch 1:\n"
     ]
    },
    {
     "name": "stderr",
     "output_type": "stream",
     "text": [
      "c:\\Users\\User\\Codes\\Data Science\\ygo_data\\venv\\Lib\\site-packages\\sklearn\\metrics\\_classification.py:1706: UndefinedMetricWarning: Precision is ill-defined and being set to 0.0 in labels with no predicted samples. Use `zero_division` parameter to control this behavior.\n",
      "  _warn_prf(average, modifier, f\"{metric.capitalize()} is\", result.shape[0])\n",
      "c:\\Users\\User\\Codes\\Data Science\\ygo_data\\venv\\Lib\\site-packages\\sklearn\\metrics\\_classification.py:1706: UndefinedMetricWarning: Precision is ill-defined and being set to 0.0 in labels with no predicted samples. Use `zero_division` parameter to control this behavior.\n",
      "  _warn_prf(average, modifier, f\"{metric.capitalize()} is\", result.shape[0])\n",
      "c:\\Users\\User\\Codes\\Data Science\\ygo_data\\venv\\Lib\\site-packages\\sklearn\\metrics\\_classification.py:1706: UndefinedMetricWarning: Precision is ill-defined and being set to 0.0 in labels with no predicted samples. Use `zero_division` parameter to control this behavior.\n",
      "  _warn_prf(average, modifier, f\"{metric.capitalize()} is\", result.shape[0])\n"
     ]
    },
    {
     "name": "stdout",
     "output_type": "stream",
     "text": [
      "               precision    recall  f1-score   support\n",
      "\n",
      "         Aqua       0.00      0.00      0.00        56\n",
      "        Beast       0.00      0.00      0.00        83\n",
      "Beast-Warrior       0.00      0.00      0.00        51\n",
      "     Dinosaur       0.00      0.00      0.00        29\n",
      " Divine-Beast       0.00      0.00      0.00         1\n",
      "       Dragon       0.11      0.01      0.01       151\n",
      "        Fairy       0.06      0.06      0.06       111\n",
      "        Fiend       0.04      0.01      0.01       170\n",
      "         Fish       0.02      0.72      0.04        29\n",
      "     Illusion       0.00      0.00      0.00         7\n",
      "       Insect       0.03      0.17      0.06        53\n",
      "      Machine       0.07      0.01      0.01       199\n",
      "        Plant       0.00      0.00      0.00        49\n",
      "      Psychic       0.00      0.00      0.00        41\n",
      "         Pyro       0.00      0.00      0.00        31\n",
      "      Reptile       0.00      0.00      0.00        38\n",
      "         Rock       0.04      0.02      0.03        52\n",
      "  Sea Serpent       0.00      0.00      0.00        19\n",
      "  Spellcaster       0.15      0.01      0.02       150\n",
      "      Thunder       0.02      0.04      0.02        28\n",
      "      Warrior       0.00      0.00      0.00       221\n",
      " Winged Beast       0.00      0.00      0.00        66\n",
      "         Wyrm       0.04      0.05      0.04        19\n",
      "       Zombie       0.00      0.00      0.00        51\n",
      "\n",
      "     accuracy                           0.03      1705\n",
      "    macro avg       0.02      0.05      0.01      1705\n",
      " weighted avg       0.04      0.03      0.01      1705\n",
      "\n"
     ]
    }
   ],
   "source": [
    "num_epochs = 1\n",
    "for epoch in range(num_epochs):\n",
    "    model.train()\n",
    "    running_loss = 0\n",
    "\n",
    "    for images, labels in train_loader:\n",
    "        images, labels = images.to(device), labels.to(device)\n",
    "        outputs = model(images)\n",
    "        loss = criterion(outputs, labels)\n",
    "        loss.backward()\n",
    "\n",
    "        running_loss += loss.item() * images.size(0)\n",
    "\n",
    "    epoch_loss = running_loss / len(train_dataset)\n",
    "    print(f\"Epoch {epoch+1}/{num_epochs} - Loss treino: {epoch_loss:.4f}\")\n",
    "\n",
    "    print(f\"Validação após a epoch {epoch+1}:\")\n",
    "    model.eval()\n",
    "    y_true, y_pred = [], []\n",
    "\n",
    "    with torch.no_grad():\n",
    "        for imgs, labels in val_loader:\n",
    "            imgs = imgs.to(device)\n",
    "            labels = labels.to(device)\n",
    "            outputs = model(imgs)\n",
    "            _, preds = torch.max(outputs, 1)\n",
    "            y_true.extend(labels.cpu().numpy())\n",
    "            y_pred.extend(preds.cpu().numpy())\n",
    "    print(classification_report(y_true, y_pred, target_names=classes))\n",
    "    cm = confusion_matrix(y_true, y_pred)\n",
    "    px.imshow(cm)"
   ]
  },
  {
   "cell_type": "code",
   "execution_count": 10,
   "id": "026517ec",
   "metadata": {},
   "outputs": [
    {
     "data": {
      "application/vnd.plotly.v1+json": {
       "config": {
        "plotlyServerURL": "https://plot.ly"
       },
       "data": [
        {
         "coloraxis": "coloraxis",
         "hovertemplate": "x: %{x}<br>y: %{y}<br>color: %{z}<extra></extra>",
         "name": "0",
         "type": "heatmap",
         "xaxis": "x",
         "yaxis": "y",
         "z": {
          "bdata": "AAAAAAAAAAAAAAAAAAABACcAAAAIAAIAAAAAAAAAAAAAAAAAAAADAAAAAAACAAEAAAAAAAAAAAACAAEACgABADEAAAAKAAAAAAAAAAAAAAABAAAAAQAEAAAAAAABAAMAAAAAAAAAAAABAAEAAgAAACIAAAAIAAEAAAAAAAAAAAABAAAAAAADAAAAAAAAAAAAAQAAAAAAAAAAAAAAAwABABMAAAAEAAAAAAAAAAAAAAAAAAAAAAABAAAAAAAAAAAAAAAAAAAAAAAAAAAAAAAAAAAAAAABAAAAAAAAAAAAAAAAAAAAAAAAAAAAAAAAAAAAAQAAAAAAAAAAAAEADAAFAGIAAAAWAAEAAAAAAAAAAAAAAAAAAwADAAAAAAADAAIAAwAAAAAAAAABAAAABwACAEoAAAASAAEAAAAAAAAAAAAAAAAAAAAEAAAAAAAAAAEAAAAAAAAAAAAGAAEADAABAHEAAAAaAAIAAAAAAAAAAAABAAAAAAAGAAAAAAABAAEAAAAAAAAAAAAAAAEAAgAAABUAAAACAAAAAAAAAAAAAAAAAAAAAwAAAAAAAAAAAAAAAAAAAAAAAAAAAAAAAAAAAAQAAAACAAAAAAAAAAAAAAAAAAAAAAAAAAAAAAABAAAAAQAAAAAAAAAEAAAABwAAABoAAAAJAAAAAAAAAAAAAAABAAAAAAADAAEAAAAAAAEAAAAAAAEAAAADAAAAFgADAHYAAAAjAAEAAAAAAAAAAAADAAAAAAAJAAAAAAAEAAAAAAAAAAAAAAACAAAABQAAACEAAAAEAAIAAAAAAAAAAAAAAAAAAQABAAAAAAABAAAAAAAAAAAAAAAAAAEAAgAAABgAAQAJAAAAAAAAAAAAAAADAAAAAAAAAAAAAAAAAAEAAQAAAAAAAAABAAAAAwAAAA4AAAAGAAEAAAAAAAAAAAACAAAAAAADAAAAAAAAAAAAAAAAAAAAAAAAAAAAAQACABcAAAAKAAAAAAAAAAAAAAAAAAAAAAACAAAAAAAAAAAAAAAAAAAAAAABAAAACAAAABkAAAANAAAAAAAAAAAAAAABAAAAAAAEAAAAAAAAAAAAAAAAAAAAAAABAAAAAAAAAA4AAAABAAAAAAAAAAAAAAAAAAAAAQAAAAAAAAACAAAAAAABAAAAAAABAAEABgACAGsAAQATAAAAAAAAAAAAAAACAAAAAgAFAAAAAAACAAEAAAAAAAAAAAAAAAAAAQAAABcAAAACAAEAAAAAAAAAAAAAAAAAAAABAAAAAAAAAAAAAQAAAAAAAAAEAAIACgAEAI8AAAAhAAIAAAAAAAAAAAAHAAAAAgAHAAAAAAAEAAIAAAAAAAAAAAAAAAAAAgABADAAAAAFAAAAAAAAAAAAAAAAAAAAAAAEAAAAAAAFAAEAAAAAAAAAAAAAAAAAAAAAAA0AAAAFAAAAAAAAAAAAAAAAAAAAAAAAAAAAAAABAAAAAAAAAAAAAAACAAAABQAAACAAAAAIAAEAAAAAAAAAAAACAAAAAAAAAAAAAAABAAAA",
          "dtype": "i2",
          "shape": "24, 24"
         }
        }
       ],
       "layout": {
        "coloraxis": {
         "colorscale": [
          [
           0,
           "#0d0887"
          ],
          [
           0.1111111111111111,
           "#46039f"
          ],
          [
           0.2222222222222222,
           "#7201a8"
          ],
          [
           0.3333333333333333,
           "#9c179e"
          ],
          [
           0.4444444444444444,
           "#bd3786"
          ],
          [
           0.5555555555555556,
           "#d8576b"
          ],
          [
           0.6666666666666666,
           "#ed7953"
          ],
          [
           0.7777777777777778,
           "#fb9f3a"
          ],
          [
           0.8888888888888888,
           "#fdca26"
          ],
          [
           1,
           "#f0f921"
          ]
         ]
        },
        "margin": {
         "t": 60
        },
        "template": {
         "data": {
          "bar": [
           {
            "error_x": {
             "color": "#2a3f5f"
            },
            "error_y": {
             "color": "#2a3f5f"
            },
            "marker": {
             "line": {
              "color": "#E5ECF6",
              "width": 0.5
             },
             "pattern": {
              "fillmode": "overlay",
              "size": 10,
              "solidity": 0.2
             }
            },
            "type": "bar"
           }
          ],
          "barpolar": [
           {
            "marker": {
             "line": {
              "color": "#E5ECF6",
              "width": 0.5
             },
             "pattern": {
              "fillmode": "overlay",
              "size": 10,
              "solidity": 0.2
             }
            },
            "type": "barpolar"
           }
          ],
          "carpet": [
           {
            "aaxis": {
             "endlinecolor": "#2a3f5f",
             "gridcolor": "white",
             "linecolor": "white",
             "minorgridcolor": "white",
             "startlinecolor": "#2a3f5f"
            },
            "baxis": {
             "endlinecolor": "#2a3f5f",
             "gridcolor": "white",
             "linecolor": "white",
             "minorgridcolor": "white",
             "startlinecolor": "#2a3f5f"
            },
            "type": "carpet"
           }
          ],
          "choropleth": [
           {
            "colorbar": {
             "outlinewidth": 0,
             "ticks": ""
            },
            "type": "choropleth"
           }
          ],
          "contour": [
           {
            "colorbar": {
             "outlinewidth": 0,
             "ticks": ""
            },
            "colorscale": [
             [
              0,
              "#0d0887"
             ],
             [
              0.1111111111111111,
              "#46039f"
             ],
             [
              0.2222222222222222,
              "#7201a8"
             ],
             [
              0.3333333333333333,
              "#9c179e"
             ],
             [
              0.4444444444444444,
              "#bd3786"
             ],
             [
              0.5555555555555556,
              "#d8576b"
             ],
             [
              0.6666666666666666,
              "#ed7953"
             ],
             [
              0.7777777777777778,
              "#fb9f3a"
             ],
             [
              0.8888888888888888,
              "#fdca26"
             ],
             [
              1,
              "#f0f921"
             ]
            ],
            "type": "contour"
           }
          ],
          "contourcarpet": [
           {
            "colorbar": {
             "outlinewidth": 0,
             "ticks": ""
            },
            "type": "contourcarpet"
           }
          ],
          "heatmap": [
           {
            "colorbar": {
             "outlinewidth": 0,
             "ticks": ""
            },
            "colorscale": [
             [
              0,
              "#0d0887"
             ],
             [
              0.1111111111111111,
              "#46039f"
             ],
             [
              0.2222222222222222,
              "#7201a8"
             ],
             [
              0.3333333333333333,
              "#9c179e"
             ],
             [
              0.4444444444444444,
              "#bd3786"
             ],
             [
              0.5555555555555556,
              "#d8576b"
             ],
             [
              0.6666666666666666,
              "#ed7953"
             ],
             [
              0.7777777777777778,
              "#fb9f3a"
             ],
             [
              0.8888888888888888,
              "#fdca26"
             ],
             [
              1,
              "#f0f921"
             ]
            ],
            "type": "heatmap"
           }
          ],
          "histogram": [
           {
            "marker": {
             "pattern": {
              "fillmode": "overlay",
              "size": 10,
              "solidity": 0.2
             }
            },
            "type": "histogram"
           }
          ],
          "histogram2d": [
           {
            "colorbar": {
             "outlinewidth": 0,
             "ticks": ""
            },
            "colorscale": [
             [
              0,
              "#0d0887"
             ],
             [
              0.1111111111111111,
              "#46039f"
             ],
             [
              0.2222222222222222,
              "#7201a8"
             ],
             [
              0.3333333333333333,
              "#9c179e"
             ],
             [
              0.4444444444444444,
              "#bd3786"
             ],
             [
              0.5555555555555556,
              "#d8576b"
             ],
             [
              0.6666666666666666,
              "#ed7953"
             ],
             [
              0.7777777777777778,
              "#fb9f3a"
             ],
             [
              0.8888888888888888,
              "#fdca26"
             ],
             [
              1,
              "#f0f921"
             ]
            ],
            "type": "histogram2d"
           }
          ],
          "histogram2dcontour": [
           {
            "colorbar": {
             "outlinewidth": 0,
             "ticks": ""
            },
            "colorscale": [
             [
              0,
              "#0d0887"
             ],
             [
              0.1111111111111111,
              "#46039f"
             ],
             [
              0.2222222222222222,
              "#7201a8"
             ],
             [
              0.3333333333333333,
              "#9c179e"
             ],
             [
              0.4444444444444444,
              "#bd3786"
             ],
             [
              0.5555555555555556,
              "#d8576b"
             ],
             [
              0.6666666666666666,
              "#ed7953"
             ],
             [
              0.7777777777777778,
              "#fb9f3a"
             ],
             [
              0.8888888888888888,
              "#fdca26"
             ],
             [
              1,
              "#f0f921"
             ]
            ],
            "type": "histogram2dcontour"
           }
          ],
          "mesh3d": [
           {
            "colorbar": {
             "outlinewidth": 0,
             "ticks": ""
            },
            "type": "mesh3d"
           }
          ],
          "parcoords": [
           {
            "line": {
             "colorbar": {
              "outlinewidth": 0,
              "ticks": ""
             }
            },
            "type": "parcoords"
           }
          ],
          "pie": [
           {
            "automargin": true,
            "type": "pie"
           }
          ],
          "scatter": [
           {
            "fillpattern": {
             "fillmode": "overlay",
             "size": 10,
             "solidity": 0.2
            },
            "type": "scatter"
           }
          ],
          "scatter3d": [
           {
            "line": {
             "colorbar": {
              "outlinewidth": 0,
              "ticks": ""
             }
            },
            "marker": {
             "colorbar": {
              "outlinewidth": 0,
              "ticks": ""
             }
            },
            "type": "scatter3d"
           }
          ],
          "scattercarpet": [
           {
            "marker": {
             "colorbar": {
              "outlinewidth": 0,
              "ticks": ""
             }
            },
            "type": "scattercarpet"
           }
          ],
          "scattergeo": [
           {
            "marker": {
             "colorbar": {
              "outlinewidth": 0,
              "ticks": ""
             }
            },
            "type": "scattergeo"
           }
          ],
          "scattergl": [
           {
            "marker": {
             "colorbar": {
              "outlinewidth": 0,
              "ticks": ""
             }
            },
            "type": "scattergl"
           }
          ],
          "scattermap": [
           {
            "marker": {
             "colorbar": {
              "outlinewidth": 0,
              "ticks": ""
             }
            },
            "type": "scattermap"
           }
          ],
          "scattermapbox": [
           {
            "marker": {
             "colorbar": {
              "outlinewidth": 0,
              "ticks": ""
             }
            },
            "type": "scattermapbox"
           }
          ],
          "scatterpolar": [
           {
            "marker": {
             "colorbar": {
              "outlinewidth": 0,
              "ticks": ""
             }
            },
            "type": "scatterpolar"
           }
          ],
          "scatterpolargl": [
           {
            "marker": {
             "colorbar": {
              "outlinewidth": 0,
              "ticks": ""
             }
            },
            "type": "scatterpolargl"
           }
          ],
          "scatterternary": [
           {
            "marker": {
             "colorbar": {
              "outlinewidth": 0,
              "ticks": ""
             }
            },
            "type": "scatterternary"
           }
          ],
          "surface": [
           {
            "colorbar": {
             "outlinewidth": 0,
             "ticks": ""
            },
            "colorscale": [
             [
              0,
              "#0d0887"
             ],
             [
              0.1111111111111111,
              "#46039f"
             ],
             [
              0.2222222222222222,
              "#7201a8"
             ],
             [
              0.3333333333333333,
              "#9c179e"
             ],
             [
              0.4444444444444444,
              "#bd3786"
             ],
             [
              0.5555555555555556,
              "#d8576b"
             ],
             [
              0.6666666666666666,
              "#ed7953"
             ],
             [
              0.7777777777777778,
              "#fb9f3a"
             ],
             [
              0.8888888888888888,
              "#fdca26"
             ],
             [
              1,
              "#f0f921"
             ]
            ],
            "type": "surface"
           }
          ],
          "table": [
           {
            "cells": {
             "fill": {
              "color": "#EBF0F8"
             },
             "line": {
              "color": "white"
             }
            },
            "header": {
             "fill": {
              "color": "#C8D4E3"
             },
             "line": {
              "color": "white"
             }
            },
            "type": "table"
           }
          ]
         },
         "layout": {
          "annotationdefaults": {
           "arrowcolor": "#2a3f5f",
           "arrowhead": 0,
           "arrowwidth": 1
          },
          "autotypenumbers": "strict",
          "coloraxis": {
           "colorbar": {
            "outlinewidth": 0,
            "ticks": ""
           }
          },
          "colorscale": {
           "diverging": [
            [
             0,
             "#8e0152"
            ],
            [
             0.1,
             "#c51b7d"
            ],
            [
             0.2,
             "#de77ae"
            ],
            [
             0.3,
             "#f1b6da"
            ],
            [
             0.4,
             "#fde0ef"
            ],
            [
             0.5,
             "#f7f7f7"
            ],
            [
             0.6,
             "#e6f5d0"
            ],
            [
             0.7,
             "#b8e186"
            ],
            [
             0.8,
             "#7fbc41"
            ],
            [
             0.9,
             "#4d9221"
            ],
            [
             1,
             "#276419"
            ]
           ],
           "sequential": [
            [
             0,
             "#0d0887"
            ],
            [
             0.1111111111111111,
             "#46039f"
            ],
            [
             0.2222222222222222,
             "#7201a8"
            ],
            [
             0.3333333333333333,
             "#9c179e"
            ],
            [
             0.4444444444444444,
             "#bd3786"
            ],
            [
             0.5555555555555556,
             "#d8576b"
            ],
            [
             0.6666666666666666,
             "#ed7953"
            ],
            [
             0.7777777777777778,
             "#fb9f3a"
            ],
            [
             0.8888888888888888,
             "#fdca26"
            ],
            [
             1,
             "#f0f921"
            ]
           ],
           "sequentialminus": [
            [
             0,
             "#0d0887"
            ],
            [
             0.1111111111111111,
             "#46039f"
            ],
            [
             0.2222222222222222,
             "#7201a8"
            ],
            [
             0.3333333333333333,
             "#9c179e"
            ],
            [
             0.4444444444444444,
             "#bd3786"
            ],
            [
             0.5555555555555556,
             "#d8576b"
            ],
            [
             0.6666666666666666,
             "#ed7953"
            ],
            [
             0.7777777777777778,
             "#fb9f3a"
            ],
            [
             0.8888888888888888,
             "#fdca26"
            ],
            [
             1,
             "#f0f921"
            ]
           ]
          },
          "colorway": [
           "#636efa",
           "#EF553B",
           "#00cc96",
           "#ab63fa",
           "#FFA15A",
           "#19d3f3",
           "#FF6692",
           "#B6E880",
           "#FF97FF",
           "#FECB52"
          ],
          "font": {
           "color": "#2a3f5f"
          },
          "geo": {
           "bgcolor": "white",
           "lakecolor": "white",
           "landcolor": "#E5ECF6",
           "showlakes": true,
           "showland": true,
           "subunitcolor": "white"
          },
          "hoverlabel": {
           "align": "left"
          },
          "hovermode": "closest",
          "mapbox": {
           "style": "light"
          },
          "paper_bgcolor": "white",
          "plot_bgcolor": "#E5ECF6",
          "polar": {
           "angularaxis": {
            "gridcolor": "white",
            "linecolor": "white",
            "ticks": ""
           },
           "bgcolor": "#E5ECF6",
           "radialaxis": {
            "gridcolor": "white",
            "linecolor": "white",
            "ticks": ""
           }
          },
          "scene": {
           "xaxis": {
            "backgroundcolor": "#E5ECF6",
            "gridcolor": "white",
            "gridwidth": 2,
            "linecolor": "white",
            "showbackground": true,
            "ticks": "",
            "zerolinecolor": "white"
           },
           "yaxis": {
            "backgroundcolor": "#E5ECF6",
            "gridcolor": "white",
            "gridwidth": 2,
            "linecolor": "white",
            "showbackground": true,
            "ticks": "",
            "zerolinecolor": "white"
           },
           "zaxis": {
            "backgroundcolor": "#E5ECF6",
            "gridcolor": "white",
            "gridwidth": 2,
            "linecolor": "white",
            "showbackground": true,
            "ticks": "",
            "zerolinecolor": "white"
           }
          },
          "shapedefaults": {
           "line": {
            "color": "#2a3f5f"
           }
          },
          "ternary": {
           "aaxis": {
            "gridcolor": "white",
            "linecolor": "white",
            "ticks": ""
           },
           "baxis": {
            "gridcolor": "white",
            "linecolor": "white",
            "ticks": ""
           },
           "bgcolor": "#E5ECF6",
           "caxis": {
            "gridcolor": "white",
            "linecolor": "white",
            "ticks": ""
           }
          },
          "title": {
           "x": 0.05
          },
          "xaxis": {
           "automargin": true,
           "gridcolor": "white",
           "linecolor": "white",
           "ticks": "",
           "title": {
            "standoff": 15
           },
           "zerolinecolor": "white",
           "zerolinewidth": 2
          },
          "yaxis": {
           "automargin": true,
           "gridcolor": "white",
           "linecolor": "white",
           "ticks": "",
           "title": {
            "standoff": 15
           },
           "zerolinecolor": "white",
           "zerolinewidth": 2
          }
         }
        },
        "xaxis": {
         "anchor": "y",
         "constrain": "domain",
         "domain": [
          0,
          1
         ],
         "scaleanchor": "y"
        },
        "yaxis": {
         "anchor": "x",
         "autorange": "reversed",
         "constrain": "domain",
         "domain": [
          0,
          1
         ]
        }
       }
      }
     },
     "metadata": {},
     "output_type": "display_data"
    }
   ],
   "source": [
    "px.imshow(cm)"
   ]
  },
  {
   "cell_type": "code",
   "execution_count": null,
   "id": "2418d695",
   "metadata": {},
   "outputs": [],
   "source": []
  }
 ],
 "metadata": {
  "kernelspec": {
   "display_name": "venv",
   "language": "python",
   "name": "python3"
  },
  "language_info": {
   "codemirror_mode": {
    "name": "ipython",
    "version": 3
   },
   "file_extension": ".py",
   "mimetype": "text/x-python",
   "name": "python",
   "nbconvert_exporter": "python",
   "pygments_lexer": "ipython3",
   "version": "3.13.3"
  }
 },
 "nbformat": 4,
 "nbformat_minor": 5
}
